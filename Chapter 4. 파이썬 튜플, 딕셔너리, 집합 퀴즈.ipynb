{
 "cells": [
  {
   "cell_type": "markdown",
   "metadata": {},
   "source": [
    "## Exercise 49.  데이터 구조 (튜플)\n",
    "- a, b, c, d, e를 저장하는 튜플을 만들고 첫 번째 튜플값과 마지막 번째 튜플값을 출력하세요"
   ]
  },
  {
   "cell_type": "code",
   "execution_count": 5,
   "metadata": {},
   "outputs": [
    {
     "name": "stdout",
     "output_type": "stream",
     "text": [
      "a e\n"
     ]
    }
   ],
   "source": [
    "tuple_data = (\"a\", \"b\", \"c\", \"d\", \"e\")\n",
    "print(tuple_data[0], tuple_data[4])"
   ]
  },
  {
   "cell_type": "markdown",
   "metadata": {},
   "source": [
    "## Exercise 50. 데이터 구조 (튜플)\n",
    "- 다음 코드를 작성해서 실행해보고 에러가 나는 이유를 설명하세요.\n",
    "    - 실행코드\n",
    "   ```python\n",
    "    tupledata = ('dave', 'fun-coding', 'endless')\n",
    "tupledata[0] = 'david'\n",
    "    ```\n",
    "    - 에러\n",
    "   \n",
    "```python\n",
    "    TypeError                                 Traceback (most recent call last)\n",
    "<ipython-input-2-db4a259aad24> in <module>()\n",
    "      1 tupledata = ('dave', 'fun-coding', 'endless')\n",
    "----> 2 tupledata[0] = 'david'\n",
    "\n",
    "TypeError: 'tuple' object does not support item assignment\n",
    "```"
   ]
  },
  {
   "cell_type": "code",
   "execution_count": 6,
   "metadata": {},
   "outputs": [
    {
     "ename": "TypeError",
     "evalue": "'tuple' object does not support item assignment",
     "output_type": "error",
     "traceback": [
      "\u001b[0;31m---------------------------------------------------------------------------\u001b[0m",
      "\u001b[0;31mTypeError\u001b[0m                                 Traceback (most recent call last)",
      "\u001b[0;32m<ipython-input-6-cc03cfbee0be>\u001b[0m in \u001b[0;36m<module>\u001b[0;34m\u001b[0m\n\u001b[1;32m      1\u001b[0m \u001b[0mtupledata\u001b[0m \u001b[0;34m=\u001b[0m \u001b[0;34m(\u001b[0m\u001b[0;34m'dave'\u001b[0m\u001b[0;34m,\u001b[0m \u001b[0;34m'fun-coding'\u001b[0m\u001b[0;34m,\u001b[0m \u001b[0;34m'endless'\u001b[0m\u001b[0;34m)\u001b[0m\u001b[0;34m\u001b[0m\u001b[0;34m\u001b[0m\u001b[0m\n\u001b[0;32m----> 2\u001b[0;31m \u001b[0mtupledata\u001b[0m\u001b[0;34m[\u001b[0m\u001b[0;36m0\u001b[0m\u001b[0;34m]\u001b[0m \u001b[0;34m=\u001b[0m \u001b[0;34m'david'\u001b[0m\u001b[0;34m\u001b[0m\u001b[0;34m\u001b[0m\u001b[0m\n\u001b[0m",
      "\u001b[0;31mTypeError\u001b[0m: 'tuple' object does not support item assignment"
     ]
    }
   ],
   "source": [
    "# Tuple data cannot be changed!\n",
    "# tupledata = ('dave', 'fun-coding', 'endless')\n",
    "# tupledata[0] = 'david'"
   ]
  },
  {
   "cell_type": "markdown",
   "metadata": {},
   "source": [
    "## Exercise 51. 데이터 구조 (튜플)\n",
    "- 다음 코드를 읽고, 최종적으로 var1 과 var2의 값이 어떤 값이될지 확인해보고, 왜 이렇게 동작하는지 튜플을 기반으로 설명하세요.\n",
    "    - 실행코드\n",
    "    ```python\n",
    "var1, var2 = 1, 2\n",
    "var1, var2 = var2, var1\n",
    "```"
   ]
  },
  {
   "cell_type": "code",
   "execution_count": 12,
   "metadata": {},
   "outputs": [
    {
     "name": "stdout",
     "output_type": "stream",
     "text": [
      "4 3 2 1\n"
     ]
    }
   ],
   "source": [
    "# Tuple = Tuple data\n",
    "var1, var2, var3, var4 = 1, 2, 3, 4\n",
    "var1, var2, var3, var4 = var4, var3, var2, var1\n",
    "print(var1, var2, var3, var4)"
   ]
  },
  {
   "cell_type": "markdown",
   "metadata": {},
   "source": [
    "## Exercise 52. 데이터 구조 (튜플)\n",
    "- 다음 코드에서 두번째 데이터부터 마지막 데이터를 다음과 같이 출력하세요\n",
    "```python\n",
    "tupledata = ('fun-coding1', 'fun-coding2','fun-coding3','fun-coding4','fun-coding5')\n",
    "```\n",
    "출력:\n",
    "<br/>('fun-coding2,'fun-coding3','fun-coding4','fun-coding5')"
   ]
  },
  {
   "cell_type": "code",
   "execution_count": 19,
   "metadata": {},
   "outputs": [
    {
     "data": {
      "text/plain": [
       "('fun-coding2', 'fun-coding3', 'fun-coding4', 'fun-coding5')"
      ]
     },
     "execution_count": 19,
     "metadata": {},
     "output_type": "execute_result"
    }
   ],
   "source": [
    "tupledata = ('fun-coding1', 'fun-coding2','fun-coding3','fun-coding4','fun-coding5')\n",
    "tupledata[1:]"
   ]
  },
  {
   "cell_type": "markdown",
   "metadata": {},
   "source": [
    "## Exercise 53. 데이터 구조 (튜플과 리스트)\n",
    "- 다음 튜플 데이터를 리스트 데이터로 변환한 후에 'fun-coding4' 데이터를 마지막에 추가하고, 다시 튜플 데이터로 변환하세요\n",
    "```python\n",
    "tupledata = ('fun-coding1','fun-coding2','fun-coding3')\n",
    "```"
   ]
  },
  {
   "cell_type": "code",
   "execution_count": 36,
   "metadata": {},
   "outputs": [
    {
     "name": "stdout",
     "output_type": "stream",
     "text": [
      "<class 'tuple'>\n",
      "<class 'list'>\n",
      "['fun-coding1', 'fun-coding2', 'fun-coding3', 'fun-coding4']\n",
      "('fun-coding1', 'fun-coding2', 'fun-coding3', 'fun-coding4') <class 'tuple'>\n"
     ]
    }
   ],
   "source": [
    "tupledata = ('fun-coding1','fun-coding2','fun-coding3')\n",
    "print(type(tupledata)) # tupledata 타입 출력\n",
    "listdata = list(tupledata) # tupledata 를 listdata 로 변환\n",
    "print(type(listdata)) # listdata 타입 출력\n",
    "listdata.append('fun-coding4') # listdata 에 'fun-coding4' 추가\n",
    "print(listdata) # listdata 출력\n",
    "tupledata = tuple(listdata) # listdata 를 tupledata 로 변환\n",
    "print(tupledata, type(tupledata))"
   ]
  },
  {
   "cell_type": "markdown",
   "metadata": {},
   "source": [
    "## Exercise 54. 데이터 구조 (튜플, 리스트, 딕셔너리)\n",
    "- 비어 있는 튜플, 리스트, 딕셔너리 변수를 하나씩 각각 만드세요."
   ]
  },
  {
   "cell_type": "code",
   "execution_count": 37,
   "metadata": {},
   "outputs": [
    {
     "name": "stdout",
     "output_type": "stream",
     "text": [
      "<class 'tuple'> <class 'list'> <class 'dict'>\n"
     ]
    }
   ],
   "source": [
    "tupledata = tuple()\n",
    "listdata = list()\n",
    "dictdata = dict()\n",
    "\n",
    "print(type(tupledata),type(listdata),type(dictdata))"
   ]
  },
  {
   "cell_type": "markdown",
   "metadata": {},
   "source": [
    "## Exercise 55. 데이터 구조 (딕셔너리)\n",
    "- 다음 영어 사전 데이터를 딕셔너리 변수로 만들고, 딕셔너리 변수의 key 값인 영어단어, value 값인 의미 만을 가진 리스트 변수를 각각 만들고, 두 리스트 변수를 출력하세요\n",
    "\n",
    "|영어단어 | 의미 |\n",
    "|:--:|:--:|\n",
    "|environmet | 환경 |\n",
    "|company    | 회사 |\n",
    "|government  | 정부, 정치 |\n",
    "|face       | 얼굴 |\n",
    "\n",
    "- 출력 예\n",
    "```python\n",
    "{'environment': '환경', 'company': '회사', 'government': '정부, 정치', 'face': '얼굴'}\n",
    "['environment', 'compnay', 'government', 'face']\n",
    "['환경', '회사', '정부, 정치', '얼굴']\n",
    " ```"
   ]
  },
  {
   "cell_type": "code",
   "execution_count": 49,
   "metadata": {},
   "outputs": [
    {
     "name": "stdout",
     "output_type": "stream",
     "text": [
      "['environment', 'company', 'government', 'face']\n",
      "['환경', '회사', '정부, 정치', '얼굴']\n"
     ]
    }
   ],
   "source": [
    "dictdata = {'environment': '환경', 'company': '회사', 'government': '정부, 정치', 'face': '얼굴'}\n",
    "dictdata_keys = [data for data in dictdata.keys()] # using list comprehension\n",
    "dictdata_values = [data for data in dictdata.values()] # using list comprehension\n",
    "print(dictdata_keys)\n",
    "print(dictdata_values)"
   ]
  },
  {
   "cell_type": "markdown",
   "metadata": {},
   "source": [
    "## Exercise 56. 데이터 구조 (딕셔너리)\n",
    "- 다음 영어 사전 데이터를 딕셔너리 변수로 만들어서 다음과 같이 출력하세요.\n",
    "    - 단, 반복문을 사용하세요\n",
    "```python\n",
    "environment : 환경\n",
    "company : 회사\n",
    "government : 정부, 정치\n",
    "face : 얼굴\n",
    "```\n",
    "\n",
    "| 영어단어 | 의미 |\n",
    "|:--:   | :--: |\n",
    "|environment | 환경 |\n",
    "|company     | 회사 |\n",
    "|government  | 정부,정치 |\n",
    "|face        | 얼굴 |\n"
   ]
  },
  {
   "cell_type": "code",
   "execution_count": 53,
   "metadata": {},
   "outputs": [
    {
     "name": "stdout",
     "output_type": "stream",
     "text": [
      "environment : 환경\n",
      "company : 회사\n",
      "government : 정부, 정치\n",
      "face : 얼굴\n"
     ]
    }
   ],
   "source": [
    "dictdata = {'environment': '환경', 'company': '회사', 'government': '정부, 정치', 'face': '얼굴'}\n",
    "\n",
    "for data in dictdata.keys():\n",
    "    print(data, \":\", dictdata[data])"
   ]
  },
  {
   "cell_type": "markdown",
   "metadata": {},
   "source": [
    "## Exercise 57. 데이터 구조 (딕셔너리)\n",
    "- 다음 영어 사전 데이터를 딕셔너리 변수로 만들고 외움표시가 X 인 영어단어만 출력하세요\n",
    "    - 단, Key는 영어단어, value는 의미와 외움표시 두 데이터를 넣습니다.\n",
    "```python\n",
    "environment : 환경\n",
    "company : 회사\n",
    "government : 정부, 정치\n",
    "face : 얼굴\n",
    "```\n",
    "\n",
    "|영어단어|의미|외움표시|\n",
    "|:----:|:----:|:----:|\n",
    "|environment|환경|X|\n",
    "|company|회사|O|\n",
    "|government|정부,정치|X|\n",
    "|face|얼굴|X|\n",
    "\n",
    "\n",
    "- 출력 예\n",
    "\n",
    "```python\n",
    "environment\n",
    "government\n",
    "face\n",
    "```"
   ]
  },
  {
   "cell_type": "code",
   "execution_count": 64,
   "metadata": {},
   "outputs": [
    {
     "name": "stdout",
     "output_type": "stream",
     "text": [
      "environment\n",
      "government\n",
      "face\n"
     ]
    }
   ],
   "source": [
    "dictdata = {'environment': ['환경','X'], 'company': ['회사','O'], 'government': ['정부, 정치','X'], 'face': ['얼굴','X']}\n",
    "\n",
    "for data in dictdata.keys():\n",
    "    if dictdata[data][1] == 'X':\n",
    "        print(data)"
   ]
  },
  {
   "cell_type": "markdown",
   "metadata": {},
   "source": [
    "## Exercise 58. 데이터 구조 (딕셔너리)\n",
    "- 다음 영어 사전 데이터를 딕셔너리 변수로 만들고 사용자로부터 영어단어를 입력받으면 해당 영어단어의 외움표시를 O로 수정하고, 외움표시가 X인 단어만 출력하는 프로그램을 작성하세요.\n",
    "    - 단, key는 영어단어, value는 의미와 외움표시 두 데이터를 넣습니다.\n",
    "    \n",
    "```python\n",
    "environment : 환경\n",
    "company : 회사\n",
    "government : 정부, 정치\n",
    "face : 얼굴\n",
    "```\n",
    "\n",
    "|영어단어|의미|외움표시|\n",
    "|:--:|:--:|:--:|\n",
    "|environment|환경|X|\n",
    "|company|회사|O|\n",
    "|government|정부,정치|X|\n",
    "|face|얼굴|X|\n",
    "\n",
    "- 입력: government\n",
    "- 출력\n",
    "```python\n",
    "environment\n",
    "face\n",
    "```"
   ]
  },
  {
   "cell_type": "code",
   "execution_count": 1,
   "metadata": {},
   "outputs": [
    {
     "name": "stdout",
     "output_type": "stream",
     "text": [
      "government\n",
      "environment\n",
      "face\n"
     ]
    }
   ],
   "source": [
    "dictdata = {'environment': ['환경','X'], 'company': ['회사','O'], 'government': ['정부, 정치','X'], 'face': ['얼굴','X']}\n",
    "\n",
    "data = input()\n",
    "dictdata[data][1] = 'O'\n",
    "\n",
    "for data in dictdata.keys():\n",
    "    if dictdata[data][1] == 'X':\n",
    "        print(data)"
   ]
  },
  {
   "cell_type": "markdown",
   "metadata": {},
   "source": [
    "## Exercise 59. 데이터 구조 (딕셔너리)\n",
    "- 다음 dict_all, dict2, dict3 딕셔너리 변수가 있을 때, dict2와 dict3 두 데이터를 dict_all 딕셔너리 변수에 추가한 후, dict_all 변수를 출력하세요\n",
    "```python\n",
    "dict_all = {'environment': '환경', 'gonernment':'정부, 정치'}\n",
    "dict2 = {'company': '회사', 'face':'얼굴'}\n",
    "dict3 = {'apple': '사과'}\n",
    "```"
   ]
  },
  {
   "cell_type": "code",
   "execution_count": 1,
   "metadata": {},
   "outputs": [
    {
     "name": "stdout",
     "output_type": "stream",
     "text": [
      "{'environment': '환경', 'gonernment': '정부, 정치'}\n",
      "{'environment': '환경', 'gonernment': '정부, 정치', 'company': '회사', 'face': '얼굴', 'apple': '사과'}\n"
     ]
    }
   ],
   "source": [
    "dict_all = {'environment': '환경', 'gonernment':'정부, 정치'}\n",
    "dict2 = {'company': '회사', 'face': '얼굴'}\n",
    "dict3 = {'apple': '사과'}\n",
    "\n",
    "print(dict_all)\n",
    "for data in dict2.keys():\n",
    "    dict_all[data] = dict2[data]\n",
    "for data in dict3.keys():\n",
    "    dict_all[data] = dict3[data]\n",
    "print(dict_all)"
   ]
  },
  {
   "cell_type": "markdown",
   "metadata": {},
   "source": [
    "## Exercise 60. 데이터 구조 (딕셔너리)\n",
    "* 다음 actor_info 딕셔너리 변수를 만들고, 홈페이지, 배우 이름, 최근 출연 영화 갯수를 다음과 같이 출력하세요.\n",
    "```python\n",
    "actor_info = {'actor_details': {'생년월일': '1971-03-01',\n",
    "                   '성별': '남',\n",
    "                   '직업': '배우',\n",
    "                   '홈페이지': 'https://www.instagram.com/madongseok'},\n",
    " 'actor_name': '마동석',\n",
    " 'actor_rate': 59361,\n",
    " 'date': '2017-10',\n",
    " 'movie_list': ['범죄도시', '부라더', '부산행']}\n",
    "```\n",
    "* 출력 예:<br>\n",
    "배우 이름: 마동석 <br/>\n",
    "홈페이지: https://www.instagram.com/madongseok <br/>\n",
    "출연 영화 갯수: 3 <br/>"
   ]
  },
  {
   "cell_type": "code",
   "execution_count": 16,
   "metadata": {},
   "outputs": [
    {
     "name": "stdout",
     "output_type": "stream",
     "text": [
      "배우 이름: 마동석\n",
      "홈페이지: https://www.instagram.com/madongseok\n",
      "출연 영화 갯수: 3\n"
     ]
    }
   ],
   "source": [
    "actor_info = {'actor_details': {'생년월일': '1971-03-01',\n",
    "                 '성별': '남',\n",
    "                 '직업': '배우',\n",
    "                 '홈페이지': 'https://www.instagram.com/madongseok'},\n",
    "'actor_name': '마동석',\n",
    "'actor_rate': 59361,\n",
    "'date': '2017-10',\n",
    "'movie_list': ['범죄도시', '부라더', '부산행']}\n",
    "\n",
    "# actor name\n",
    "print(\"배우 이름:\", actor_info['actor_name'])\n",
    "# homepage\n",
    "print(\"홈페이지:\", actor_info['actor_details']['홈페이지'])\n",
    "# movie list\n",
    "print(\"출연 영화 갯수:\", len(actor_info['movie_list']))"
   ]
  },
  {
   "cell_type": "markdown",
   "metadata": {},
   "source": [
    "## Exercise 61. 데이터 구조 (집합)\n",
    "* number_list가 다음과 같은 리스트일 때 중복 숫자를 제거한 리스트를 만들고, 출력하세요.\n",
    "```python\n",
    "number_list = [5, 1, 2, 2, 3, 3, 4, 5, 6, 7, 8, 9, 9, 10, 10]\n",
    "```"
   ]
  },
  {
   "cell_type": "code",
   "execution_count": 19,
   "metadata": {},
   "outputs": [
    {
     "name": "stdout",
     "output_type": "stream",
     "text": [
      "{1, 2, 3, 4, 5, 6, 7, 8, 9, 10}\n"
     ]
    }
   ],
   "source": [
    "number_list = [5, 1, 2, 2, 3, 3, 4, 5, 6, 7, 8, 9, 9, 10, 10]\n",
    "number_set = set(number_list)\n",
    "print(number_set)"
   ]
  },
  {
   "cell_type": "code",
   "execution_count": null,
   "metadata": {},
   "outputs": [],
   "source": []
  }
 ],
 "metadata": {
  "kernelspec": {
   "display_name": "Python 3",
   "language": "python",
   "name": "python3"
  },
  "language_info": {
   "codemirror_mode": {
    "name": "ipython",
    "version": 3
   },
   "file_extension": ".py",
   "mimetype": "text/x-python",
   "name": "python",
   "nbconvert_exporter": "python",
   "pygments_lexer": "ipython3",
   "version": "3.7.6"
  }
 },
 "nbformat": 4,
 "nbformat_minor": 2
}
