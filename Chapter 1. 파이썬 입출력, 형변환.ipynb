{
 "cells": [
  {
   "cell_type": "markdown",
   "metadata": {},
   "source": [
    "## Exercise 1. 출력\n",
    " - 화면에 \"Hello World!\"를 출력하세요"
   ]
  },
  {
   "cell_type": "code",
   "execution_count": 1,
   "metadata": {},
   "outputs": [
    {
     "name": "stdout",
     "output_type": "stream",
     "text": [
      "Hello World\n"
     ]
    }
   ],
   "source": [
    "print (\"Hello World\")"
   ]
  },
  {
   "cell_type": "markdown",
   "metadata": {},
   "source": [
    "## Exercise 2. 출력\n",
    " - 화면에 \"I don`t like C language\"를 출력하세요."
   ]
  },
  {
   "cell_type": "code",
   "execution_count": 2,
   "metadata": {},
   "outputs": [
    {
     "name": "stdout",
     "output_type": "stream",
     "text": [
      "\"I don`t like C language\"\n"
     ]
    }
   ],
   "source": [
    "print ('\"I don`t like C language\"')"
   ]
  },
  {
   "cell_type": "code",
   "execution_count": 3,
   "metadata": {},
   "outputs": [
    {
     "name": "stdout",
     "output_type": "stream",
     "text": [
      "I do\n"
     ]
    }
   ],
   "source": [
    "print ('I do')"
   ]
  },
  {
   "cell_type": "code",
   "execution_count": 4,
   "metadata": {},
   "outputs": [
    {
     "name": "stdout",
     "output_type": "stream",
     "text": [
      "I don't like C language\n"
     ]
    }
   ],
   "source": [
    "print ('I don\\'t like C language')"
   ]
  },
  {
   "cell_type": "code",
   "execution_count": 5,
   "metadata": {},
   "outputs": [
    {
     "name": "stdout",
     "output_type": "stream",
     "text": [
      "I don'''''''t like C language\n"
     ]
    }
   ],
   "source": [
    "print ('I don\\'\\'\\'\\'\\'\\'\\'t like C language')"
   ]
  },
  {
   "cell_type": "code",
   "execution_count": 6,
   "metadata": {},
   "outputs": [
    {
     "name": "stdout",
     "output_type": "stream",
     "text": [
      "My name is \"Dave Lee\"\n"
     ]
    }
   ],
   "source": [
    "print (\"My name is \\\"Dave Lee\\\"\")"
   ]
  },
  {
   "cell_type": "markdown",
   "metadata": {},
   "source": [
    "## Exercise 3. 출력\n",
    " - Print 함수를 사용하여 3.1415의 값을 출력하세요.\n",
    "     - 단, 소수점 아래는 첫 번째 자리까지만 표시되도록 하세요.\n",
    "\n",
    "Example \n",
    "<br/>3.1"
   ]
  },
  {
   "cell_type": "code",
   "execution_count": 11,
   "metadata": {},
   "outputs": [
    {
     "name": "stdout",
     "output_type": "stream",
     "text": [
      "3.2\n"
     ]
    }
   ],
   "source": [
    "print (\"%0.1f\" % 3.18151212213231414)"
   ]
  },
  {
   "cell_type": "code",
   "execution_count": 7,
   "metadata": {},
   "outputs": [
    {
     "name": "stdout",
     "output_type": "stream",
     "text": [
      "3.1415\n"
     ]
    }
   ],
   "source": [
    "print (3.1415)"
   ]
  },
  {
   "cell_type": "code",
   "execution_count": 8,
   "metadata": {},
   "outputs": [
    {
     "name": "stdout",
     "output_type": "stream",
     "text": [
      "3.1\n"
     ]
    }
   ],
   "source": [
    "print ((\"%0.1f\") % 3.1415)"
   ]
  },
  {
   "cell_type": "code",
   "execution_count": 10,
   "metadata": {},
   "outputs": [
    {
     "name": "stdout",
     "output_type": "stream",
     "text": [
      "The answer is 3.1 is the correct answer\n"
     ]
    }
   ],
   "source": [
    "print (\"The answer is %0.1f is the correct answer\" % 3.1415)"
   ]
  },
  {
   "cell_type": "markdown",
   "metadata": {},
   "source": [
    "## Exercise 4. 형 변환\n",
    " - 문자열 '720'를 정수형으로 변환하라. 정수 100을 문자열 '100'으로 변환하라"
   ]
  },
  {
   "cell_type": "code",
   "execution_count": 30,
   "metadata": {},
   "outputs": [
    {
     "name": "stdout",
     "output_type": "stream",
     "text": [
      "720 <class 'int'>\n",
      "100 <class 'str'>\n"
     ]
    }
   ],
   "source": [
    "data1 = '720'\n",
    "data1 = int(data1)\n",
    "data2 = 100\n",
    "data2 = str(data2)\n",
    "print (data1, type(data1))\n",
    "print (data2, type(data2))"
   ]
  },
  {
   "cell_type": "code",
   "execution_count": 32,
   "metadata": {},
   "outputs": [
    {
     "name": "stdout",
     "output_type": "stream",
     "text": [
      "720\n"
     ]
    }
   ],
   "source": [
    "string = '720'\n",
    "print (string)"
   ]
  },
  {
   "cell_type": "code",
   "execution_count": 33,
   "metadata": {},
   "outputs": [
    {
     "data": {
      "text/plain": [
       "str"
      ]
     },
     "execution_count": 33,
     "metadata": {},
     "output_type": "execute_result"
    }
   ],
   "source": [
    "type (string)"
   ]
  },
  {
   "cell_type": "code",
   "execution_count": 34,
   "metadata": {},
   "outputs": [
    {
     "data": {
      "text/plain": [
       "720"
      ]
     },
     "execution_count": 34,
     "metadata": {},
     "output_type": "execute_result"
    }
   ],
   "source": [
    "int (string)"
   ]
  },
  {
   "cell_type": "code",
   "execution_count": 15,
   "metadata": {},
   "outputs": [
    {
     "data": {
      "text/plain": [
       "'720'"
      ]
     },
     "execution_count": 15,
     "metadata": {},
     "output_type": "execute_result"
    }
   ],
   "source": [
    "string"
   ]
  },
  {
   "cell_type": "code",
   "execution_count": 18,
   "metadata": {},
   "outputs": [
    {
     "name": "stdout",
     "output_type": "stream",
     "text": [
      "<class 'str'>\n",
      "<class 'int'>\n"
     ]
    }
   ],
   "source": [
    "string = '720'\n",
    "print (type(string))\n",
    "string = int(string)\n",
    "print (type(string))"
   ]
  },
  {
   "cell_type": "code",
   "execution_count": 27,
   "metadata": {},
   "outputs": [
    {
     "name": "stdout",
     "output_type": "stream",
     "text": [
      "100 <class 'int'>\n",
      "100 <class 'str'>\n"
     ]
    }
   ],
   "source": [
    "digit1 = 100\n",
    "print (digit1, type(digit1))\n",
    "digit2 = str(digit1)\n",
    "print (digit2, type(digit2))"
   ]
  },
  {
   "cell_type": "markdown",
   "metadata": {},
   "source": [
    "## Exercise 5. 연산\n",
    " - 2와 4 숫자를 변수에 넣고, 두 변수를 더한 값, 곱한 값, 나눈 값을 출력하세요\n",
    " \n",
    "Example\n",
    "<br/>6\n",
    "<br/>8\n",
    "<br/>0.5"
   ]
  },
  {
   "cell_type": "code",
   "execution_count": 35,
   "metadata": {},
   "outputs": [
    {
     "name": "stdout",
     "output_type": "stream",
     "text": [
      "6\n",
      "8\n",
      "0.5\n"
     ]
    }
   ],
   "source": [
    "data1 = 2\n",
    "data2 = 4\n",
    "\n",
    "print (data1 + data2)\n",
    "print (data1 * data2)\n",
    "print (data1 / data2)"
   ]
  },
  {
   "cell_type": "code",
   "execution_count": 36,
   "metadata": {},
   "outputs": [
    {
     "name": "stdout",
     "output_type": "stream",
     "text": [
      "24\n"
     ]
    }
   ],
   "source": [
    "# How about using ''??\n",
    "data1 = '2'\n",
    "data2 = '4'\n",
    "\n",
    "print (data1 + data2)"
   ]
  },
  {
   "cell_type": "markdown",
   "metadata": {},
   "source": [
    "## Exercise 6. 연산\n",
    " - 밑이 6 이고, 지수가 2 일 때 거듭제곱 값을 출력하라.\n",
    "     - 6의 2승\n",
    "     \n",
    "Example\n",
    "\n",
    "36"
   ]
  },
  {
   "cell_type": "code",
   "execution_count": 42,
   "metadata": {},
   "outputs": [
    {
     "name": "stdout",
     "output_type": "stream",
     "text": [
      "6**2 = 36\n"
     ]
    }
   ],
   "source": [
    "print (\"6**2 =\", 6**2)"
   ]
  },
  {
   "cell_type": "markdown",
   "metadata": {},
   "source": [
    "## Exercise 7. 입력과 출력\n",
    "- 사용자로부터 두 개의 숫자를 입력받은 후 두개의 숫자를 더한 값을 각각 출력 하는 프로그램을 작성하세요.\n",
    "\n",
    "Example\n",
    "<br/>INPUT: 2 and 4\n",
    "<br/>OUTPUT:\n",
    "\n",
    "6"
   ]
  },
  {
   "cell_type": "code",
   "execution_count": 43,
   "metadata": {},
   "outputs": [
    {
     "name": "stdout",
     "output_type": "stream",
     "text": [
      "6\n"
     ]
    }
   ],
   "source": [
    "data1 = 2\n",
    "data2 = 4\n",
    "\n",
    "print (data1 + data2)"
   ]
  },
  {
   "cell_type": "code",
   "execution_count": 44,
   "metadata": {},
   "outputs": [
    {
     "name": "stdout",
     "output_type": "stream",
     "text": [
      "24\n"
     ]
    }
   ],
   "source": [
    "data1 = '2'\n",
    "data2 = '4'\n",
    "\n",
    "print (data1 + data2)"
   ]
  },
  {
   "cell_type": "code",
   "execution_count": 45,
   "metadata": {},
   "outputs": [
    {
     "name": "stdout",
     "output_type": "stream",
     "text": [
      "<class 'str'>\n"
     ]
    }
   ],
   "source": [
    "data1 = '2'\n",
    "print (type(data1))"
   ]
  },
  {
   "cell_type": "code",
   "execution_count": 1,
   "metadata": {},
   "outputs": [
    {
     "name": "stdout",
     "output_type": "stream",
     "text": [
      "1\n",
      "<class 'str'>\n"
     ]
    }
   ],
   "source": [
    "data1 = input()\n",
    "print (type(data1))"
   ]
  },
  {
   "cell_type": "code",
   "execution_count": 3,
   "metadata": {},
   "outputs": [
    {
     "name": "stdout",
     "output_type": "stream",
     "text": [
      "2\n",
      "class\n",
      "<class 'str'>\n"
     ]
    }
   ],
   "source": [
    "data1 = input()\n",
    "data2 = input()\n",
    "print (data1 + data2)"
   ]
  },
  {
   "cell_type": "code",
   "execution_count": 6,
   "metadata": {
    "scrolled": true
   },
   "outputs": [
    {
     "name": "stdout",
     "output_type": "stream",
     "text": [
      "2\n",
      "4\n",
      "6\n"
     ]
    }
   ],
   "source": [
    "data1 = input()\n",
    "data1 = int(data1)\n",
    "data2 = input()\n",
    "data2 = int(data2)\n",
    "\n",
    "print (int(data1) + int(data2))"
   ]
  },
  {
   "cell_type": "markdown",
   "metadata": {},
   "source": [
    "## Exercise 8. 입력과 출력\n",
    " - 사용자로부터 두 개의 숫자를 입력받은 후 두 개의 숫자를 더한 값, 곱한 값, 나눈 값을 각각 출력하는 프로그램을 작성하세요.\n",
    " \n",
    "Example\n",
    "<br/>INPUT: 2 and 4\n",
    "<br/>OUTPUT:\n",
    " \n",
    "6\n",
    "<br/>8\n",
    "<br/>0.5"
   ]
  },
  {
   "cell_type": "code",
   "execution_count": null,
   "metadata": {},
   "outputs": [],
   "source": [
    "data1 = input()\n",
    "data2 = input()\n",
    "\n",
    "print(int(data1) + int(data2))"
   ]
  },
  {
   "cell_type": "code",
   "execution_count": 7,
   "metadata": {},
   "outputs": [
    {
     "name": "stdout",
     "output_type": "stream",
     "text": [
      "1\n",
      "2\n",
      "3\n",
      "2\n",
      "0.5\n"
     ]
    }
   ],
   "source": [
    "data1 = input()\n",
    "data2 = input()\n",
    "\n",
    "print(int(data1) + int(data2))\n",
    "print(int(data1) * int(data2))\n",
    "print(int(data1) / int(data2))"
   ]
  },
  {
   "cell_type": "markdown",
   "metadata": {},
   "source": [
    "## Exercise 9. 입력과 출력\n",
    " - 사용자로부터 두 개의 숫자를 입력받은 후 두 개의 숫자를 더한 값, 곱한 값, 나눈 값, 나눈 몫, 나머지 값을 각각 출력하는 프로그램을 작성하세요\n",
    "\n",
    "<br/>Example\n",
    "<br/>INPUT: 4 and 4\n",
    "<br/>OUTPUT\n",
    "\n",
    "8\n",
    "<br/>16\n",
    "<br/>1.0\n",
    "<br/>1\n",
    "<br/>0"
   ]
  },
  {
   "cell_type": "code",
   "execution_count": 9,
   "metadata": {},
   "outputs": [
    {
     "name": "stdout",
     "output_type": "stream",
     "text": [
      "4\n",
      "4\n",
      "8\n",
      "16\n",
      "1\n",
      "1\n",
      "0\n"
     ]
    }
   ],
   "source": [
    "data1 = input()\n",
    "data2 = input()\n",
    "\n",
    "print(int(data1) + int(data2)) # 더한 값\n",
    "print(int(data1) * int(data2)) # 곱한 값\n",
    "print(\"%0.0f\" % (int(data1) / int(data2))) # 나눈 값\n",
    "print(int(data1) // int(data2)) # 나눈 몫\n",
    "print(int(data1) % int(data2)) # 나머지 값"
   ]
  },
  {
   "cell_type": "markdown",
   "metadata": {},
   "source": [
    "## Exercise 10. 입력과 출력\n",
    " - 사용자로부터 두 개의 숫자를 입력받은 후 두 개의 숫자를 더한 값, 곱한 값, 나눈 값, 나눈 몫, 나머지 값을 각각 다음과 같이 출력하는 프로그램을 작성하세요.\n",
    " \n",
    "<br/>Example\n",
    "<br/>INPUT: 4 and 4\n",
    "<br/>OUTPUT:\n",
    "\n",
    "4 + 4 = 8\n",
    "<br/>4 * 4 = 16\n",
    "<br/>4 / 4 = 1\n",
    "<br/>4 // 4 = 1\n",
    "<br/>4 % 4 = 0"
   ]
  },
  {
   "cell_type": "code",
   "execution_count": 10,
   "metadata": {},
   "outputs": [
    {
     "name": "stdout",
     "output_type": "stream",
     "text": [
      "4\n",
      "4\n",
      "4 + 4 = 8\n",
      "4 * 4 = 16\n",
      "4 / 4 = 1.0\n",
      "4 // 4 = 1\n",
      "4 % 4 = 0\n"
     ]
    }
   ],
   "source": [
    "data1 = input()\n",
    "data2 = input()\n",
    "\n",
    "print(data1, \"+\", data2, \"=\", int(data1) + int(data2))\n",
    "print(data1, \"*\", data2, \"=\", int(data1) * int(data2))\n",
    "print(data1, \"/\", data2, \"=\", int(data1) / int(data2))\n",
    "print(data1, \"//\", data2, \"=\", int(data1) // int(data2))\n",
    "print(data1, \"%\", data2, \"=\", int(data1) % int(data2))"
   ]
  },
  {
   "cell_type": "markdown",
   "metadata": {},
   "source": [
    "## Exercise 11. 입력과 출력\n",
    " - 사용자로부터 두 개의 숫자를 입력받은 후 두 개의 숫자를 더한 값, 곱한 값, 나눈 값, 나눈 몫, 나머지 값을 각각 다음과 같이 출력하는 프로그램을 작성하세요.\n",
    "     - 단, 나눈 값은 소수점 첫번째 자리까지만 출력하세요.\n",
    "\n",
    "<br/>Example\n",
    "<br/>INPUT: 5 and 4\n",
    "<br/>OUTPUT:\n",
    "\n",
    "5 + 4 = 9\n",
    "<br/>5 * 4 = 20\n",
    "<br/>5 / 4 = 1.2\n",
    "<br/>5 // 4 = 1\n",
    "<br/>5 % 4 = 1"
   ]
  },
  {
   "cell_type": "code",
   "execution_count": 14,
   "metadata": {},
   "outputs": [
    {
     "name": "stdout",
     "output_type": "stream",
     "text": [
      "5\n",
      "4\n",
      "5 + 4 = 9\n",
      "5 * 4 = 20\n",
      "5 / 4 = 1.2\n",
      "5 // 4 = 1\n",
      "5 % 4 = 1\n"
     ]
    }
   ],
   "source": [
    "data1 = input()\n",
    "data2 = input()\n",
    "\n",
    "print(data1, \"+\", data2, \"=\", int(data1) + int(data2))\n",
    "print(data1, \"*\", data2, \"=\", int(data1) * int(data2))\n",
    "print(data1, \"/\", data2, \"=\", \"%0.1f\" % (int(data1) / int(data2)))\n",
    "print(data1, \"//\", data2, \"=\", int(data1) // int(data2))\n",
    "print(data1, \"%\", data2, \"=\", int(data1) % int(data2))"
   ]
  },
  {
   "cell_type": "code",
   "execution_count": null,
   "metadata": {},
   "outputs": [],
   "source": []
  }
 ],
 "metadata": {
  "kernelspec": {
   "display_name": "Python 3",
   "language": "python",
   "name": "python3"
  },
  "language_info": {
   "codemirror_mode": {
    "name": "ipython",
    "version": 3
   },
   "file_extension": ".py",
   "mimetype": "text/x-python",
   "name": "python",
   "nbconvert_exporter": "python",
   "pygments_lexer": "ipython3",
   "version": "3.7.3"
  }
 },
 "nbformat": 4,
 "nbformat_minor": 2
}
