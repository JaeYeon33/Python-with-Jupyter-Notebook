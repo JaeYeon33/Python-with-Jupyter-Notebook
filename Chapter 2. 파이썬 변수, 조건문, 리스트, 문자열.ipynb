{
 "cells": [
  {
   "cell_type": "markdown",
   "metadata": {},
   "source": [
    "## Exercise 12. 기본 자료형\n",
    " - 10, 2.2, \"fun-coding\" 각각을 변수에 넣고, 각 데이터 타입을 출력하세요"
   ]
  },
  {
   "cell_type": "code",
   "execution_count": 1,
   "metadata": {},
   "outputs": [],
   "source": [
    "digit1 = 10\n",
    "digit2 = 2.2\n",
    "string1 = \"fun-coding\""
   ]
  },
  {
   "cell_type": "code",
   "execution_count": 2,
   "metadata": {},
   "outputs": [
    {
     "name": "stdout",
     "output_type": "stream",
     "text": [
      "<class 'int'>\n",
      "<class 'float'>\n",
      "<class 'str'>\n"
     ]
    }
   ],
   "source": [
    "print(type(digit1))\n",
    "print(type(digit2))\n",
    "print(type(string1))"
   ]
  },
  {
   "cell_type": "markdown",
   "metadata": {},
   "source": [
    "## Exercise 13. 기본 자료형\n",
    " - 다음 코드를 실행해보고 \\t와 \\n의 역할을 설명하세요.\n",
    " \n",
    "```python\n",
    "code = '000660\\n00000102\\t12312312'\n",
    "print (code)\n",
    "```"
   ]
  },
  {
   "cell_type": "code",
   "execution_count": 3,
   "metadata": {},
   "outputs": [
    {
     "name": "stdout",
     "output_type": "stream",
     "text": [
      "000660\n",
      "00000102\t12312312\n"
     ]
    }
   ],
   "source": [
    "code = '000660\\n00000102\\t12312312'\n",
    "print (code)"
   ]
  },
  {
   "cell_type": "code",
   "execution_count": 6,
   "metadata": {},
   "outputs": [
    {
     "name": "stdout",
     "output_type": "stream",
     "text": [
      "000660\t00000102\t12312312\n"
     ]
    }
   ],
   "source": [
    "print('000660\\t00000102\\t12312312')"
   ]
  },
  {
   "cell_type": "code",
   "execution_count": 7,
   "metadata": {},
   "outputs": [
    {
     "name": "stdout",
     "output_type": "stream",
     "text": [
      "000660\t00000102\n",
      "12312312\n"
     ]
    }
   ],
   "source": [
    "print('000660\\t00000102\\n12312312')"
   ]
  },
  {
   "cell_type": "code",
   "execution_count": 8,
   "metadata": {},
   "outputs": [
    {
     "name": "stdout",
     "output_type": "stream",
     "text": [
      "Hello\n",
      "Hello\n",
      "Hello\n",
      "Hello\n",
      "Hello\n",
      "\n"
     ]
    }
   ],
   "source": [
    "print('Hello\\nHello\\nHello\\nHello\\nHello\\n')"
   ]
  },
  {
   "cell_type": "markdown",
   "metadata": {},
   "source": [
    "## Exercise 14. 조건문\n",
    " - 사용자로부터 두 개의 숫자를 입력 받은 후 큰 숫자를 화면에 출력하세요."
   ]
  },
  {
   "cell_type": "code",
   "execution_count": 9,
   "metadata": {},
   "outputs": [
    {
     "name": "stdout",
     "output_type": "stream",
     "text": [
      "1\n",
      "2\n",
      "1 2\n"
     ]
    }
   ],
   "source": [
    "digit1 = input()\n",
    "digit2 = input()\n",
    "\n",
    "print(digit1, digit2)"
   ]
  },
  {
   "cell_type": "code",
   "execution_count": 10,
   "metadata": {},
   "outputs": [
    {
     "name": "stdout",
     "output_type": "stream",
     "text": [
      "1\n",
      "2\n",
      "2\n"
     ]
    }
   ],
   "source": [
    "digit1 = input()\n",
    "digit2 = input()\n",
    "\n",
    "if digit1 > digit2:\n",
    "    print(digit1)\n",
    "else:\n",
    "    print(digit2)"
   ]
  },
  {
   "cell_type": "code",
   "execution_count": 13,
   "metadata": {},
   "outputs": [
    {
     "name": "stdout",
     "output_type": "stream",
     "text": [
      "1\n",
      "2\n",
      "2\n"
     ]
    }
   ],
   "source": [
    "digit1 = input()\n",
    "digit2 = input()\n",
    "\n",
    "if int(digit1) > int(digit2):\n",
    "    print(digit1)\n",
    "else:\n",
    "    print(digit2)"
   ]
  },
  {
   "cell_type": "markdown",
   "metadata": {},
   "source": [
    "## Exercise 15. 조건문\n",
    " - 사용자로부터 입력 받은 숫자가 홀수인지 짝수인지 출력하세요."
   ]
  },
  {
   "cell_type": "code",
   "execution_count": 14,
   "metadata": {},
   "outputs": [
    {
     "name": "stdout",
     "output_type": "stream",
     "text": [
      "1\n",
      "<class 'str'>\n"
     ]
    }
   ],
   "source": [
    "digit1 = input()\n",
    "\n",
    "print(type(digit1))"
   ]
  },
  {
   "cell_type": "code",
   "execution_count": 16,
   "metadata": {},
   "outputs": [
    {
     "name": "stdout",
     "output_type": "stream",
     "text": [
      "1\n"
     ]
    }
   ],
   "source": [
    "digit1 = input()\n",
    "digit1 = int(digit1)\n"
   ]
  },
  {
   "cell_type": "code",
   "execution_count": 17,
   "metadata": {},
   "outputs": [
    {
     "name": "stdout",
     "output_type": "stream",
     "text": [
      "1\n",
      "홀수\n"
     ]
    }
   ],
   "source": [
    "digit1 = input()\n",
    "digit1 = int(digit1)\n",
    "\n",
    "if digit1 % 2 == 0:\n",
    "    print(\"짝수\")\n",
    "else:\n",
    "    print(\"홀수\")"
   ]
  },
  {
   "cell_type": "markdown",
   "metadata": {},
   "source": [
    "## Exercise 16. 조건문\n",
    " - 사용자로부터 세 개의 숫자를 입력 받은 후 가장 작은 숫자를 출력하세요."
   ]
  },
  {
   "cell_type": "code",
   "execution_count": 18,
   "metadata": {},
   "outputs": [
    {
     "name": "stdout",
     "output_type": "stream",
     "text": [
      "1\n",
      "2\n",
      "3\n",
      "1\n"
     ]
    }
   ],
   "source": [
    "digit1 = input()\n",
    "digit2 = input()\n",
    "digit3 = input()\n",
    "\n",
    "if digit1 < digit2:\n",
    "    min = digit1\n",
    "else:\n",
    "    min = digit2\n",
    "\n",
    "if min < digit3:\n",
    "    print (min)\n",
    "else:\n",
    "    print(digit3)"
   ]
  },
  {
   "cell_type": "markdown",
   "metadata": {},
   "source": [
    "## Exercise 17. 조건문\n",
    " - 사용자로부터 점수를 입력 받은 후 등급을 출력하라.\n",
    "    - (A: 100 ~ 81, B: 80 ~ 61, C: 60 ~ 0)"
   ]
  },
  {
   "cell_type": "code",
   "execution_count": 20,
   "metadata": {},
   "outputs": [
    {
     "name": "stdout",
     "output_type": "stream",
     "text": [
      "85\n",
      "A\n"
     ]
    }
   ],
   "source": [
    "digit = int(input())\n",
    "\n",
    "if digit <= 100 and digit >= 81:\n",
    "    print('A')\n",
    "elif digit <= 80 and digit >= 61:\n",
    "    print('B')\n",
    "elif digit <= 60 and digit <= 0:\n",
    "    print('C')"
   ]
  },
  {
   "cell_type": "markdown",
   "metadata": {},
   "source": [
    "## Exercise 18. 데이터 구조 (리스트)\n",
    " - 사용자로부터 주민등록번호를 입력받아 출생 연도를 출력하세요.\n",
    "     - 예) 800001-1231231 주민번호를 입력받으면 80을 출력하면 됨"
   ]
  },
  {
   "cell_type": "code",
   "execution_count": 22,
   "metadata": {},
   "outputs": [
    {
     "name": "stdout",
     "output_type": "stream",
     "text": [
      "80\n"
     ]
    }
   ],
   "source": [
    "personal_id = \"800001-1231231\"\n",
    "\n",
    "print(personal_id[0:2])\n"
   ]
  },
  {
   "cell_type": "code",
   "execution_count": 24,
   "metadata": {},
   "outputs": [
    {
     "name": "stdout",
     "output_type": "stream",
     "text": [
      "991022-1216012\n",
      "99\n"
     ]
    }
   ],
   "source": [
    "personal_id = input()\n",
    "\n",
    "print(personal_id[0:2])"
   ]
  },
  {
   "cell_type": "markdown",
   "metadata": {},
   "source": [
    "## Exercise 19. 데이터 구조 (리스트)\n",
    " - 사용자로부터 주민등록번호를 입력받아 뒷자리 맨 앞의 숫자를 출력하세요.\n",
    "  - 주민등록번호 뒷자리 맨 앞자리는 성별을 나타냄\n",
    "  - 예) 800001-1231231 주민번호를 입력받으면 1을 출력받으면 됨\n",
    "  - 1은 남성을 의미, 2는 여성을 의미, 최근 아이들은 3과 4를 사용함"
   ]
  },
  {
   "cell_type": "code",
   "execution_count": 25,
   "metadata": {},
   "outputs": [
    {
     "name": "stdout",
     "output_type": "stream",
     "text": [
      "1\n"
     ]
    }
   ],
   "source": [
    "personal_id = \"800001-1231231\"\n",
    "\n",
    "print(personal_id[7])"
   ]
  },
  {
   "cell_type": "code",
   "execution_count": 27,
   "metadata": {},
   "outputs": [
    {
     "name": "stdout",
     "output_type": "stream",
     "text": [
      "991022-1214012\n",
      "1\n"
     ]
    }
   ],
   "source": [
    "personal_id = input()\n",
    "\n",
    "print(personal_id[7])"
   ]
  },
  {
   "cell_type": "markdown",
   "metadata": {},
   "source": [
    "## Exercise 20. 데이터 구조 (리스트)\n",
    " - 사용자로부터 주민등록번호를 입력받아, 성별을 '남성' 또는 '여성'으로 출력하세요.\n",
    "     - 주민등록번호 뒷자리 맨 앞자리는 성별을 나타냄\n",
    "     - 예)8000001-1231231 주민번호를 입력받으면 1을 출력하면 됨\n",
    "     - 1이면 남성, 2이면 여성을 출력하면 됨 (최근 아이들은 3과 4를 사용하지만 이 경우는 고려하지 않기로 함)\n",
    "    "
   ]
  },
  {
   "cell_type": "code",
   "execution_count": 29,
   "metadata": {},
   "outputs": [
    {
     "name": "stdout",
     "output_type": "stream",
     "text": [
      "991022-1216012\n",
      "male\n"
     ]
    }
   ],
   "source": [
    "personal_id = input()\n",
    "\n",
    "if personal_id[7] == '1':\n",
    "    print(\"male\")\n",
    "elif personal_id[7] == '2':\n",
    "    print(\"female\")"
   ]
  },
  {
   "cell_type": "code",
   "execution_count": 31,
   "metadata": {},
   "outputs": [
    {
     "name": "stdout",
     "output_type": "stream",
     "text": [
      "991022-3401234\n",
      "female\n"
     ]
    }
   ],
   "source": [
    "personal_id = input()\n",
    "\n",
    "if personal_id[7] == '1':\n",
    "    print(\"male\")\n",
    "else:\n",
    "    print(\"female\")"
   ]
  },
  {
   "cell_type": "code",
   "execution_count": 5,
   "metadata": {},
   "outputs": [
    {
     "name": "stdout",
     "output_type": "stream",
     "text": [
      "991022-3401234\n",
      "wrong personal ID\n"
     ]
    }
   ],
   "source": [
    "personal_id = input()\n",
    "\n",
    "if personal_id[7] == '1':\n",
    "    print(\"male\")\n",
    "elif personal_id[7] == '2':\n",
    "    print(\"female\")\n",
    "else:\n",
    "    print(\"wrong personal ID\")"
   ]
  },
  {
   "cell_type": "markdown",
   "metadata": {},
   "source": [
    "## Exercise 21. 문자열 다루기 (strip)\n",
    " - 다음 문자열에서 ...를 제거하라.\n",
    "```python\n",
    "mystr = \"a man goes into the room...\"\n",
    "```\n",
    " - 출력 예: 'a man goes into the room'"
   ]
  },
  {
   "cell_type": "code",
   "execution_count": 3,
   "metadata": {},
   "outputs": [
    {
     "name": "stdout",
     "output_type": "stream",
     "text": [
      "a man goes into the room\n"
     ]
    }
   ],
   "source": [
    "mystr = \"...a man goes into the room...\"\n",
    "\n",
    "print(mystr.strip(\".\"))\n",
    "\n",
    "# strip: . 을 다 지우는 것"
   ]
  },
  {
   "cell_type": "markdown",
   "metadata": {},
   "source": [
    "## Exercise 22. 문자열 다루기 (strip)\n",
    " - 주식 종목을 나타내는 종목코드에 공백과 줄바꿈 기호가 포함되어 있다. 공백과 자리바꿈 기호를 제거하고 종목코드만을 추출하라.\n",
    " \n",
    "```python\n",
    "code = '        000660\\n         '\n",
    "```\n",
    " - 출력: '000660'"
   ]
  },
  {
   "cell_type": "code",
   "execution_count": 6,
   "metadata": {},
   "outputs": [
    {
     "name": "stdout",
     "output_type": "stream",
     "text": [
      "000660\n"
     ]
    }
   ],
   "source": [
    "code = '        000660\\n         '\n",
    "\n",
    "print (code.strip(' \\n'))"
   ]
  },
  {
   "cell_type": "markdown",
   "metadata": {},
   "source": [
    "## Exercise 23. 문자열 다루기 (count)\n",
    " - 다음 문자열에서 'Python' 문자열의 빈도수를 출력하라.\n",
    " \n",
    "```python\n",
    "python_desc = \"Python is an interpreted high-level programming language for general-purpose programming. Created by Guido van Rossum and first released in 1991, Python has a design philosophy that emphasizes code readability, notably using significant whitespace.\"\n",
    "```\n",
    "<br/>출력 예: 2"
   ]
  },
  {
   "cell_type": "code",
   "execution_count": 8,
   "metadata": {},
   "outputs": [
    {
     "name": "stdout",
     "output_type": "stream",
     "text": [
      "2\n"
     ]
    }
   ],
   "source": [
    "python_desc = \"Python is an interpreted high-level programming language for general-purpose programming. Created by Guido van Rossum and first released in 1991, Python has a design philosophy that emphasizes code readability, notably using significant whitespace.\"\n",
    "\n",
    "counts_python = python_desc.count('Python')\n",
    "\n",
    "print(counts_python)"
   ]
  },
  {
   "cell_type": "markdown",
   "metadata": {},
   "source": [
    "## Exercise 24. 문자열 다루기 (count)\n",
    "\n",
    "```python\n",
    "python_desc = \"Python is an interpreted high-level programming language for general-purpose programming. Created by Guido van Rossum and first released in 1991, Python has a design philosophy that emphasizes code readability, notably using significant whitespace.\"\n",
    "```\n",
    "<br/>출력 예: 9"
   ]
  },
  {
   "cell_type": "code",
   "execution_count": 11,
   "metadata": {},
   "outputs": [
    {
     "name": "stdout",
     "output_type": "stream",
     "text": [
      "9\n"
     ]
    }
   ],
   "source": [
    "python_desc = \"Python is an interpreted high-level programming language for general-purpose programming. Created by Guido van Rossum and first released in 1991, Python has a design philosophy that emphasizes code readability, notably using significant whitespace.\"\n",
    "\n",
    "print(python_desc.count('p'))"
   ]
  },
  {
   "cell_type": "markdown",
   "metadata": {},
   "source": [
    "## Exercise 25. 문자열 다루기 (문자열 인덱싱)\n",
    "letters 라는 변수에 들어 있는 문자열에서 두 번째와 네 번째 문자를 출력하라\n",
    "```python\n",
    "letters = \"python\"\n",
    "```\n",
    "<br/>출력 예:\n",
    "<br/>y\n",
    "<br/>h"
   ]
  },
  {
   "cell_type": "code",
   "execution_count": 17,
   "metadata": {},
   "outputs": [
    {
     "name": "stdout",
     "output_type": "stream",
     "text": [
      "y\n",
      "h\n"
     ]
    }
   ],
   "source": [
    "letters = \"python\"\n",
    "\n",
    "# print(letters)\n",
    "print(letters[1])\n",
    "print(letters[3])"
   ]
  },
  {
   "cell_type": "markdown",
   "metadata": {},
   "source": [
    "## Exercise 26. 문자열 다루기 (문자열 인덱싱)\n",
    "- letters 라는 변수에 사용자로부터 문자열을 입력받아서 문자 n이 들어왔는지를 출력하라\n",
    " - n 이 들어 있으면 0, 안들어있으면 -1을 출력하라\n"
   ]
  },
  {
   "cell_type": "code",
   "execution_count": 21,
   "metadata": {},
   "outputs": [
    {
     "name": "stdout",
     "output_type": "stream",
     "text": [
      "1n08080820affwf\n",
      "0\n"
     ]
    }
   ],
   "source": [
    "letters = input()\n",
    "\n",
    "if letters.find(\"n\") >= 0:\n",
    "    print(\"0\")\n",
    "else:\n",
    "    print(\"-1\")"
   ]
  },
  {
   "cell_type": "markdown",
   "metadata": {},
   "source": [
    "## Exercise 27. 문자열 다루기 (문자열 인덱싱)\n",
    "- letters 라는 변수에 사용자로부터 문자열을 입력받아서 문자 n 이 들어있는지를 출력하라\n",
    " - n 이 들어 있으면 'n 이 들어있습니다.', 안들어있으면 'n 이 안들어있습니다'를 출력하라"
   ]
  },
  {
   "cell_type": "code",
   "execution_count": 22,
   "metadata": {},
   "outputs": [
    {
     "name": "stdout",
     "output_type": "stream",
     "text": [
      "find\n",
      "n이 들어있습니다.\n"
     ]
    }
   ],
   "source": [
    "letters = input()\n",
    "\n",
    "if letters.find('n') >= 0:\n",
    "    print(\"n이 들어있습니다.\")\n",
    "else:\n",
    "    print(\"n이 안들어있습니다.\")"
   ]
  },
  {
   "cell_type": "markdown",
   "metadata": {},
   "source": [
    "## Exercise 28. 문자열 다루기 (문자열 인덱싱)와 조건문\n",
    "- 주민등록번호의 뒷 자리 7자리 중 두번째로부터 세번째는 출생 지역 코드입니다.\n",
    "- 다음 표를 참조하여 사용자로부터 주민 등록 번호를 입력 받은 후 출생지를 출력하세요\n",
    "  \n",
    "지역코드 | 출생지역\n",
    ":------: | :------:\n",
    "00 ~ 08 | 서울\n",
    "09 ~ 12 | 부산"
   ]
  },
  {
   "cell_type": "code",
   "execution_count": 34,
   "metadata": {},
   "outputs": [
    {
     "name": "stdout",
     "output_type": "stream",
     "text": [
      "01\n"
     ]
    }
   ],
   "source": [
    "string1 = \"991002-1012232\"\n",
    "\n",
    "print(string1[8:10])"
   ]
  },
  {
   "cell_type": "code",
   "execution_count": 33,
   "metadata": {},
   "outputs": [
    {
     "name": "stdout",
     "output_type": "stream",
     "text": [
      "부산\n"
     ]
    }
   ],
   "source": [
    "string1 = \"10\"\n",
    "# print(string1, type(string1))\n",
    "\n",
    "string1 = int(string1)\n",
    "# print(string1, type(string1))\n",
    "\n",
    "if string1 >= 0 and string1 <= 8:\n",
    "    print(\"서울\")\n",
    "elif string1 >= 9 and string1 <= 12:\n",
    "    print(\"부산\")"
   ]
  },
  {
   "cell_type": "code",
   "execution_count": 35,
   "metadata": {},
   "outputs": [
    {
     "name": "stdout",
     "output_type": "stream",
     "text": [
      "991002-1012232\n",
      "서울\n"
     ]
    }
   ],
   "source": [
    "string1 = input()\n",
    "string1 = int(string1[8:10])\n",
    "\n",
    "if string1 >= 0 and string1 <= 8:\n",
    "    print(\"서울\")\n",
    "elif string1 >= 9 and string1 <= 12:\n",
    "    print(\"부산\")"
   ]
  },
  {
   "cell_type": "markdown",
   "metadata": {},
   "source": [
    "## Exercise 29. 문자열 다루기 (split)\n",
    "- letters 라는 변수에 Dave, David, Andy 가 들어있다. 해당 변수값을 , 를 기준으로 분리해서 출력하라\n",
    " - 출력 예: ['Dave', 'David', 'Andy']"
   ]
  },
  {
   "cell_type": "code",
   "execution_count": 42,
   "metadata": {},
   "outputs": [
    {
     "name": "stdout",
     "output_type": "stream",
     "text": [
      "['Dave', 'David', 'Andy']\n",
      "Andy\n"
     ]
    }
   ],
   "source": [
    "letters = 'Dave,David,Andy'\n",
    "\n",
    "letters_list = letters.split(\",\")\n",
    "\n",
    "print(letters_list)\n",
    "print(letters_list[2])\n",
    "\n",
    "# print(letters.split(\",\"))"
   ]
  },
  {
   "cell_type": "code",
   "execution_count": 43,
   "metadata": {},
   "outputs": [
    {
     "name": "stdout",
     "output_type": "stream",
     "text": [
      "['Dave', 'David', 'Andy', 'Mall', 'Civas', 'Cris']\n",
      "Dave\n",
      "David\n",
      "Andy\n",
      "Mall\n",
      "Civas\n",
      "Cris\n"
     ]
    }
   ],
   "source": [
    "letters = \"Dave,David,Andy,Mall,Civas,Cris\"\n",
    "\n",
    "letter_list = letters.split(\",\")\n",
    "\n",
    "print(letter_list)\n",
    "for letter in letter_list:\n",
    "    print(letter)"
   ]
  },
  {
   "cell_type": "markdown",
   "metadata": {},
   "source": [
    "## Exercise 30. 문자열 다루기 (split)\n",
    "- 다음과 같은 파일 이름(확장자 포함)에서 확장자를 제거한 파일 이름만 출력하세요.\n",
    "```python\n",
    "filename = 'exercise01.docx'\n",
    "```"
   ]
  },
  {
   "cell_type": "code",
   "execution_count": 50,
   "metadata": {},
   "outputs": [
    {
     "name": "stdout",
     "output_type": "stream",
     "text": [
      "exercise01\n"
     ]
    }
   ],
   "source": [
    "filename = 'exercise01.docx'\n",
    "\n",
    "\n",
    "print(filename.split(\".\")[0])"
   ]
  },
  {
   "cell_type": "code",
   "execution_count": null,
   "metadata": {},
   "outputs": [],
   "source": []
  }
 ],
 "metadata": {
  "kernelspec": {
   "display_name": "Python 3",
   "language": "python",
   "name": "python3"
  },
  "language_info": {
   "codemirror_mode": {
    "name": "ipython",
    "version": 3
   },
   "file_extension": ".py",
   "mimetype": "text/x-python",
   "name": "python",
   "nbconvert_exporter": "python",
   "pygments_lexer": "ipython3",
   "version": "3.7.3"
  }
 },
 "nbformat": 4,
 "nbformat_minor": 2
}
