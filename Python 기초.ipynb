{
 "cells": [
  {
   "cell_type": "markdown",
   "metadata": {},
   "source": [
    "# Part 1. 시작하기"
   ]
  },
  {
   "cell_type": "markdown",
   "metadata": {},
   "source": [
    "`print('Hello World')`를 이용해서 다음과 같이 `Hello World`라는 문구가 3번 출력되도록 만들어 보세요."
   ]
  },
  {
   "cell_type": "markdown",
   "metadata": {},
   "source": [
    "```python\n",
    "Hello World\n",
    "Hello World\n",
    "Hello World\n",
    "```"
   ]
  },
  {
   "cell_type": "code",
   "execution_count": 1,
   "metadata": {},
   "outputs": [
    {
     "name": "stdout",
     "output_type": "stream",
     "text": [
      "Hello World\n",
      "Hello World\n",
      "Hello World\n"
     ]
    }
   ],
   "source": [
    "print('Hello World')\n",
    "print('Hello World')\n",
    "print('Hello World')"
   ]
  },
  {
   "cell_type": "markdown",
   "metadata": {},
   "source": [
    "---\n",
    "# Part 2. 변수와 계산"
   ]
  },
  {
   "cell_type": "markdown",
   "metadata": {},
   "source": [
    "# 변수 사용하기"
   ]
  },
  {
   "cell_type": "code",
   "execution_count": 4,
   "metadata": {},
   "outputs": [
    {
     "name": "stdout",
     "output_type": "stream",
     "text": [
      "안녕! 나는 지구인 이야. 나는 다리가 4 개 있어\n"
     ]
    }
   ],
   "source": [
    "# Ver 1.\n",
    "print('안녕! 나는', '지구인', '이야. 나는 다리가', 4, '개 있어')"
   ]
  },
  {
   "cell_type": "code",
   "execution_count": 6,
   "metadata": {},
   "outputs": [
    {
     "name": "stdout",
     "output_type": "stream",
     "text": [
      "안녕! 나는 지구인 이야. 나는 다리가 4 개 있어\n"
     ]
    }
   ],
   "source": [
    "# Ver 2.\n",
    "identity = '지구인'\n",
    "number_of_legs = 4\n",
    "print('안녕! 나는', identity, '이야. 나는 다리가', number_of_legs, '개 있어')"
   ]
  },
  {
   "cell_type": "code",
   "execution_count": 7,
   "metadata": {},
   "outputs": [
    {
     "name": "stdout",
     "output_type": "stream",
     "text": [
      "안녕! 나는 한국인 이야. 나는 다리가 2 개 있어\n"
     ]
    }
   ],
   "source": [
    "identity = '한국인'\n",
    "number_of_legs = 2\n",
    "print('안녕! 나는', identity, '이야. 나는 다리가', number_of_legs, '개 있어')"
   ]
  },
  {
   "cell_type": "markdown",
   "metadata": {},
   "source": [
    "`name`이라는 변수를 만들고 거기에 자신의 이름을 넣어 보세요. 이름을 넣을때는 이름을 따옴표로 감싸우어야 합니다."
   ]
  },
  {
   "cell_type": "markdown",
   "metadata": {},
   "source": [
    "ex) identity = '지구인'"
   ]
  },
  {
   "cell_type": "code",
   "execution_count": 8,
   "metadata": {},
   "outputs": [
    {
     "name": "stdout",
     "output_type": "stream",
     "text": [
      "ㅇㅇㅇ\n"
     ]
    }
   ],
   "source": [
    "name = 'ㅇㅇㅇ'\n",
    "print(name)"
   ]
  },
  {
   "cell_type": "markdown",
   "metadata": {},
   "source": [
    "----\n",
    "다음 print문이 선언된 season을 출력하도록 만들어 보세요."
   ]
  },
  {
   "cell_type": "markdown",
   "metadata": {},
   "source": [
    "```python\n",
    "season = '겨울'\n",
    "print('지금은','이 따옴표로 쌓인 글을 지우고 대신 변수 season을 넣어 보세요','입니다.')\n",
    "```"
   ]
  },
  {
   "cell_type": "code",
   "execution_count": 9,
   "metadata": {},
   "outputs": [
    {
     "name": "stdout",
     "output_type": "stream",
     "text": [
      "지금은 겨울 입니다.\n"
     ]
    }
   ],
   "source": [
    "season = '겨울'\n",
    "print('지금은', season, '입니다.')"
   ]
  },
  {
   "cell_type": "markdown",
   "metadata": {},
   "source": [
    "---\n",
    "# 주석"
   ]
  },
  {
   "cell_type": "markdown",
   "metadata": {},
   "source": [
    "두번째 프린트 문을 주석처리해서 실행결과\n",
    "```\n",
    "주석은\n",
    "실행되지 않습니다.\n",
    "```"
   ]
  },
  {
   "cell_type": "markdown",
   "metadata": {},
   "source": [
    "```python\n",
    "print(\"주석은\")\n",
    "print(\"이 프린트 문을 주석처리 하세요\")\n",
    "print(\"실행되지 않습니다.\")\n",
    "```"
   ]
  },
  {
   "cell_type": "code",
   "execution_count": 10,
   "metadata": {},
   "outputs": [
    {
     "name": "stdout",
     "output_type": "stream",
     "text": [
      "주석은\n",
      "실행되지 않습니다.\n"
     ]
    }
   ],
   "source": [
    "print(\"주석은\")\n",
    "# print(\"이 프린트 문을 주석처리 하세요\")\n",
    "print(\"실행되지 않습니다.\")"
   ]
  },
  {
   "cell_type": "markdown",
   "metadata": {},
   "source": [
    "----\n",
    "# 숫자와 문자열"
   ]
  },
  {
   "cell_type": "markdown",
   "metadata": {},
   "source": [
    "42 = 숫자, 수학 연산이 가능, +-*/% <br>\n",
    "\"문자열\" = 문자열, 화면에 그대로 출력 가능, 따옴표로 둘러싸서 표시"
   ]
  },
  {
   "cell_type": "code",
   "execution_count": 13,
   "metadata": {},
   "outputs": [
    {
     "name": "stdout",
     "output_type": "stream",
     "text": [
      "Python 은 이제 25 살\n",
      "내년에는 26 살\n",
      "81 6.0 1024 3\n",
      "20151991\n",
      "4006\n"
     ]
    }
   ],
   "source": [
    "my_name = 'Python'   # 문자열 (사람을 위한 텍스트를 프로그래머가 부르는 방법)\n",
    "my_age = 2016 - 1991 # 숫자\n",
    "\n",
    "print(my_name, '은 이제', my_age, '살')\n",
    "\n",
    "my_next_age = my_age + 1\n",
    "\n",
    "print('내년에는', my_next_age, '살')\n",
    "\n",
    "multiply = 9 * 9 # = 81\n",
    "divide = 30 / 5 # = 6\n",
    "power = 2 ** 10 # 1024\n",
    "reminder = 15 % 4 # = 3\n",
    "\n",
    "print(multiply, divide, power, reminder)\n",
    "\n",
    "text = '2015' + '1991'\n",
    "number = 2015 + 1991\n",
    "\n",
    "print(text)\n",
    "print(number)"
   ]
  },
  {
   "cell_type": "markdown",
   "metadata": {},
   "source": [
    "---\n",
    "변수 a와 b가 각각 다음과 같이 선언되어 있을때 변수 `summation`,`multiply`,`divide`,`reminder`,`power`를 다음의 값을 가지도록 만들어 보세요"
   ]
  },
  {
   "cell_type": "markdown",
   "metadata": {},
   "source": [
    "`summation`은 a와 b의 합 <br>\n",
    "`multiply`는 a와 b의 곱 <br>\n",
    "`divide`는 a를 b로 나눈 값 <br>\n",
    "`remainder`는 a를 b로 나눈 나머지 <br>\n",
    "`power`는 a의 b승 <br>"
   ]
  },
  {
   "cell_type": "code",
   "execution_count": 14,
   "metadata": {},
   "outputs": [
    {
     "name": "stdout",
     "output_type": "stream",
     "text": [
      "summation은 36입니다.\n",
      "multiply는 99입니다.\n",
      "divide는 11.0입니다.\n",
      "remaindersms 0입니다.\n",
      "power는 35937입니다.\n"
     ]
    }
   ],
   "source": [
    "a = 33\n",
    "b = 3\n",
    "\n",
    "summation = a + b\n",
    "multiply = a * b\n",
    "divide = a / b\n",
    "remainder = a % b\n",
    "power = a ** b\n",
    "\n",
    "print('summation은 {}입니다.'.format(summation))\n",
    "print('multiply는 {}입니다.'.format(multiply))\n",
    "print('divide는 {}입니다.'.format(divide))\n",
    "print('remaindersms {}입니다.'.format(remainder))\n",
    "print('power는 {}입니다.'.format(power))"
   ]
  },
  {
   "cell_type": "markdown",
   "metadata": {},
   "source": [
    "---\n",
    "`birth_year`와 `birth_data`를 활용해서 `year_and_date`가 생년월일에 해당하는 문자열을 가지도록 만들어 보세요."
   ]
  },
  {
   "cell_type": "markdown",
   "metadata": {},
   "source": [
    "예를 들어, `birth_year`가 1999이고, `birth_date`가 0326일 때 `year_and_date`가 19990326의 문자열을 가지도록 코드를 작성해 보세요."
   ]
  },
  {
   "cell_type": "markdown",
   "metadata": {},
   "source": [
    "```python\n",
    "birth_year = '1999'\n",
    "birth_date = '0326'\n",
    "year_and_date =\n",
    "\n",
    "print(\"year_and_date : {}\".format(year_and_date))\n",
    "```"
   ]
  },
  {
   "cell_type": "code",
   "execution_count": 15,
   "metadata": {},
   "outputs": [
    {
     "name": "stdout",
     "output_type": "stream",
     "text": [
      "year_and_date : 19990326\n"
     ]
    }
   ],
   "source": [
    "birth_year = '1999'\n",
    "birth_date = '0326'\n",
    "year_and_date = '1999' + '0326'\n",
    "\n",
    "print(\"year_and_date : {}\".format(year_and_date))"
   ]
  },
  {
   "cell_type": "markdown",
   "metadata": {},
   "source": [
    "---\n",
    "# Part 3. 조건문"
   ]
  },
  {
   "cell_type": "markdown",
   "metadata": {},
   "source": [
    "# if문"
   ]
  },
  {
   "cell_type": "code",
   "execution_count": 16,
   "metadata": {},
   "outputs": [
    {
     "name": "stdout",
     "output_type": "stream",
     "text": [
      "신나는 사과 파티! 배 터지게 먹자\n"
     ]
    }
   ],
   "source": [
    "people = 3\n",
    "apple = 20\n",
    "if people < apple / 5:\n",
    "    print('신나는 사과 파티! 배 터지게 먹자')\n",
    "if apple % apple > 0:\n",
    "    print('사과 수가 맞지 않아! 몇 개는 쪼개 먹자')\n",
    "if people > apple:\n",
    "    print('사람이 너무 많아! 몇 명은...')"
   ]
  },
  {
   "cell_type": "markdown",
   "metadata": {},
   "source": [
    "다음 코드의 2번째 줄에 if문을 추가하고 조건식에 `True`를 입력해서 print문이 실행되도록 만들어 보세요."
   ]
  },
  {
   "cell_type": "markdown",
   "metadata": {},
   "source": [
    "```python\n",
    "if True:\n",
    "    print(\"if문 아래줄은 들여쓰기 되어야 합니다.\")\n",
    "```"
   ]
  },
  {
   "cell_type": "code",
   "execution_count": 17,
   "metadata": {},
   "outputs": [
    {
     "name": "stdout",
     "output_type": "stream",
     "text": [
      "if문 아래줄은 들여쓰기 되어야 합니다.\n"
     ]
    }
   ],
   "source": [
    "if True:\n",
    "    print(\"if문 아래줄은 들여쓰기 되어야 합니다.\")\n",
    "\n",
    "if False:\n",
    "    print(\"조건식이 False이므로 실행되지 않습니다.\")"
   ]
  },
  {
   "cell_type": "markdown",
   "metadata": {},
   "source": [
    "----\n",
    "# 조건식"
   ]
  },
  {
   "cell_type": "markdown",
   "metadata": {},
   "source": [
    "다음 코드는 변수 hour에 현재 시간을 저장합니다. hour에 저장된 현재 시간이 12보다 작을때만 코드 8번째줄의 Print문이 실행되도록 코드 7번째줄에 if문을 추가하세요."
   ]
  },
  {
   "cell_type": "markdown",
   "metadata": {},
   "source": [
    "```python\n",
    "# 아래 두 줄의 코드는 변수 hour에 현재 시간을 저장합니다.\n",
    "from datetime import datetime\n",
    "hour = datetime.now().hour\n",
    "\n",
    "# 현재 시간이 12시보다 작을때만 print문을 실행하도록 이 아래줄에 if문을 추가하세요.\n",
    "\n",
    "print('오전입니다.') #if문을 추가한 이후 이 줄은 들여쓰기 되어야 한다.\n",
    "```"
   ]
  },
  {
   "cell_type": "code",
   "execution_count": 1,
   "metadata": {},
   "outputs": [],
   "source": [
    "from datetime import datetime\n",
    "hour = datetime.now().hour\n",
    "\n",
    "if hour < 12:\n",
    "    print('오전입니다.')"
   ]
  },
  {
   "cell_type": "markdown",
   "metadata": {},
   "source": [
    "어떤 숫자가 3의 배수인지 알아보기 위해서는 그 숫자를 3으로 나눈 나머지가 0인지 알아보면 된다. 나머지는 `%` 연산자를 사용하면 알수가 있다. 다음 코드를 실행해서 출력되는 결과를 확인해보자"
   ]
  },
  {
   "cell_type": "code",
   "execution_count": 4,
   "metadata": {},
   "outputs": [
    {
     "name": "stdout",
     "output_type": "stream",
     "text": [
      "15는 3의 배수입니다.\n"
     ]
    }
   ],
   "source": [
    "number = 15\n",
    "if number % 3 == 0: # number가 3의 배수인지 확인\n",
    "    print(\"{}는 3의 배수입니다.\".format(number)) # 이 코드는 실행\n",
    "    \n",
    "number = 16\n",
    "if number % 3 == 0: # number가 3의 배수인지 확인\n",
    "    print(\"{}는 3의 배수입니다.\".format(number)) # 이 코드는 실행되지 않는다"
   ]
  },
  {
   "cell_type": "markdown",
   "metadata": {},
   "source": [
    "매 6시간마다 종이 울리는 시계를 구현하기 위해 `hour`에 저장된 현재 시간이 0, 6, 12, 18시(6의 배수)일때만 코드 8번째줄의 print문이 실행되도록 코드 7번째줄에 if문을 추가하세요."
   ]
  },
  {
   "cell_type": "code",
   "execution_count": 5,
   "metadata": {},
   "outputs": [],
   "source": [
    "from datetime import datetime\n",
    "hour = datetime.now().hour\n",
    "\n",
    "if hour % 6 == 0:\n",
    "    print('종이 울립니다.')"
   ]
  },
  {
   "cell_type": "markdown",
   "metadata": {},
   "source": [
    "----\n",
    "# if else"
   ]
  },
  {
   "cell_type": "markdown",
   "metadata": {},
   "source": [
    "### else\n",
    "* if의 조건이 맞지 않는 경우 항상 실행\n",
    "* 반드시 if뒤에 나와야 한다."
   ]
  },
  {
   "cell_type": "markdown",
   "metadata": {},
   "source": [
    "```python\n",
    "if mine == yours:\n",
    "    result = DRAW\n",
    "else:\n",
    "    result = '이기거나 지거나'\n",
    "```"
   ]
  },
  {
   "cell_type": "markdown",
   "metadata": {},
   "source": [
    "### elif\n",
    "* else와 if의 결합으로 조건이 맞지 않는 경우 다른 경우를 검사\n",
    "* 기능의 차이가 아닌 보이는 것의 차이"
   ]
  },
  {
   "cell_type": "markdown",
   "metadata": {},
   "source": [
    "```python\n",
    "if mine == SCISSOR:\n",
    "    result = '가위' # 조건이 참일 때 실행\n",
    "elif mine == ROCK:\n",
    "    result = '바위' # 다른 조건이 참일 때 실행\n",
    "else:\n",
    "    result = '나머지' # 조건이 거짓일 때 실행\n",
    "```"
   ]
  },
  {
   "cell_type": "markdown",
   "metadata": {},
   "source": [
    "----\n",
    "```python\n",
    "mine = '가위'\n",
    "yours = '바위'\n",
    "if mine == yours:\n",
    "    print('비겨버렸습니다.')\n",
    "# 이 아래줄에 else문을 추가해서 비기지 않은 경우에만 아래 print문이 실행되도록 만들어 보세요\n",
    "\n",
    "print('비기지 않았습니다.') # else문이 추가되고 나면 이 줄은 들여쓰기가 되어야 한다\n",
    "```"
   ]
  },
  {
   "cell_type": "code",
   "execution_count": 6,
   "metadata": {},
   "outputs": [
    {
     "name": "stdout",
     "output_type": "stream",
     "text": [
      "비기지 않았습니다.\n"
     ]
    }
   ],
   "source": [
    "mine = '가위'\n",
    "yours = '바위'\n",
    "if mine == yours:\n",
    "    print('비겨버렸습니다.')\n",
    "\n",
    "else:\n",
    "    print('비기지 않았습니다.')"
   ]
  },
  {
   "cell_type": "markdown",
   "metadata": {},
   "source": [
    "----\n",
    "gener의 값을 검사해서 \"남자\"라면 \"남자입니다.\" 라고 출력하고 \"여자\"라면 \"여자입니다.\" 라고 출력하고,<br> 둘 다 아닐경우 \"논바이너리입니다.\" 라고 출력하도록 만들어보세요.<br>\n",
    "`if`, `elif`, `else`를 이용해야 한다."
   ]
  },
  {
   "cell_type": "code",
   "execution_count": 7,
   "metadata": {},
   "outputs": [
    {
     "name": "stdout",
     "output_type": "stream",
     "text": [
      "남자입니다.\n"
     ]
    }
   ],
   "source": [
    "gender = '남자'\n",
    "if gender:\n",
    "    print(\"남자입니다.\")\n",
    "elif gender:\n",
    "    print(\"여자입니다.\")\n",
    "else:\n",
    "    print(\"논바이너리입니다.\")"
   ]
  },
  {
   "cell_type": "markdown",
   "metadata": {},
   "source": [
    "----"
   ]
  },
  {
   "cell_type": "code",
   "execution_count": 8,
   "metadata": {},
   "outputs": [
    {
     "name": "stdout",
     "output_type": "stream",
     "text": [
      "졌다\n"
     ]
    }
   ],
   "source": [
    "mine = '가위'\n",
    "yours = '바위'\n",
    "\n",
    "if mine == yours:\n",
    "    print(\"비김\")\n",
    "else:\n",
    "    if mine == '가위':\n",
    "        if yours == '보':\n",
    "            print(\"이겼다\")\n",
    "        else:\n",
    "            print(\"졌다\")\n",
    "    else:\n",
    "        if mine == '바위':\n",
    "            if yours == '가위':\n",
    "                print(\"이겼다\")\n",
    "            else:\n",
    "                print(\"졌다\")"
   ]
  },
  {
   "cell_type": "code",
   "execution_count": 9,
   "metadata": {},
   "outputs": [
    {
     "name": "stdout",
     "output_type": "stream",
     "text": [
      "졌다\n"
     ]
    }
   ],
   "source": [
    "mine = '가위'\n",
    "yours = '바위'\n",
    "\n",
    "if mine == yours:\n",
    "    print('비김')\n",
    "elif mine == '가위' and yours == '보':\n",
    "    print('이겼다')\n",
    "elif mine == '바위' and yours == '가위':\n",
    "    print('이겼다')\n",
    "elif mine == '보' and yours == '바위':\n",
    "    print('이겼다')\n",
    "else:\n",
    "    print('졌다')"
   ]
  },
  {
   "cell_type": "markdown",
   "metadata": {},
   "source": [
    "---\n",
    "# Part 4. 함수"
   ]
  },
  {
   "cell_type": "markdown",
   "metadata": {},
   "source": [
    "# 함수"
   ]
  },
  {
   "cell_type": "markdown",
   "metadata": {},
   "source": [
    "* 함수는 코드의 덩어리에 이름을 붙인 것이다.\n",
    "* 새 함수를 정의할 수 있다.\n",
    "* print는 미리 만들어진 함수이다.\n",
    "* 함수를 한번 만들고 나면, 그 안은 잊어버려도 좋다."
   ]
  },
  {
   "cell_type": "markdown",
   "metadata": {},
   "source": [
    "```python\n",
    "def function():         # 함수의 정의\n",
    "    print('안녕, 함수!')\n",
    "    \n",
    "print('첫줄 실행')\n",
    "function()              # 함수의 호출\n",
    "print('끝줄 실행')\n",
    "```"
   ]
  },
  {
   "cell_type": "code",
   "execution_count": 10,
   "metadata": {},
   "outputs": [
    {
     "name": "stdout",
     "output_type": "stream",
     "text": [
      "해는 2.0 또는 -4.0\n",
      "해는 4.0 또는 -1.0\n"
     ]
    }
   ],
   "source": [
    "def print_sqrt():\n",
    "    r1 = (-b + (b ** 2 - 4 * a * c) ** 0.5) / (2 * a)\n",
    "    r2 = (-b - (b ** 2 - 4 * a * c) ** 0.5) / (2 * a)\n",
    "    \n",
    "    print('해는 {} 또는 {}'.format(r1, r2))\n",
    "    \n",
    "a = 1\n",
    "b = 2\n",
    "c = -8\n",
    "\n",
    "# a * x^2 + b * x + c = 0, a != 0 인 x에 관한 2차방정식에 대해,\n",
    "# 근의 공식은\n",
    "\n",
    "# r1 = (-b + (b ** 2 - 4 * a * c) ** 0.5) / (2 * a)\n",
    "# r2 = (-b - (b ** 2 - 4 * a * c) ** 0.5) / (2 * a)\n",
    "\n",
    "# print('해는 {} 또는 {}'.format(r1, r2))\n",
    "print_sqrt()\n",
    "\n",
    "a = 2\n",
    "b = -6\n",
    "c = -8\n",
    "\n",
    "# 한 번 더 구하려면\n",
    "print_sqrt()"
   ]
  },
  {
   "cell_type": "markdown",
   "metadata": {},
   "source": [
    "----"
   ]
  },
  {
   "cell_type": "code",
   "execution_count": 12,
   "metadata": {},
   "outputs": [
    {
     "name": "stdout",
     "output_type": "stream",
     "text": [
      "안녕 함수!\n"
     ]
    }
   ],
   "source": [
    "def function():\n",
    "    print('안녕 함수!')\n",
    "    \n",
    "function()"
   ]
  },
  {
   "cell_type": "code",
   "execution_count": 13,
   "metadata": {},
   "outputs": [
    {
     "name": "stdout",
     "output_type": "stream",
     "text": [
      "\n",
      "\n",
      "\n",
      "안녕 함수!\n",
      "안녕 함수!\n",
      "안녕 함수!\n"
     ]
    }
   ],
   "source": [
    "def function():\n",
    "    print('안녕 함수!')\n",
    "\n",
    "print() # 내장 함수\n",
    "print()\n",
    "print()\n",
    "\n",
    "function() # 직접 만든 함수\n",
    "function()\n",
    "function()"
   ]
  },
  {
   "cell_type": "markdown",
   "metadata": {},
   "source": [
    "----"
   ]
  },
  {
   "cell_type": "markdown",
   "metadata": {},
   "source": [
    "a의 값은 5, b의 값은 7. `result`에 a와 b를 더한 값을 저장하고 출력한다. 이 부분을 함수로 만들면"
   ]
  },
  {
   "cell_type": "code",
   "execution_count": 16,
   "metadata": {},
   "outputs": [
    {
     "name": "stdout",
     "output_type": "stream",
     "text": [
      "12\n"
     ]
    }
   ],
   "source": [
    "a = 5\n",
    "b = 7\n",
    "\n",
    "def add():\n",
    "    result = a + b\n",
    "    print(result)\n",
    "\n",
    "add()"
   ]
  },
  {
   "cell_type": "markdown",
   "metadata": {},
   "source": [
    "----\n",
    "# 매개변수"
   ]
  },
  {
   "cell_type": "markdown",
   "metadata": {},
   "source": [
    "* 함수를 정의할 때 사용하는 이름"
   ]
  },
  {
   "cell_type": "markdown",
   "metadata": {},
   "source": [
    "### 실행인자\n",
    "* 함수를 실행할 때 넘기는 변수, 값\n",
    "\n",
    "### 매개변수와 실행 인자\n",
    "* 매개변수와 실행 인자의 개수는 동일해야 한다.\n",
    "* 여러 개일 경우 쉼표로 구분"
   ]
  },
  {
   "cell_type": "markdown",
   "metadata": {},
   "source": [
    "```python\n",
    "def print_round(number): # 함수의 정의\n",
    "    rounded = round(number)\n",
    "    print(rounded)\n",
    "    \n",
    "print_round(4.6) # 함수의 호출\n",
    "print_round(2.2)\n",
    "```"
   ]
  },
  {
   "cell_type": "markdown",
   "metadata": {},
   "source": [
    "---\n",
    "매개변수 (parameter) : 정의에서 사용하는 이름 <br>\n",
    "실행인자 (argument) : 실행할 때 넘기는 값 <br>\n",
    "\n",
    "양 쪽의 갯수는 일치, 여러 개일 때는 쉼표로 구분 <br>\n",
    "\n",
    "---"
   ]
  },
  {
   "cell_type": "code",
   "execution_count": 20,
   "metadata": {},
   "outputs": [
    {
     "name": "stdout",
     "output_type": "stream",
     "text": [
      "해는 2.0 또는 -4.0\n",
      "해는 4.0 또는 -1.0\n",
      "5\n",
      "2\n",
      "4\n"
     ]
    }
   ],
   "source": [
    "def print_root(a, b, c): # (a, b, c) <- 매개변수\n",
    "    r1 = (-b + (b ** 2 - 4 * a * c) ** 0.5) / (2 * a)\n",
    "    r2 = (-b - (b ** 2 - 4 * a * c) ** 0.5) / (2 * a)\n",
    "    \n",
    "    print('해는 {} 또는 {}'.format(r1, r2))\n",
    "    \n",
    "x = 1\n",
    "y = 2\n",
    "z = -8\n",
    "\n",
    "# a * x^2 + b * x + c = 0, a != 0 인 x에 관한 2차방정식에 대해,\n",
    "# 근의 공식은\n",
    "\n",
    "# r1 = (-b + (b ** 2 - 4 * a * c) ** 0.5) / (2 * a)\n",
    "# r2 = (-b - (b ** 2 - 4 * a * c) ** 0.5) / (2 * a)\n",
    "\n",
    "# print('해는 {} 또는 {}'.format(r1, r2))\n",
    "print_root(x, y, z) # <- 실행인자\n",
    "\n",
    "x = 2\n",
    "y = -6\n",
    "z = -8\n",
    "\n",
    "# 한 번 더 구하려면\n",
    "print_root(x, y, z) # <- 실행인자\n",
    "\n",
    "def print_round(number):\n",
    "    rounded = round(number)\n",
    "    print(rounded)\n",
    "\n",
    "print_round(4.6)\n",
    "print_round(2.2)\n",
    "print_round(3.6)"
   ]
  },
  {
   "cell_type": "markdown",
   "metadata": {},
   "source": [
    "함수 `add`는 매개변수로 a와 b를 받고 있다. <br>\n",
    "코드를 수정해서 result에 a와 b를 더한 값을 저장하고 출력되도록 만들자 <br>"
   ]
  },
  {
   "cell_type": "markdown",
   "metadata": {},
   "source": [
    "```python\n",
    "def add(a, b):\n",
    "    # 함수 add에서 a와 b를 입력받아서 두 값을 더한 값을 result에 저장하고 출력하도록 만들어 보세요.\n",
    "    result =\n",
    "    print(\"{} + {} = {}\".format(a, b, result))\n",
    "   \n",
    "add(10, 5)\n",
    "```"
   ]
  },
  {
   "cell_type": "code",
   "execution_count": 21,
   "metadata": {},
   "outputs": [
    {
     "name": "stdout",
     "output_type": "stream",
     "text": [
      "10 + 5 = 15\n"
     ]
    }
   ],
   "source": [
    "def add(a, b):\n",
    "    result = a + b\n",
    "    print(\"{} + {} = {}\".format(a, b, result))\n",
    "\n",
    "add(10, 5)"
   ]
  },
  {
   "cell_type": "markdown",
   "metadata": {},
   "source": [
    "----"
   ]
  },
  {
   "cell_type": "markdown",
   "metadata": {},
   "source": [
    "# 함수의 값"
   ]
  },
  {
   "cell_type": "markdown",
   "metadata": {},
   "source": [
    "* return을 이용해 값을 돌려줄 수 있다."
   ]
  },
  {
   "cell_type": "markdown",
   "metadata": {},
   "source": [
    "```python\n",
    "def add_10(value):\n",
    "    result = value + 10\n",
    "    return result\n",
    "\n",
    "n = add_10(5)\n",
    "print(n)\n",
    "```"
   ]
  },
  {
   "cell_type": "markdown",
   "metadata": {},
   "source": [
    "* 여러 값 반환\n",
    "    * return 뒤에 여러 값을 쉼표로 구분해서 값을 보내고, 받을때도 쉼표로 구분하여 받는다.\n",
    "* 함수를 사용하는 것은 함수 안의 코드를 모두 실행한 뒤 이 함수의 자리에 return에 있는 값을 넣은 것과 같다."
   ]
  },
  {
   "cell_type": "markdown",
   "metadata": {},
   "source": [
    "### 함수\n",
    "* 함수는 코드의 덩어리에 이름을 붙이는 것\n",
    "    * 변수와 비슷하다\n",
    "    * 변수는 복잡한 계산식에 이름을 붙여 저장\n",
    "* 매개변수를 이용하면 값을 전달받는 함수를 만들 수 있다."
   ]
  },
  {
   "cell_type": "code",
   "execution_count": 23,
   "metadata": {},
   "outputs": [
    {
     "name": "stdout",
     "output_type": "stream",
     "text": [
      "근은 2.0 2.0\n"
     ]
    }
   ],
   "source": [
    "def root(a, b, c):\n",
    "    r1 = (-b + (b ** 2 - 4 * a * c) ** 0.5) / (2 * a)\n",
    "    r2 = (-b + (b ** 2 - 4 * a * c) ** 0.5) / (2 * a)\n",
    "    \n",
    "    return r1, r2\n",
    "\n",
    "x = 1\n",
    "y = 2\n",
    "z = -8\n",
    "\n",
    "r1, r2 = root(x, y, z)\n",
    "print('근은 {} {}'.format(r1, r2))"
   ]
  },
  {
   "cell_type": "markdown",
   "metadata": {},
   "source": [
    "---"
   ]
  },
  {
   "cell_type": "markdown",
   "metadata": {},
   "source": [
    "매개변수로 변수 a와 b를 받는 함수 `add`를 정의하고 a와 b를 더한 값을 return 해보세요."
   ]
  },
  {
   "cell_type": "markdown",
   "metadata": {},
   "source": [
    "```python\n",
    "def 함수이름(매개변수1, 매개변수2):\n",
    "```"
   ]
  },
  {
   "cell_type": "markdown",
   "metadata": {},
   "source": [
    "---"
   ]
  },
  {
   "cell_type": "code",
   "execution_count": 25,
   "metadata": {},
   "outputs": [],
   "source": [
    "# Ver 1.\n",
    "def add(a, b):\n",
    "    return a + b"
   ]
  },
  {
   "cell_type": "code",
   "execution_count": 26,
   "metadata": {},
   "outputs": [],
   "source": [
    "# Ver 2.\n",
    "def add(a, b):\n",
    "    n = a + b\n",
    "    return n"
   ]
  },
  {
   "cell_type": "markdown",
   "metadata": {},
   "source": [
    "---\n",
    "# Part 5. 자료형"
   ]
  },
  {
   "cell_type": "markdown",
   "metadata": {},
   "source": [
    "# format"
   ]
  },
  {
   "cell_type": "markdown",
   "metadata": {},
   "source": [
    "**문자열.format()**\n",
    "* 문자열의 대괄호 자리에 format 뒤의 괄호한에 들어있는 값을 하나씩 넣는다\n",
    "* 문자열에 포함된 대괄호 개수 보다 format안에 들어 있는 값의 수가 많으면 정상 작동<br>\n",
    "`print('{} 번 손님'.format(number, greeting))`\n",
    "* 문자열에 포함된 대괄호 개수 보다 format 들어 있는 값의 수가 적으면 에러<br>\n",
    "`print('{} 번 손님 {}'.format(number))`"
   ]
  },
  {
   "cell_type": "markdown",
   "metadata": {},
   "source": [
    "```python\n",
    "number = 20\n",
    "welcome = '환영합니다'\n",
    "base = '{}번 손님 {}'\n",
    "\n",
    "# 아래 3개의 print는 같은 값을 출력\n",
    "print(number, '번 손님', welcome)\n",
    "print(base, format(number, welcome))\n",
    "print('{} 번 손님 {}'.format(number, welcome))\n",
    "# => 20 번 손님 환영합니다.\n",
    "```"
   ]
  },
  {
   "cell_type": "code",
   "execution_count": 28,
   "metadata": {},
   "outputs": [
    {
     "name": "stdout",
     "output_type": "stream",
     "text": [
      "20 번 손님 안녕하세요 . 문자열 포맷의 세계 에 오신 것을 환영합니다 !\n",
      "{}번 손님, {}. {}에 오신 것을 {}!\n",
      "20번 손님, 안녕하세요. 문자열 포맷의 세계에 오신 것을 환영합니다!\n"
     ]
    }
   ],
   "source": [
    "# 인사 로봇\n",
    "number = 20\n",
    "greeting = '안녕하세요'\n",
    "place = '문자열 포맷의 세계'\n",
    "welcome = '환영합니다'\n",
    "\n",
    "# old way\n",
    "print(number, '번 손님', greeting, '.', place, '에 오신 것을', welcome, '!')\n",
    "# 이게 편할 때도 있지만\n",
    "\n",
    "base = '{}번 손님, {}. {}에 오신 것을 {}!'\n",
    "new_way = base.format(number, greeting, place, welcome)\n",
    "# 이게 더 편할때도 있다\n",
    "\n",
    "print(base)\n",
    "print(new_way)"
   ]
  },
  {
   "cell_type": "markdown",
   "metadata": {},
   "source": [
    "----"
   ]
  },
  {
   "cell_type": "code",
   "execution_count": 29,
   "metadata": {},
   "outputs": [
    {
     "name": "stdout",
     "output_type": "stream",
     "text": [
      "나는 가위, 너는 바위, 그래서 졌다...\n"
     ]
    }
   ],
   "source": [
    "mine = '가위'\n",
    "yours = '바위'\n",
    "result = '졌다...'\n",
    "print('나는 {}, 너는 {}, 그래서 {}'.format(mine, yours, result))"
   ]
  },
  {
   "cell_type": "markdown",
   "metadata": {},
   "source": [
    "----"
   ]
  },
  {
   "cell_type": "markdown",
   "metadata": {},
   "source": [
    "변수 name과 color에 자신의 이름과 좋아하는 색상을 문자열로 입력하고 3번째줄 `.format()`의 괄호 안을 수정해서 자신의 이름과 좋아하는 색상을 출력해 보세요."
   ]
  },
  {
   "cell_type": "markdown",
   "metadata": {},
   "source": [
    "```python\n",
    "name = \n",
    "color =\n",
    "print('안녕하세요. 제 이름은 {}이고 좋아하는 색상은 {} 입니다.'.format())\n",
    "```"
   ]
  },
  {
   "cell_type": "code",
   "execution_count": 30,
   "metadata": {},
   "outputs": [
    {
     "name": "stdout",
     "output_type": "stream",
     "text": [
      "안녕하세요. 제 이름은 홍길동이고 좋아하는 색상은 블루 입니다.\n"
     ]
    }
   ],
   "source": [
    "name = '홍길동'\n",
    "color = '블루'\n",
    "print('안녕하세요. 제 이름은 {}이고 좋아하는 색상은 {} 입니다.'.format(name, color))"
   ]
  },
  {
   "cell_type": "markdown",
   "metadata": {},
   "source": [
    "----\n",
    "# 문자열\n",
    "**'또는 \"로 문자열 만들기**\n",
    "* '또는 \"로 글의 양쪽을 감싸면 문자열로 인식\n",
    "* '로 감싼 문자열 안에는 \"를 쓸 수 있다.\n",
    "* \"로 감싼 문자열 안에는 '를 쓸 수 있다.\n",
    "```python\n",
    "string1 = '따옴표로 싼 문자열 안에는 큰따옴표(\")를 사용할 수 있다.'\n",
    "string2 = \"큰따옴표로 싼 문자열 안에는 따옴표(')를 사용할 수 있다.\"\n",
    "```\n",
    "**따옴표 / 큰따옴표 3개로 문자열 만들기**\n",
    "* 줄 바꿈도 인식 가능\n",
    "* 따옴표와 큰따옴표를 섞어 쓸 수 있다.\n",
    "```python\n",
    "string3 = \"\"\"줄도 바꾸고\n",
    "큰 따옴표\"와 따옴표'를 마음대로 쓸 수 있음\"\"\"\n",
    "```\n",
    "\n",
    "자료형 or 타입"
   ]
  },
  {
   "cell_type": "code",
   "execution_count": 32,
   "metadata": {},
   "outputs": [
    {
     "name": "stdout",
     "output_type": "stream",
     "text": [
      "Some text 어떤 텍스트 Some text도 어떤 텍스트도 지금 이것도 문자열\n",
      "Some text도 어떤 텍스트도 지금 이것도 문자열\n"
     ]
    }
   ],
   "source": [
    "string1 = 'Some text'\n",
    "string2 = '어떤 텍스트'\n",
    "string3 = '{}도 {}도 지금 이것도 문자열'.format(string1, string2)\n",
    "\n",
    "print(string1, string2, string3)\n",
    "print(string3)"
   ]
  },
  {
   "cell_type": "markdown",
   "metadata": {},
   "source": [
    "----"
   ]
  },
  {
   "cell_type": "code",
   "execution_count": 35,
   "metadata": {},
   "outputs": [
    {
     "name": "stdout",
     "output_type": "stream",
     "text": [
      "첫째줄은 좋은데\n",
      "둘째줄도 괜찮을까\n",
      "가끔은 '와 \"를 모두 쓰기도 해\n",
      "가끔은 '와 \"를 모두 쓰기도 해\n"
     ]
    }
   ],
   "source": [
    "long_string = '''첫째줄은 좋은데\n",
    "둘째줄도 괜찮을까'''\n",
    "\n",
    "print(long_string)\n",
    "\n",
    "quote1 = \"가끔은 '와 \" + '\"를 모두 쓰기도 해'\n",
    "quote2 = \"\"\"가끔은 '와 \"를 모두 쓰기도 해\"\"\"\n",
    "\n",
    "print(quote1)\n",
    "print(quote2)"
   ]
  },
  {
   "cell_type": "markdown",
   "metadata": {},
   "source": [
    "----\n",
    "다음과 같은 문자열을 값으로 가지는 변수 string1을 선언하세요.\n",
    "```python\n",
    "다스베이더가 말했다.\n",
    "\"내가 니 애비다!\"\n",
    "그 말을 들은 루크는 '깜짝' 놀랐다.\n",
    "```"
   ]
  },
  {
   "cell_type": "code",
   "execution_count": 36,
   "metadata": {},
   "outputs": [
    {
     "name": "stdout",
     "output_type": "stream",
     "text": [
      "다스 베이더가 말했다.\n",
      "\"내가 니 애비다!\"\n",
      "그 말을 들은 루크는 '깜짝' 놀랐다.\n"
     ]
    }
   ],
   "source": [
    "string1 = '''다스 베이더가 말했다.\n",
    "\"내가 니 애비다!\"\n",
    "그 말을 들은 루크는 '깜짝' 놀랐다.'''\n",
    "\n",
    "print(string1)"
   ]
  },
  {
   "cell_type": "markdown",
   "metadata": {},
   "source": [
    "---\n",
    "# 정수와 실수\n",
    "### 정수\n",
    "* 영어로 Integer, 줄여서 파이썬에서는 int라고 표현\n",
    "* 정수끼리 더하거나 곱하거나 빼면 정수\n",
    "* 정수끼리 나누면 실수가 나올 수 있으나, 나눗셈의 몫만 구하려면 // 연산자를 이용\n",
    "```python\n",
    "a = 5//3 # 계산결과 a = 1\n",
    "```\n",
    "* 실수를 정수로 바꾸려면 int를 이용\n",
    "    * `a = int(5.4)`라고 하면 a는 5를 값으로 가지게 된다.\n",
    "    \n",
    "### 실수\n",
    "* 부동소수점이라는 표현법을 이용해 소숫점을 표시할 수 있는 숫자\n",
    "* 어느정도의 계산 정확도는 가지지만, 계산에 있어서 완벽한 정확성은 가지지 않는다.\n",
    "```python\n",
    "0.1 + 0.1 + 0.1 == 0.3 # FALSE\n",
    "```\n",
    "* 정수를 실수로 바꾸려면 float를 사용\n",
    "    * `a = float(5)`라고 하면 a는 5.0을 값으로 가지게 된다."
   ]
  },
  {
   "cell_type": "code",
   "execution_count": 37,
   "metadata": {},
   "outputs": [
    {
     "name": "stdout",
     "output_type": "stream",
     "text": [
      "5\n",
      "5.0\n",
      "5.0\n"
     ]
    }
   ],
   "source": [
    "five1 = 5\n",
    "five2 = 5.0\n",
    "five3 = 5.00000\n",
    "\n",
    "print(five1)\n",
    "print(five2)\n",
    "print(five3)"
   ]
  },
  {
   "cell_type": "code",
   "execution_count": 39,
   "metadata": {},
   "outputs": [
    {
     "name": "stdout",
     "output_type": "stream",
     "text": [
      "5\n",
      "5.0\n"
     ]
    }
   ],
   "source": [
    "five4 = 5 * 1\n",
    "five5 = 5 * 1.0\n",
    "\n",
    "print(five4)\n",
    "print(five5)"
   ]
  },
  {
   "cell_type": "code",
   "execution_count": 41,
   "metadata": {},
   "outputs": [
    {
     "name": "stdout",
     "output_type": "stream",
     "text": [
      "1.2\n",
      "1\n"
     ]
    }
   ],
   "source": [
    "# 나눗셈은 정수끼리 나누어도 소수가 나온다.\n",
    "# 덧셈, 뺄샘, 곱셈과 달리 나눗셈은 그 결과가 정수가 아닐 가능성이 있기 때문이다.\n",
    "div1 = 6 / 5\n",
    "div2 = 6 // 5\n",
    "\n",
    "print(div1)\n",
    "print(div2)"
   ]
  },
  {
   "cell_type": "code",
   "execution_count": 44,
   "metadata": {},
   "outputs": [
    {
     "name": "stdout",
     "output_type": "stream",
     "text": [
      "True\n",
      "True\n",
      "False\n",
      "5\n",
      "5.0\n",
      "5.0\n"
     ]
    }
   ],
   "source": [
    "# 수학에서 실수는 항상 정수를 포함하는 개념\n",
    "# 파이썬에서 사용하는 실수 표현은 사실 실수 전체를 포함할 수는 없다. \n",
    "# 파이썬에서 쓰는 실수 표현을 부동소수점 이라 부른다.\n",
    "# 정수는 정수영역만 다룰 수 있는 대신에 항상 정확한 것이 보장되고\n",
    "# 부동소수점은 실수형을 다룰 수 있는 대신에 어느정도의 정확도는 가지지만 정확성은 보장x\n",
    "a = 6\n",
    "b = 5\n",
    "\n",
    "print(a == b * (a // b) + (a % b))\n",
    "\n",
    "print(0.1 + 0.1 == 0.2) # True\n",
    "print(0.1 + 0.1 + 0.1 == 0.3) # True ??\n",
    "\n",
    "print(int(5.0)) # 정수로\n",
    "print(float(5)) # 부동소수점으로\n",
    "print(5 * 1.0) # 부동소수점으로"
   ]
  },
  {
   "cell_type": "markdown",
   "metadata": {},
   "source": [
    "----\n",
    "변수 `age`에 자신의 나이를 입력하고, 변수 `height`에 자신의 키를 입력하세요.<br>\n",
    "`height`변수는 실수(float 또는 부동소수점)으로 표현하세요."
   ]
  },
  {
   "cell_type": "code",
   "execution_count": 45,
   "metadata": {},
   "outputs": [
    {
     "name": "stdout",
     "output_type": "stream",
     "text": [
      "나의 나이는 26살이고, 키는 175.5cm입니다.\n"
     ]
    }
   ],
   "source": [
    "age = 26\n",
    "height = float(175.5)\n",
    "print('나의 나이는 {}살이고, 키는 {}cm입니다.'.format(age, height))"
   ]
  },
  {
   "cell_type": "markdown",
   "metadata": {},
   "source": [
    "---\n",
    "변수 `div`를 선언하고, 변수 a를 b로 나눈 몫을 값으로 가지도록 계산해 보세요."
   ]
  },
  {
   "cell_type": "markdown",
   "metadata": {},
   "source": [
    "ex) a를 b로 나눈 몫을 값으로 가지므로 `/`연산자가 아닌 `//`연산자를 사용해야 한다."
   ]
  },
  {
   "cell_type": "code",
   "execution_count": 46,
   "metadata": {},
   "outputs": [
    {
     "name": "stdout",
     "output_type": "stream",
     "text": [
      "변수 div는 4입니다.\n"
     ]
    }
   ],
   "source": [
    "a = 23\n",
    "b = 5\n",
    "\n",
    "div = 23 // 5\n",
    "\n",
    "print(\"변수 div는 {}입니다.\".format(div))"
   ]
  },
  {
   "cell_type": "markdown",
   "metadata": {},
   "source": [
    "---\n",
    "# 사용자 입력받기\n",
    "### 프로그래밍의 3단계\n",
    "* 사용자 입력\n",
    "* 자료 처리\n",
    "* 결과 출력\n",
    "\n",
    "**input()**\n",
    "* 사용자의 키보드 입력을 return\n",
    "```python\n",
    "print('가위 바위 보 중 하나를 내주세요> ', end = ' ')\n",
    "mine = input()\n",
    "print('mine:', mine)\n",
    "```\n",
    "* 간단한 print기능을 내장\n",
    "```python\n",
    "mine = input('가위 바위 보 중 하나를 내주세요> ')\n",
    "print('mine:', mine)\n",
    "```"
   ]
  },
  {
   "cell_type": "code",
   "execution_count": 50,
   "metadata": {},
   "outputs": [
    {
     "name": "stdout",
     "output_type": "stream",
     "text": [
      "가위 바위 보 가운데 하나를 내 주세요> 가위\n",
      "mine: 가위\n"
     ]
    }
   ],
   "source": [
    "# Ver 1.\n",
    "print('가위 바위 보 가운데 하나를 내 주세요>', end = ' ')\n",
    "mine = input()\n",
    "print('mine:', mine)"
   ]
  },
  {
   "cell_type": "code",
   "execution_count": 52,
   "metadata": {},
   "outputs": [
    {
     "name": "stdout",
     "output_type": "stream",
     "text": [
      "가위 바위 보 가운데 하나를 내 주세요> 바위\n",
      "mine: 바위\n"
     ]
    }
   ],
   "source": [
    "# Ver 2.\n",
    "# input = 입력받기 전용으로 간단한 print 기능을 내장한 함수\n",
    "mine = input('가위 바위 보 가운데 하나를 내 주세요> ')\n",
    "print('mine:', mine)"
   ]
  },
  {
   "cell_type": "markdown",
   "metadata": {},
   "source": [
    "---\n",
    "# Part 6. 리스트"
   ]
  },
  {
   "cell_type": "markdown",
   "metadata": {},
   "source": [
    "# 리스트 사용\n",
    "**List**\n",
    "* 여러개의 값을 담을 수 있는 변수\n",
    "```python\n",
    "List1 = [1, 2, 3, 4, 5]\n",
    "```\n",
    "* 값 읽어오기\n",
    "    * 리스트를 사용할때는 0번째가 첫번째\n",
    "    * 첫번째값 `List[0]`\n",
    "    * 두번째값 `List[1]`\n",
    "    * 뒤에서 첫번째 값 `List[-1]`\n",
    "    * 뒤에서 두번째 값 `List[-2]`\n",
    "    * 리스트에 들어있는 값 보다 큰 값을 읽어오려고 하면 에러\n",
    "        * 예. 위의 list1에서 `List1[5]`또는 `List[-6]`은 에러\n",
    "* 값 쓰기\n",
    "    * 변수와 같이 `List1[0] = 10`이라고 하면 list의 첫번째 값이 10으로 변경"
   ]
  },
  {
   "cell_type": "code",
   "execution_count": 54,
   "metadata": {},
   "outputs": [
    {
     "name": "stdout",
     "output_type": "stream",
     "text": [
      "['가위', '바위', '보']\n",
      "[37, 23, 10, 35, 29, 40]\n",
      "바위\n"
     ]
    }
   ],
   "source": [
    "# 프로그래머의 세계에서는 숫자가 0부터 시작하는 경우가 많다.\n",
    "list1 = ['가위', '바위', '보']\n",
    "list2 = [37, 23, 10, 35, 29, 40]\n",
    "\n",
    "print(list1)\n",
    "print(list2)\n",
    "\n",
    "print(list1[1])"
   ]
  },
  {
   "cell_type": "code",
   "execution_count": 56,
   "metadata": {},
   "outputs": [
    {
     "name": "stdout",
     "output_type": "stream",
     "text": [
      "바위\n",
      "['바위', '바위', '보']\n"
     ]
    }
   ],
   "source": [
    "# 리스트안에 들어있는 값은 다른 변수처럼 다룰 수 있다. \n",
    "list1[0] = '바위'\n",
    "print(list1[0]) # 가위를 원하지 않으면 이렇게 바위로 바꿀 수 있다. \n",
    "print(list1)"
   ]
  },
  {
   "cell_type": "code",
   "execution_count": 61,
   "metadata": {},
   "outputs": [
    {
     "name": "stdout",
     "output_type": "stream",
     "text": [
      "보\n"
     ]
    }
   ],
   "source": [
    "# 리스트에 들어있는 값 보다 큰 값을 읽어오려고 하면 에러 \n",
    "print(list1[-1])"
   ]
  },
  {
   "cell_type": "markdown",
   "metadata": {},
   "source": [
    "---\n",
    "리스트 `rainbow`의 첫번째 값을 이용해서 무지개의 첫번째 색을 출력하는 코드입니다.<br>\n",
    "3번째줄이 `first_color`에 무지개의 첫번째 값을 저장하도록 수정해보세요."
   ]
  },
  {
   "cell_type": "markdown",
   "metadata": {},
   "source": [
    "```python\n",
    "rainbow = ['빨강', '주황', '노랑', '초록', '파랑', '남색', '보라']\n",
    "# rainbow를 이용해서 first_color에 값을 저장하세요\n",
    "first_color =\n",
    "print('무지개의 첫번째 색은 {}이다.'.format(first_color))\n",
    "```"
   ]
  },
  {
   "cell_type": "code",
   "execution_count": 62,
   "metadata": {},
   "outputs": [
    {
     "name": "stdout",
     "output_type": "stream",
     "text": [
      "무지개의 첫번째 색은 빨강이다.\n"
     ]
    }
   ],
   "source": [
    "rainbow = ['빨강', '주황', '노랑', '초록', '파랑', '남색', '보라']\n",
    "first_color = rainbow[0]\n",
    "print('무지개의 첫번째 색은 {}이다.'.format(first_color))"
   ]
  },
  {
   "cell_type": "code",
   "execution_count": 66,
   "metadata": {},
   "outputs": [
    {
     "name": "stdout",
     "output_type": "stream",
     "text": [
      "무지개의 마지막 색은 보라이다.\n"
     ]
    }
   ],
   "source": [
    "rainbow = ['빨강', '주황', '노랑', '초록', '파랑', '남색', '보라']\n",
    "last_color = rainbow[-1]\n",
    "print('무지개의 마지막 색은 {}이다.'.format(last_color))"
   ]
  },
  {
   "cell_type": "markdown",
   "metadata": {},
   "source": [
    "---\n",
    "# 리스트 수정\n",
    "**리스트에 새로운 값을 추가하는 방법**\n",
    "* `list1 = [1, 2, 3]`이라고 할때\n",
    "* append를 이용\n",
    "    * `list1.append(4)`\n",
    "    * append를 이용하면 리스트에 새로운 값이 추가된다.\n",
    "* 뒤에 새로운 리스트를 더하기\n",
    "    * `list2 = list1 + [4]`\n",
    "    * list1은 그대로 두고, 새로운 리스트를 만들어 낸다.\n",
    "\n",
    "**리스트에 값이 들어있는지 확인하는 방법**\n",
    "* in 연산을 이용\n",
    "```python\n",
    "# 12라는 값이 리스트에 들어있는지 확인하는 코드\n",
    "n = 12\n",
    "if n in list1:\n",
    "    print('{}가 리스트에 있다.'.format(n))\n",
    "```\n",
    "\n",
    "**리스트에서 필요 없는 값을 지우는 방법**\n",
    "* del을 이용해서 특정 위치의 값을 지우기\n",
    "    * `del list1[10]`리스트의 10번째 값을 지워라\n",
    "* remove를 이용해서 특정 값을 지우기\n",
    "    * `list1.remove(40)`을 하면 리스트에 40이라는 값이 있는경우 삭제\n",
    "    * 여러개의 값이 있는 경우 가장 앞에 있는 하나만 지워짐"
   ]
  },
  {
   "cell_type": "code",
   "execution_count": 67,
   "metadata": {},
   "outputs": [
    {
     "name": "stdout",
     "output_type": "stream",
     "text": [
      "[37, 23, 10, 33, 29, 40]\n",
      "[37, 23, 10, 33, 29, 40, 16]\n"
     ]
    }
   ],
   "source": [
    "list2 = [37, 23, 10, 33, 29, 40]\n",
    "print(list2)\n",
    "\n",
    "list2.append(16)\n",
    "print(list2)\n",
    "\n",
    "# append를 이용하면 리스트에 새로운 값이 추가 "
   ]
  },
  {
   "cell_type": "code",
   "execution_count": 70,
   "metadata": {},
   "outputs": [
    {
     "name": "stdout",
     "output_type": "stream",
     "text": [
      "[37, 23, 10, 33, 29, 40, 16, 8]\n",
      "[37, 23, 10, 33, 29, 40, 16, 37, 23, 10, 33, 29, 40, 16, 8]\n"
     ]
    }
   ],
   "source": [
    "# 리스트에 리스트를 더하는 방법\n",
    "list3 = list2 + [8]\n",
    "print(list3)\n",
    "\n",
    "list4 = list2 + list3\n",
    "print(list4)\n",
    "\n",
    "# 기존 리스트는 그대로 두고, 새로운 리스트를 만들어 낸다. \n",
    "# 두개의 리스트를 더하는 것이므로, 한번에 여러개의 값을 더할수도 있다. "
   ]
  },
  {
   "cell_type": "code",
   "execution_count": 75,
   "metadata": {},
   "outputs": [
    {
     "name": "stdout",
     "output_type": "stream",
     "text": [
      "False\n"
     ]
    }
   ],
   "source": [
    "# 리스트에서 사용할 수 있는 편리한 연산인 리스트안에 값이 들었나 확인하는 연산\n",
    "n = 12\n",
    "ownership = n in list3\n",
    "print(ownership)"
   ]
  },
  {
   "cell_type": "code",
   "execution_count": 77,
   "metadata": {},
   "outputs": [
    {
     "name": "stdout",
     "output_type": "stream",
     "text": [
      "10은 있어!\n"
     ]
    }
   ],
   "source": [
    "n = 10\n",
    "if n in list3:\n",
    "    print('{}은 있어!'.format(n))"
   ]
  },
  {
   "cell_type": "code",
   "execution_count": 78,
   "metadata": {},
   "outputs": [
    {
     "name": "stdout",
     "output_type": "stream",
     "text": [
      "[37, 23, 10, 33, 29, 40, 16, 37, 23, 10, 33, 29, 40, 16, 8]\n",
      "[37, 23, 10, 33, 29, 40, 16, 37, 23, 10, 33, 29, 16, 8]\n"
     ]
    }
   ],
   "source": [
    "# 필요없는 값 지우기\n",
    "print(list4)\n",
    "del list4[12] # 특정위치를 지정하면 해당하는 값의 위치가 지워지게 된다. \n",
    "print(list4)"
   ]
  },
  {
   "cell_type": "code",
   "execution_count": 79,
   "metadata": {},
   "outputs": [
    {
     "name": "stdout",
     "output_type": "stream",
     "text": [
      "[37, 23, 10, 33, 29, 40, 16, 37, 23, 10, 33, 29, 16, 8]\n",
      "[37, 23, 10, 33, 29, 16, 37, 23, 10, 33, 29, 16, 8]\n"
     ]
    }
   ],
   "source": [
    "# 리스트의 remove를 이용해서 특정 값을 삭제할 수도 있다.\n",
    "print(list4)\n",
    "list4.remove(40)\n",
    "print(list4)"
   ]
  },
  {
   "cell_type": "markdown",
   "metadata": {},
   "source": [
    "---\n",
    "`list1`의 맨 끝에 숫자 4를 추가하는 코드를 두 번째 줄에 추가해보세요. <br>\n",
    "ex) `append`를 이용 <br>\n",
    "```python\n",
    "list1 = [1, 2, 3]\n",
    "# 이 곳에 4를 추가하는 코드를 입력해 보세요.\n",
    "\n",
    "print(list1)\n",
    "```"
   ]
  },
  {
   "cell_type": "code",
   "execution_count": 80,
   "metadata": {},
   "outputs": [
    {
     "name": "stdout",
     "output_type": "stream",
     "text": [
      "[1, 2, 3, 4]\n"
     ]
    }
   ],
   "source": [
    "list1 = [1, 2, 3]\n",
    "list1.append(4)\n",
    "\n",
    "print(list1)"
   ]
  },
  {
   "cell_type": "markdown",
   "metadata": {},
   "source": [
    "---\n",
    "`list1`과 `list2`를 이용해서 [1, 2, 3, 4, 5, 6]을 값으로 가지는 `list3`을 만들어 보세요."
   ]
  },
  {
   "cell_type": "markdown",
   "metadata": {},
   "source": [
    "```python\n",
    "list1 = [1, 2, 3]\n",
    "list2 = [4, 5, 6]\n",
    "list3 = \n",
    "\n",
    "print(list3)\n",
    "```"
   ]
  },
  {
   "cell_type": "code",
   "execution_count": 81,
   "metadata": {},
   "outputs": [
    {
     "name": "stdout",
     "output_type": "stream",
     "text": [
      "[1, 2, 3, 4, 5, 6]\n"
     ]
    }
   ],
   "source": [
    "list1 = [1, 2, 3]\n",
    "list2 = [4, 5, 6]\n",
    "list3 = list1 + list2\n",
    "\n",
    "print(list3)"
   ]
  },
  {
   "cell_type": "markdown",
   "metadata": {},
   "source": [
    "---\n",
    "`numbers`에 5가 들어있을때, \"5가 있다\"를 출력하도록 빈칸을 채워 보세요."
   ]
  },
  {
   "cell_type": "markdown",
   "metadata": {},
   "source": [
    "```python\n",
    "numbers = [1, 2, 3, 4, 5]\n",
    "if   in  :\n",
    "    print(\"5가 있다\")\n",
    "```"
   ]
  },
  {
   "cell_type": "code",
   "execution_count": 82,
   "metadata": {},
   "outputs": [
    {
     "name": "stdout",
     "output_type": "stream",
     "text": [
      "5가 있다.\n"
     ]
    }
   ],
   "source": [
    "numbers = [1, 2, 3, 4, 5]\n",
    "if 5 in numbers:\n",
    "    print('5가 있다.')"
   ]
  },
  {
   "cell_type": "markdown",
   "metadata": {},
   "source": [
    "---\n",
    "`list1`에 포함된 2를 지원서 `list1`의 값이 [1, 3]이 되도록 만들어 보세요.(단, 코드의 첫번째 줄을 수정하면 안된다.)\n",
    "```python\n",
    "list1 = [1, 2, 3]\n",
    "# 여기게 코드를 추가해 보세요.\n",
    "\n",
    "print(list1)\n",
    "```"
   ]
  },
  {
   "cell_type": "markdown",
   "metadata": {},
   "source": [
    "```python\n",
    "del list1[10] # 리스트의 10번째 값을 지운다.\n",
    "list1.remove(40) # 리스트에 40이라는 값이 있는 경우 삭제한다.\n",
    "# 여러개의 값이 있는 경우 가장 앞에 있는 하나만 지워진다.\n",
    "```"
   ]
  },
  {
   "cell_type": "code",
   "execution_count": 83,
   "metadata": {},
   "outputs": [
    {
     "name": "stdout",
     "output_type": "stream",
     "text": [
      "[1, 3]\n"
     ]
    }
   ],
   "source": [
    "list1 = [1, 2, 3]\n",
    "list1.remove(2)\n",
    "print(list1)"
   ]
  },
  {
   "cell_type": "markdown",
   "metadata": {},
   "source": [
    "---\n",
    "# Part 7. for 반복문"
   ]
  },
  {
   "cell_type": "markdown",
   "metadata": {},
   "source": [
    "# for in list\n",
    "**for in 반복문**\n",
    "* 코드를 필요한만큼 반복해서 실행\n",
    "```python\n",
    "for pattern in patterns:\n",
    "    print(pattern)\n",
    "```\n",
    "1. 리스트 patterns의 값을 하나씩 꺼내 pattern으로 전달  \n",
    "2. 리스트의 길이만큼 print(pattern) 실행"
   ]
  },
  {
   "cell_type": "code",
   "execution_count": 85,
   "metadata": {},
   "outputs": [
    {
     "name": "stdout",
     "output_type": "stream",
     "text": [
      "가위\n",
      "보\n",
      "보\n",
      "가위\n",
      "가위\n",
      "가위\n",
      "보\n",
      "가위\n",
      "바위\n",
      "보\n"
     ]
    }
   ],
   "source": [
    "# 코드를 필요한만큼 반복해서 실행\n",
    "patterns = ['가위', '보', '보', '가위', '가위', '가위', '보', '가위', '바위', '보']\n",
    "for pattern in patterns:\n",
    "    print(pattern)\n",
    "    \n",
    "# for xx in xx -> in 뒤에 있는 모든 값을 in 앞에 있는 변수에 한번씩\n",
    "# 넣어가면서 블록을 실행 \n",
    "# for xx in xx -> for xx 는 for문이 만들어낸 새로운 변수\n",
    "# for xx in xx 을 쓰면 in 뒤에 쓰이는 리스트의 크기에 상관없이 항상 모든 리스트에 \n",
    "# 대해 실행 가능 "
   ]
  },
  {
   "cell_type": "markdown",
   "metadata": {},
   "source": [
    "---\n",
    "`for in`문을 활용해서 list의 내용을 한 줄씩 출력하는 프로그램을 작성해 보세요.\n",
    "```python\n",
    "list = ['가위', '바위', '보']\n",
    "```"
   ]
  },
  {
   "cell_type": "code",
   "execution_count": 86,
   "metadata": {},
   "outputs": [
    {
     "name": "stdout",
     "output_type": "stream",
     "text": [
      "가위\n",
      "바위\n",
      "보\n"
     ]
    }
   ],
   "source": [
    "list = ['가위', '바위', '보']\n",
    "\n",
    "for list1 in list:\n",
    "    print(list1)"
   ]
  },
  {
   "cell_type": "markdown",
   "metadata": {},
   "source": [
    "---\n",
    "# for in range\n",
    "**range 함수**\n",
    "* 필요한 만큼의 숫자를 만들어내는 유용한 기능\n",
    "```python\n",
    "for i in range(5):\n",
    "    print(i)\n",
    "```\n",
    "\n",
    "**enumerate**\n",
    "* 리스트가 있는 경우 순서와 리스트의 값을 전달하는 기능\n",
    "```python\n",
    "names = ['철수', '영희', '영수']\n",
    "for i, name in enumerate(names):\n",
    "    print('{}번: []'.format(i + 1, name))\n",
    "```"
   ]
  },
  {
   "cell_type": "code",
   "execution_count": 87,
   "metadata": {},
   "outputs": [
    {
     "name": "stdout",
     "output_type": "stream",
     "text": [
      "0\n",
      "1\n",
      "2\n",
      "3\n",
      "4\n"
     ]
    }
   ],
   "source": [
    "# Ver 1.\n",
    "for i in [0,1, 2, 3, 4]:\n",
    "    print(i)"
   ]
  },
  {
   "cell_type": "code",
   "execution_count": 88,
   "metadata": {},
   "outputs": [
    {
     "name": "stdout",
     "output_type": "stream",
     "text": [
      "0\n",
      "1\n",
      "2\n",
      "3\n",
      "4\n"
     ]
    }
   ],
   "source": [
    "# Ver2.\n",
    "for i in range(5):\n",
    "    print(i)"
   ]
  },
  {
   "cell_type": "code",
   "execution_count": 89,
   "metadata": {},
   "outputs": [
    {
     "name": "stdout",
     "output_type": "stream",
     "text": [
      "1번: 철수\n",
      "2번: 영희\n",
      "3번: 바둑이\n",
      "4번: 귀도\n"
     ]
    }
   ],
   "source": [
    "names = ['철수', '영희', '바둑이', '귀도']\n",
    "\n",
    "for i in range(4):\n",
    "    name = names[i]\n",
    "    print('{}번: {}'.format(i + 1, name))"
   ]
  },
  {
   "cell_type": "code",
   "execution_count": 91,
   "metadata": {},
   "outputs": [
    {
     "name": "stdout",
     "output_type": "stream",
     "text": [
      "1번: 철수\n",
      "2번: 영희\n",
      "3번: 바둑이\n",
      "4번: 귀도\n",
      "5번: 비단벨\n"
     ]
    }
   ],
   "source": [
    "# 한명이 더 들어온 경우\n",
    "names = ['철수', '영희', '바둑이', '귀도', '비단벨']\n",
    "\n",
    "for i in range(len(names)):\n",
    "    name = names[i]\n",
    "    print('{}번: {}'.format(i + 1, name))"
   ]
  },
  {
   "cell_type": "code",
   "execution_count": 92,
   "metadata": {},
   "outputs": [
    {
     "name": "stdout",
     "output_type": "stream",
     "text": [
      "1번: 철수\n",
      "2번: 영희\n",
      "3번: 바둑이\n",
      "4번: 귀도\n",
      "5번: 비단벨\n"
     ]
    }
   ],
   "source": [
    "# 이미 리스트가 있는 상황에서 range 기능만 필요하다면\n",
    "\n",
    "names = ['철수', '영희', '바둑이', '귀도', '비단벨']\n",
    "\n",
    "for i, name in enumerate(names):\n",
    "    print('{}번: {}'.format(i + 1, name))\n",
    "    \n",
    "    \n",
    "# enumerate : 한번에 순서와 리스트 안의 값을 모두 만들어 낸다."
   ]
  },
  {
   "cell_type": "markdown",
   "metadata": {},
   "source": [
    "---\n",
    "`range`를 이용해서 0부터 3까지 출력되도록 빈칸을 채워 보세요.\n",
    "```python\n",
    "for i in xxx:\n",
    "    print(i)\n",
    "```"
   ]
  },
  {
   "cell_type": "code",
   "execution_count": 93,
   "metadata": {},
   "outputs": [
    {
     "name": "stdout",
     "output_type": "stream",
     "text": [
      "0\n",
      "1\n",
      "2\n",
      "3\n"
     ]
    }
   ],
   "source": [
    "for i in range(4):\n",
    "    print(i)"
   ]
  },
  {
   "cell_type": "markdown",
   "metadata": {},
   "source": [
    "---\n",
    "`range`를 이용해서 무지개의 순서와 색을 출력하도록 빈칸을 채워보세요. 단, `rainbow`에 새로운 값이 추가되더라도 그 값을 모두 출력할 수 있도록 `len`을 이용해야 한다."
   ]
  },
  {
   "cell_type": "markdown",
   "metadata": {},
   "source": [
    "```python\n",
    "rainbow = [\"빨\", \"주\", \"노\", \"초\", \"파\", \"남\", \"보\"]\n",
    "for i in xxx:\n",
    "    color = rainbow[i]\n",
    "    print('{}번째 색은 {}'.format(i + 1, color))\n",
    "```"
   ]
  },
  {
   "cell_type": "markdown",
   "metadata": {},
   "source": [
    "---\n",
    "`range`괄호에 `len`을 넣으면 리스트의 길이만큼 반복할 수 있다.  \n",
    "```python\n",
    "<input>\n",
    "names = ['철수', '영희', '바둑이', '귀도', '비단뱀']\n",
    "\n",
    "for i in range(len(names)):\n",
    "    name = names[i]\n",
    "    print('{}번 : {}'.format(i + 1, name))\n",
    "```\n",
    "\n",
    "```python\n",
    "<output>\n",
    "1번: 철수  \n",
    "2번: 영희  \n",
    "3번: 바둑이  \n",
    "4번: 귀도  \n",
    "5번: 비단뱀  \n",
    "```"
   ]
  },
  {
   "cell_type": "code",
   "execution_count": 95,
   "metadata": {},
   "outputs": [
    {
     "name": "stdout",
     "output_type": "stream",
     "text": [
      "1번째 색은 빨\n",
      "2번째 색은 주\n",
      "3번째 색은 노\n",
      "4번째 색은 초\n",
      "5번째 색은 파\n",
      "6번째 색은 남\n",
      "7번째 색은 보\n"
     ]
    }
   ],
   "source": [
    "rainbow = [\"빨\", \"주\", \"노\", \"초\", \"파\", \"남\", \"보\"]\n",
    "for i in range(len(rainbow)):\n",
    "    color = rainbow[i]\n",
    "    print('{}번째 색은 {}'.format(i + 1, color))"
   ]
  },
  {
   "cell_type": "markdown",
   "metadata": {},
   "source": [
    "----\n",
    "`enumerate`를 이용해서 무지개의 순서와 색을 출력하도록 빈칸을 채워보세요.\n"
   ]
  },
  {
   "cell_type": "code",
   "execution_count": 96,
   "metadata": {},
   "outputs": [
    {
     "name": "stdout",
     "output_type": "stream",
     "text": [
      "1번째 색은 빨\n",
      "2번째 색은 주\n",
      "3번째 색은 노\n",
      "4번째 색은 초\n",
      "5번째 색은 파\n",
      "6번째 색은 남\n",
      "7번째 색은 보\n"
     ]
    }
   ],
   "source": [
    "rainbow = ['빨', '주', '노', '초', '파', '남', '보']\n",
    "for i, color in enumerate(rainbow):\n",
    "    print('{}번째 색은 {}'.format(i + 1, color))"
   ]
  },
  {
   "cell_type": "markdown",
   "metadata": {},
   "source": [
    "---\n",
    "`days`에는 1월부터 12월까지 그 달에 포함된 날짜수가 정리되어 있습니다. `for in`문과 `range` 또는 `enumerate`를 이용해서 다음과 같이 출력되도록 만들어 보세요."
   ]
  },
  {
   "cell_type": "markdown",
   "metadata": {},
   "source": [
    "```python\n",
    "1월의 날짜수는 31일 입니다.\n",
    "2월의 날짜수는 29일 입니다.\n",
    "...\n",
    "```\n",
    "위와 같은 형식으로 12월까지 출력하세요. 출력 형식은 코드의 print문을 활용해서 format()의\n",
    "괄호 안을 채워 넣으면 된다."
   ]
  },
  {
   "cell_type": "markdown",
   "metadata": {},
   "source": [
    "```python\n",
    "days = [31, 29, 31, 30, 31, 30, 31, 31, 30, 31, 30, 31]\n",
    "\n",
    "print('{}월의 날짜수는 {}입니다.'.format( , ))\n",
    "```"
   ]
  },
  {
   "cell_type": "code",
   "execution_count": 98,
   "metadata": {},
   "outputs": [
    {
     "name": "stdout",
     "output_type": "stream",
     "text": [
      "1월의 날짜수는 31일 입니다.\n",
      "2월의 날짜수는 29일 입니다.\n",
      "3월의 날짜수는 31일 입니다.\n",
      "4월의 날짜수는 30일 입니다.\n",
      "5월의 날짜수는 31일 입니다.\n",
      "6월의 날짜수는 30일 입니다.\n",
      "7월의 날짜수는 31일 입니다.\n",
      "8월의 날짜수는 31일 입니다.\n",
      "9월의 날짜수는 30일 입니다.\n",
      "10월의 날짜수는 31일 입니다.\n",
      "11월의 날짜수는 30일 입니다.\n",
      "12월의 날짜수는 31일 입니다.\n"
     ]
    }
   ],
   "source": [
    "# enumerate Ver.\n",
    "days = [31, 29, 31, 30, 31, 30, 31, 31, 30, 31, 30, 31]\n",
    "for i, j in enumerate(days):\n",
    "    print('{}월의 날짜수는 {}일 입니다.'.format(i + 1, j))"
   ]
  },
  {
   "cell_type": "code",
   "execution_count": 99,
   "metadata": {},
   "outputs": [
    {
     "name": "stdout",
     "output_type": "stream",
     "text": [
      "1월의 날짜수는 31일 입니다.\n",
      "2월의 날짜수는 29일 입니다.\n",
      "3월의 날짜수는 31일 입니다.\n",
      "4월의 날짜수는 30일 입니다.\n",
      "5월의 날짜수는 31일 입니다.\n",
      "6월의 날짜수는 30일 입니다.\n",
      "7월의 날짜수는 31일 입니다.\n",
      "8월의 날짜수는 30일 입니다.\n",
      "9월의 날짜수는 31일 입니다.\n",
      "10월의 날짜수는 30일 입니다.\n",
      "11월의 날짜수는 31일 입니다.\n"
     ]
    }
   ],
   "source": [
    "# range Ver.\n",
    "days = [31, 29, 31, 30,31, 30, 31, 30, 31, 30, 31]\n",
    "for i in range(len(days)):\n",
    "    j = days[i]\n",
    "    print('{}월의 날짜수는 {}일 입니다.'.format(i + 1, j))"
   ]
  },
  {
   "cell_type": "markdown",
   "metadata": {},
   "source": [
    "---\n",
    "# Part 8. 모듈"
   ]
  },
  {
   "cell_type": "markdown",
   "metadata": {},
   "source": [
    "# 모듈 사용하기\n",
    "**모듈**\n",
    "* 미리 만들어진 코드를 가져와 쓰는 방법\n",
    "* import 모듈 이름\n",
    "* 사용 방법: 모듈이름, 모듈안의 구성요소\n",
    "```python\n",
    "math.pi\n",
    "random.choice()\n",
    "```\n",
    "**모듈의 예**\n",
    "* import math\n",
    "    * 수학과 관련된 기능\n",
    "* import random\n",
    "    * 무작위와 관련된 기능\n",
    "* import urllib.request\n",
    "    * 인터넷의 내용을 가져오는 기능"
   ]
  },
  {
   "cell_type": "code",
   "execution_count": null,
   "metadata": {},
   "outputs": [],
   "source": [
    "def get_web(rul):\n",
    "    import urllib.request\n",
    "    response = rllib.request.urlopen(url)\n",
    "    data = response.read()\n",
    "    decoded = data.decode('utf-8')\n",
    "    return decoded\n",
    "\n",
    "url = input('웹 페이지 주소? ')\n",
    "content = get_web(url)\n",
    "print(content)"
   ]
  },
  {
   "cell_type": "markdown",
   "metadata": {},
   "source": [
    "`math`모듈을 `import`하고, 2번째줄에 있는 format 괄호 안의 빈칸을 채워넣어 파이의 값을 출력하도록 코드를 완성해 보세요."
   ]
  },
  {
   "cell_type": "markdown",
   "metadata": {},
   "source": [
    "모듈에는 수학과 관련된 math, 무작위와 관련된 기능인 random, 인터넷의 내용을 가져오는 urllib.request등이 있다.\n",
    "```python\n",
    "import math # 수학과 관련된 기능\n",
    "import random # 무작위와 관련된 기능\n",
    "\n",
    "math.pi # 모듈이름.모듈안의 구성요소\n",
    "random.choice()\n",
    "```"
   ]
  },
  {
   "cell_type": "markdown",
   "metadata": {},
   "source": [
    "```python\n",
    "xxxx\n",
    "print('파이의 값은 {}입니다.'.format(xxx))\n",
    "```"
   ]
  },
  {
   "cell_type": "code",
   "execution_count": 1,
   "metadata": {},
   "outputs": [
    {
     "name": "stdout",
     "output_type": "stream",
     "text": [
      "파이의 값은 3.141592653589793입니다.\n"
     ]
    }
   ],
   "source": [
    "import math\n",
    "print('파이의 값은 {}입니다.'.format(math.pi))"
   ]
  },
  {
   "cell_type": "markdown",
   "metadata": {},
   "source": [
    "---\n",
    "# 모듈 만들기\n",
    "**모듈 만들기**  \n",
    "1. 사용할 함수, 메소드 코드를 작성한 모듈 파일을 생성\n",
    "2. 모듈이 쓰일 파일에 import를 사용하여 모듈을 호출\n",
    "3. 사용 방법은 기존의 모듈과 동일\n",
    "4. 주의할 점은 사용자가 만든 모듈과 모듈을 쓸 파일이 같은 폴더에 있어야 한다."
   ]
  },
  {
   "cell_type": "code",
   "execution_count": 2,
   "metadata": {},
   "outputs": [],
   "source": [
    "def random_rsp():\n",
    "    import random\n",
    "    return random.choice(['가위', '바위', '보'])"
   ]
  },
  {
   "cell_type": "markdown",
   "metadata": {},
   "source": [
    "---\n",
    "# Part 9. 활용하기"
   ]
  },
  {
   "cell_type": "markdown",
   "metadata": {},
   "source": [
    "# 검색하기\n",
    "**프로그래밍 검색 요령**  \n",
    "1. 검색은 구글  \n",
    "2. 키워드에 파이썬3 또는 python3을 포함하라\n",
    "3. 코드를 포함한 글을 찾도록 하라\n",
    "4. 간단한 예제는 REPL을 사용하여 예제를 테스트 해보라\n",
    "5. 영어를 못해도 영어로 검색하라"
   ]
  },
  {
   "cell_type": "code",
   "execution_count": 3,
   "metadata": {},
   "outputs": [
    {
     "name": "stdout",
     "output_type": "stream",
     "text": [
      "2020\n"
     ]
    }
   ],
   "source": [
    "import datetime\n",
    "now = datetime.datetime.now()\n",
    "\n",
    "print(now.year)"
   ]
  },
  {
   "cell_type": "code",
   "execution_count": 4,
   "metadata": {},
   "outputs": [
    {
     "name": "stdout",
     "output_type": "stream",
     "text": [
      "2020-02-17 22:17:39.049999\n"
     ]
    }
   ],
   "source": [
    "import datetime\n",
    "now = datetime.datetime.now()\n",
    "\n",
    "print(now)"
   ]
  },
  {
   "cell_type": "code",
   "execution_count": 5,
   "metadata": {},
   "outputs": [
    {
     "name": "stdout",
     "output_type": "stream",
     "text": [
      "2020 2 17\n"
     ]
    }
   ],
   "source": [
    "import datetime\n",
    "now = datetime.datetime.now()\n",
    "\n",
    "print(now.year, now.month, now.day)"
   ]
  },
  {
   "cell_type": "markdown",
   "metadata": {},
   "source": [
    "첫줄의 빈칸에 `datetime`모듈을 import하고, 두번째 줄의 print문의 괄호 안에 `datetime.date.today()`를 입력해서 오늘 날짜를 출력해 보세요."
   ]
  },
  {
   "cell_type": "markdown",
   "metadata": {},
   "source": [
    "```python\n",
    "import xxx\n",
    "print(xxx)\n",
    "```"
   ]
  },
  {
   "cell_type": "code",
   "execution_count": 6,
   "metadata": {},
   "outputs": [
    {
     "name": "stdout",
     "output_type": "stream",
     "text": [
      "2020-02-17\n"
     ]
    }
   ],
   "source": [
    "import datetime\n",
    "print(datetime.date.today())"
   ]
  },
  {
   "cell_type": "markdown",
   "metadata": {},
   "source": [
    "---\n",
    "# 문서찾기\n",
    "**공식문서**\n",
    "* 필요한 내용을 둘러보고 싶을때\n",
    "* 파이썬 내장 모듈과 함수의 정보가 필요할 때\n",
    "\n",
    "**구글 또는 stackoverflow.com**\n",
    "* 문제의 구체적인 해결 방법이 알고 싶을 때\n",
    "* 구글 검색시 사이트 제한 기능 활용 site:stackoverflow.com"
   ]
  },
  {
   "cell_type": "markdown",
   "metadata": {},
   "source": [
    "---\n",
    "https://docs.python.org/3.5/library/random.html#random.choice 에서 `random.choice`의 활용법을 확인하고, 3번째 줄에 코드를 추가해서 `random_element`가 list의 element중 하나를 가지도록 만들어 보세요.\n"
   ]
  },
  {
   "cell_type": "markdown",
   "metadata": {},
   "source": [
    "```python\n",
    "import random\n",
    "list = ['빨', '주', '노', '초', '파', '남', '보']\n",
    "random_element = xxx\n",
    "\n",
    "print(random_element)\n",
    "```"
   ]
  },
  {
   "cell_type": "code",
   "execution_count": 8,
   "metadata": {},
   "outputs": [
    {
     "name": "stdout",
     "output_type": "stream",
     "text": [
      "남\n"
     ]
    }
   ],
   "source": [
    "import random\n",
    "list = ['빨', '주', '노', '초', '파', '남', '보']\n",
    "random_element = random.choice(list)\n",
    "\n",
    "print(random_element)"
   ]
  },
  {
   "cell_type": "markdown",
   "metadata": {},
   "source": [
    "---\n",
    "https://docs.python.org/3/library/random.html?highlight=random.randint#random.randint 에서 `random.randint`의 활용법을 확인하고, 2번째 줄에 코드를 추가해서 `random_number`가 2보다 크거나 같고, 5보다 작거나 같은 임의의 정수를 가지도록 만들어 보세요.\n"
   ]
  },
  {
   "cell_type": "markdown",
   "metadata": {},
   "source": [
    "```python\n",
    "import random\n",
    "random_number = xxxx\n",
    "\n",
    "print(random_number)\n",
    "```"
   ]
  },
  {
   "cell_type": "code",
   "execution_count": 9,
   "metadata": {},
   "outputs": [
    {
     "name": "stdout",
     "output_type": "stream",
     "text": [
      "3\n"
     ]
    }
   ],
   "source": [
    "import random\n",
    "random_number = random.randint(2, 5)\n",
    "\n",
    "print(random_number)\n",
    "\n",
    "# uniform(2.5, 10.0)\n",
    "# Random float: 2.5 <= x < 10.0"
   ]
  },
  {
   "cell_type": "markdown",
   "metadata": {},
   "source": [
    "---\n",
    "https://docs.python.org/3.5/library/random.html#random.shuffle 에서 `random.shuffle`의 활용법을 확인하고, 3번째 줄에서 `random.shuffle` 을 활용해서 list의 순서를 섞어 보세요."
   ]
  },
  {
   "cell_type": "markdown",
   "metadata": {},
   "source": [
    "```python\n",
    "import random\n",
    "list = ['빨', '주', '노', '초', '파', '남', '보']\n",
    "### 여기에 코드를 작성해 보세요.\n",
    "\n",
    "print(list)\n",
    "```"
   ]
  },
  {
   "cell_type": "code",
   "execution_count": 10,
   "metadata": {},
   "outputs": [
    {
     "name": "stdout",
     "output_type": "stream",
     "text": [
      "['빨', '초', '파', '남', '주', '보', '노']\n"
     ]
    }
   ],
   "source": [
    "import random\n",
    "lit = ['빨', '주', '노', '초', '파', '남', '보']\n",
    "random.shuffle(list)\n",
    "\n",
    "print(list)\n"
   ]
  },
  {
   "cell_type": "markdown",
   "metadata": {},
   "source": [
    "---\n",
    "# Part 10. 딕셔너리와 튜플"
   ]
  },
  {
   "cell_type": "markdown",
   "metadata": {},
   "source": [
    "# 딕셔너리 만들기\n",
    "**딕셔너리**\n",
    "* 여러 값을 저장해 두고 필요한 값을 꺼내 쓰는 기능\n",
    "* 이름표를 이용하여 값을 꺼내 사용\n",
    "* 사용할 때는 리스트와 비슷한 방식\n",
    "\n",
    "```python\n",
    "wintable = {\n",
    "    '가위' : '보',\n",
    "    '바위' : '가위',\n",
    "    '보' : '바위'\n",
    "}\n",
    "\n",
    "print(wintable['가위'])\n",
    "```"
   ]
  },
  {
   "cell_type": "code",
   "execution_count": 11,
   "metadata": {},
   "outputs": [
    {
     "name": "stdout",
     "output_type": "stream",
     "text": [
      "보\n"
     ]
    }
   ],
   "source": [
    "wintable = {\n",
    "    '가위' : '보',\n",
    "    '바위' : '가위',\n",
    "    '보' : '바위'\n",
    "}\n",
    "\n",
    "print(wintable['가위'])\n",
    "\n",
    "# 이름표 : 값 "
   ]
  },
  {
   "cell_type": "code",
   "execution_count": 12,
   "metadata": {},
   "outputs": [
    {
     "name": "stdout",
     "output_type": "stream",
     "text": [
      "b\n"
     ]
    }
   ],
   "source": [
    "word = ['a', 'b', 'c']\n",
    "print(word[1])"
   ]
  },
  {
   "cell_type": "code",
   "execution_count": 18,
   "metadata": {},
   "outputs": [
    {
     "name": "stdout",
     "output_type": "stream",
     "text": [
      "졌어...\n"
     ]
    }
   ],
   "source": [
    "def rsp(mine, yours):\n",
    "    if mine == yours:\n",
    "        return 'draw'\n",
    "    elif wintable[mine] == yours:\n",
    "        return 'win'\n",
    "    else:\n",
    "        return 'lose'\n",
    "    \n",
    "result = rsp('가위', '바위')\n",
    "\n",
    "\n",
    "messages = {\n",
    "    'win' : '이겼다',\n",
    "    'draw' : '비겼네',\n",
    "    'lose' : '졌어...'\n",
    "}\n",
    "\n",
    "print(messages[result]) # result에 해당하는 값을 불러와서 출력"
   ]
  },
  {
   "cell_type": "markdown",
   "metadata": {},
   "source": [
    "---\n",
    "월을 이름표로 가지고, 그 달에 있는 날짜 수를 값으로 가지는 딕셔너리를 만들어서 `days_in_month`에 저장해보세요.\n",
    "* 월은 '1월', '2월' 과 같은 형식으로 저장하면 됩니다. 예를 들어 `days_in_month['1월']` 하면 그 값은 31이어야 합니다.\n",
    "* 3월까지만 값을 넣어 보세요.\n",
    "* 1월은 31일, 2월은 28일, 3월은 31일 까지만 있다고 가정하세요."
   ]
  },
  {
   "cell_type": "markdown",
   "metadata": {},
   "source": [
    "```python\n",
    "days_in_month = {\n",
    "    # 여기에 코드를 완성해 보세요.\n",
    "    \n",
    "}\n",
    "\n",
    "print(days_in_month)\n",
    "```"
   ]
  },
  {
   "cell_type": "code",
   "execution_count": 21,
   "metadata": {},
   "outputs": [
    {
     "name": "stdout",
     "output_type": "stream",
     "text": [
      "{'1월': 31, '2월': 28, '3월': 31}\n"
     ]
    }
   ],
   "source": [
    "days_in_month = {\n",
    "    '1월' : 31,\n",
    "    '2월' : 28,\n",
    "    '3월' : 31\n",
    "}\n",
    "\n",
    "print(days_in_month)"
   ]
  },
  {
   "cell_type": "markdown",
   "metadata": {},
   "source": [
    "---\n",
    "딕셔너리의 이름표에는 문자열롸 숫자형, 튜플을 사용할 수 있으며, 값으로는 어떤 자료형이 오던 상관 없습니다. 이번 문제에서는 값에 들어갈 자료형으로 리스트를 사용할 수 있음을 보여줍니다. 다음 코드를 실행해서 확인해 보세요."
   ]
  },
  {
   "cell_type": "markdown",
   "metadata": {},
   "source": [
    "```python\n",
    "# 이름표는 문자열 또는 숫자를 주로 사용하지만\n",
    "dict = {'이름표' : [1, 2, 3]}\n",
    "#                 값은 리스트를 포함해서 무엇이든 올 수 있습니다.\n",
    "print(dict['이름표'])\n",
    "```"
   ]
  },
  {
   "cell_type": "code",
   "execution_count": 22,
   "metadata": {},
   "outputs": [
    {
     "name": "stdout",
     "output_type": "stream",
     "text": [
      "[1, 2, 3]\n"
     ]
    }
   ],
   "source": [
    "dict = {'이름표' : [1, 2, 3]}\n",
    "print(dict['이름표'])"
   ]
  },
  {
   "cell_type": "markdown",
   "metadata": {},
   "source": [
    "---\n",
    "# 딕셔너리 수정하기\n",
    "* 추가\n",
    "```python\n",
    "dict['three'] = 3\n",
    "```\n",
    "* 수정\n",
    "```python\n",
    "dict['one'] = 11\n",
    "```\n",
    "* 삭제\n",
    "```python\n",
    "del(dict['one'])\n",
    "dict.pop('two')\n",
    "```"
   ]
  },
  {
   "cell_type": "code",
   "execution_count": 40,
   "metadata": {},
   "outputs": [
    {
     "name": "stdout",
     "output_type": "stream",
     "text": [
      "[1, 2, 3, 4, 5]\n"
     ]
    }
   ],
   "source": [
    "list = [1, 2, 3, 4, 5]\n",
    "print(list)"
   ]
  },
  {
   "cell_type": "code",
   "execution_count": 41,
   "metadata": {},
   "outputs": [
    {
     "name": "stdout",
     "output_type": "stream",
     "text": [
      "[1, 2, 33, 4, 5]\n"
     ]
    }
   ],
   "source": [
    "list[2] = 33\n",
    "print(list)"
   ]
  },
  {
   "cell_type": "code",
   "execution_count": 42,
   "metadata": {},
   "outputs": [
    {
     "name": "stdout",
     "output_type": "stream",
     "text": [
      "[1, 2, 33, 4, 5, 6]\n"
     ]
    }
   ],
   "source": [
    "list.append(6)\n",
    "print(list)"
   ]
  },
  {
   "cell_type": "code",
   "execution_count": 64,
   "metadata": {},
   "outputs": [
    {
     "name": "stdout",
     "output_type": "stream",
     "text": [
      "{'one': 1, 'two': 2}\n"
     ]
    }
   ],
   "source": [
    "# 딕셔너리 수정\n",
    "dict = {'one' : 1, 'two' : 2}\n",
    "print(dict)"
   ]
  },
  {
   "cell_type": "code",
   "execution_count": 65,
   "metadata": {},
   "outputs": [
    {
     "name": "stdout",
     "output_type": "stream",
     "text": [
      "{'one': 11, 'two': 2}\n"
     ]
    }
   ],
   "source": [
    "dict['one'] = 11\n",
    "print(dict)"
   ]
  },
  {
   "cell_type": "code",
   "execution_count": 66,
   "metadata": {},
   "outputs": [
    {
     "name": "stdout",
     "output_type": "stream",
     "text": [
      "{'one': 11, 'two': 2, 'three': 3}\n"
     ]
    }
   ],
   "source": [
    "# 딕셔너리 추가\n",
    "dict['three'] = 3\n",
    "print(dict)"
   ]
  },
  {
   "cell_type": "code",
   "execution_count": 67,
   "metadata": {},
   "outputs": [
    {
     "name": "stdout",
     "output_type": "stream",
     "text": [
      "[5, 6]\n",
      "[6]\n"
     ]
    }
   ],
   "source": [
    "# 리스트 삭제\n",
    "print(list)\n",
    "del(list[0])\n",
    "print(list)"
   ]
  },
  {
   "cell_type": "code",
   "execution_count": 68,
   "metadata": {},
   "outputs": [
    {
     "name": "stdout",
     "output_type": "stream",
     "text": [
      "{'two': 2, 'three': 3}\n"
     ]
    }
   ],
   "source": [
    "# 딕셔너리 삭제 Ver 1.\n",
    "del(dict['one'])\n",
    "print(dict)"
   ]
  },
  {
   "cell_type": "code",
   "execution_count": 69,
   "metadata": {},
   "outputs": [
    {
     "name": "stdout",
     "output_type": "stream",
     "text": [
      "6\n",
      "[]\n"
     ]
    }
   ],
   "source": [
    "# 리스트 삭제 Ver 2.\n",
    "print(list.pop(0))\n",
    "print(list)"
   ]
  },
  {
   "cell_type": "code",
   "execution_count": 70,
   "metadata": {},
   "outputs": [
    {
     "name": "stdout",
     "output_type": "stream",
     "text": [
      "2\n"
     ]
    }
   ],
   "source": [
    "# 딕셔너리 삭제 Ver 2.\n",
    "print(dict.pop('two'))"
   ]
  },
  {
   "cell_type": "code",
   "execution_count": 71,
   "metadata": {},
   "outputs": [
    {
     "name": "stdout",
     "output_type": "stream",
     "text": [
      "{'three': 3}\n"
     ]
    }
   ],
   "source": [
    "print(dict)"
   ]
  },
  {
   "cell_type": "markdown",
   "metadata": {},
   "source": [
    "---\n",
    "`days_in_month`에는 2월이 28일까지 있다고 만들어져 있는데요. 알고보니 2016년에는 2월이 29일까지 있습니다. \"2월\"이라는 이름표가 가지는 값을 29로 수정해 보세요."
   ]
  },
  {
   "cell_type": "markdown",
   "metadata": {},
   "source": [
    "딕셔너리를 수정하는 방법  \n",
    "```python\n",
    "dict['one' : 1, 'two' : 2]\n",
    "dict['three'] = 3 # 값을 추가\n",
    "{'one' : 1, 'two' : 2, 'three' : 3}\n",
    "dict['one'] = 11 # 값을 수정\n",
    "{'one' : 11, 'two' : 2, 'three' : 3}\n",
    "```"
   ]
  },
  {
   "cell_type": "markdown",
   "metadata": {},
   "source": [
    "---\n",
    "```python\n",
    "dyas_in_month = {'1월' : 31, '2월' : 28, '3월' : 31}\n",
    "xxx\n",
    "\n",
    "print(days_in_month)\n",
    "```"
   ]
  },
  {
   "cell_type": "code",
   "execution_count": 72,
   "metadata": {},
   "outputs": [
    {
     "name": "stdout",
     "output_type": "stream",
     "text": [
      "{'1월': 31, '2월': 29, '3월': 31}\n"
     ]
    }
   ],
   "source": [
    "days_in_month = {'1월' : 31, '2월' : 28, '3월' : 31}\n",
    "days_in_month['2월'] = 29\n",
    "\n",
    "print(days_in_month)"
   ]
  },
  {
   "cell_type": "markdown",
   "metadata": {},
   "source": [
    "---\n",
    "`days_in_month`에는 엉뚱하게도 -1월이라는 이름표와 값이 있는데요. 이 값을 지워보세요."
   ]
  },
  {
   "cell_type": "markdown",
   "metadata": {},
   "source": [
    "아래 예 처럼 딕셔너리를 수정할 수 있다.\n",
    "```python\n",
    "dict['one' : 1, 'two' : 2]\n",
    "dict['three'] = 3 # 값을 추가한다.\n",
    "> {'one' : 1, 'two' : 2, 'three' : 3}\n",
    "del(dict['one']) # 값을 삭제한다.\n",
    "> {'two' : 2, 'three' : 3}\n",
    "dict.pop('two') # 값을 삭제 한다.\n",
    "> {'three' : 3}\n",
    "```"
   ]
  },
  {
   "cell_type": "markdown",
   "metadata": {},
   "source": [
    "---\n",
    "```python\n",
    "days_in_month = {'1월' : 31, '2월' : 28, '3월' : 31, '-1월' : 97889789}\n",
    "xxx\n",
    "print(days_in_month)\n",
    "```"
   ]
  },
  {
   "cell_type": "code",
   "execution_count": 73,
   "metadata": {},
   "outputs": [
    {
     "name": "stdout",
     "output_type": "stream",
     "text": [
      "{'1월': 31, '2월': 28, '3월': 31}\n"
     ]
    }
   ],
   "source": [
    "days_in_month = {'1월' : 31, '2월' : 28, '3월' : 31, '-1월' : 97889789}\n",
    "days_in_month.pop('-1월')\n",
    "print(days_in_month)"
   ]
  },
  {
   "cell_type": "markdown",
   "metadata": {},
   "source": [
    "---\n",
    "# 딕셔너리와 반복문\n",
    "**딕셔너리 반복문 활용**\n",
    "* 경우에 따라 가져올 값을 정할 수 있다.\n",
    "```python\n",
    "for key in ages.keys(): # keys() 생략 가능\n",
    "    print(key)\n",
    "```\n",
    "```python\n",
    "for value in ages.valus():\n",
    "    print(value)\n",
    "```\n",
    "* key와 value 둘다 가져올 수 있다.\n",
    "```python\n",
    "for key, value in ages.items():\n",
    "    print('{}의 나이는 {}입니다.'.format(key, value))\n",
    "```\n",
    "* 딕셔너리는 값의 순서를 지키지 않는다."
   ]
  },
  {
   "cell_type": "code",
   "execution_count": 74,
   "metadata": {},
   "outputs": [
    {
     "name": "stdout",
     "output_type": "stream",
     "text": [
      "봄\n",
      "여름\n",
      "가을\n",
      "겨울\n"
     ]
    }
   ],
   "source": [
    "seasons = ['봄', '여름', '가을', '겨울']\n",
    "\n",
    "for season in seasons:\n",
    "    print(season)"
   ]
  },
  {
   "cell_type": "code",
   "execution_count": 76,
   "metadata": {},
   "outputs": [
    {
     "name": "stdout",
     "output_type": "stream",
     "text": [
      "Tod\n",
      "jane\n",
      "Paul\n"
     ]
    }
   ],
   "source": [
    "# Key 값만\n",
    "ages = {'Tod' : 35, 'jane' : 23, 'Paul' : 62}\n",
    "\n",
    "for key in ages.keys():\n",
    "    print(key)"
   ]
  },
  {
   "cell_type": "code",
   "execution_count": 77,
   "metadata": {},
   "outputs": [
    {
     "name": "stdout",
     "output_type": "stream",
     "text": [
      "35\n",
      "23\n",
      "62\n"
     ]
    }
   ],
   "source": [
    "# Value 값만\n",
    "for value in ages.values():\n",
    "    print(value)"
   ]
  },
  {
   "cell_type": "code",
   "execution_count": 82,
   "metadata": {},
   "outputs": [
    {
     "name": "stdout",
     "output_type": "stream",
     "text": [
      "Tod의 나이는 35입니다.\n",
      "jane의 나이는 23입니다.\n",
      "Paul의 나이는 62입니다.\n"
     ]
    }
   ],
   "source": [
    "# Key, Value 둘다\n",
    "for key in ages.keys():\n",
    "    print('{}의 나이는 {}입니다.'.format(key, ages[key]))"
   ]
  },
  {
   "cell_type": "code",
   "execution_count": 83,
   "metadata": {},
   "outputs": [
    {
     "name": "stdout",
     "output_type": "stream",
     "text": [
      "Tod의 나이는 35입니다.\n",
      "jane의 나이는 23입니다.\n",
      "Paul의 나이는 62입니다.\n"
     ]
    }
   ],
   "source": [
    "# 딕셔너리에서는 가져오는 값이 대부분 Keys 이므로 \n",
    "# for xx in xx 에서는 .keys()를 생략하더라도 뒤에 keys() 가 있다고 생각함\n",
    "for key in ages:\n",
    "    print('{}의 나이는 {}입니다.'.format(key, ages[key]))"
   ]
  },
  {
   "cell_type": "code",
   "execution_count": 84,
   "metadata": {},
   "outputs": [
    {
     "name": "stdout",
     "output_type": "stream",
     "text": [
      "Tod의 나이는 35입니다.\n",
      "jane의 나이는 23입니다.\n",
      "Paul의 나이는 62입니다.\n"
     ]
    }
   ],
   "source": [
    "for key, value in ages.items():\n",
    "    print('{}의 나이는 {}입니다.'.format(key, value))"
   ]
  },
  {
   "cell_type": "markdown",
   "metadata": {},
   "source": [
    "---\n",
    "`for in`문을 이용해서 `days_in_month`의 이름표(key)를 한줄씩 출력해 보세요."
   ]
  },
  {
   "cell_type": "markdown",
   "metadata": {},
   "source": [
    "example  \n",
    "```python\n",
    "ages = {'Tod' : 35, 'Jane' = 23, 'Paul' : 62}\n",
    "\n",
    "for key in ages.keys(): # keys() 생략 가능\n",
    "    print(key) # Tod, Jane, Paul 이 출력\n",
    "\n",
    "for value in ages.values():\n",
    "    print(value) # 62, 23, 35가 출력된다.\n",
    "```"
   ]
  },
  {
   "cell_type": "markdown",
   "metadata": {},
   "source": [
    "```python\n",
    "days_in_month = {'1월' : 31, '2월' : 28, '3월' : 31, '4월' : 30, '5월' : 31}\n",
    "```"
   ]
  },
  {
   "cell_type": "code",
   "execution_count": 87,
   "metadata": {},
   "outputs": [
    {
     "name": "stdout",
     "output_type": "stream",
     "text": [
      "1월\n",
      "2월\n",
      "3월\n",
      "4월\n",
      "5월\n"
     ]
    }
   ],
   "source": [
    "days_in_month = {'1월' : 31, '2월' : 28, '3월' : 31, '4월' : 30, '5월' : 31}\n",
    "\n",
    "for key in days_in_month.keys():\n",
    "    print(key)"
   ]
  },
  {
   "cell_type": "code",
   "execution_count": 88,
   "metadata": {},
   "outputs": [
    {
     "name": "stdout",
     "output_type": "stream",
     "text": [
      "31\n",
      "28\n",
      "31\n",
      "30\n",
      "31\n"
     ]
    }
   ],
   "source": [
    "days_in_month = {'1월' : 31, '2월' : 28, '3월' : 31, '4월' : 30, '5월' : 31}\n",
    "\n",
    "for value in days_in_month.values():\n",
    "    print(value)"
   ]
  },
  {
   "cell_type": "markdown",
   "metadata": {},
   "source": [
    "---\n",
    "`days_in_month`의 각 이름표와 값을 다음과 같은 형식으로 추력해 보세요.\n",
    "```python\n",
    "1월은 31일이 있습니다.\n",
    "2월은 28일이 있습니다.\n",
    "...\n",
    "```\n",
    "정확한 출력 형식은 작성되어 있는 Print함수를 찾고하세요."
   ]
  },
  {
   "cell_type": "markdown",
   "metadata": {},
   "source": [
    "example  \n",
    "딕셔너리의 반복문에서는 key와 value를 선택해서 가져올 수 있다. key와 value를 둘 다 가져와야 할 때에는 `items()`를 사용하면 된다.\n",
    "```python\n",
    "ages = {'Tod' : 35, 'Jane' : 23, 'Paul' : 62}\n",
    "\n",
    "for key, value in ages.items():\n",
    "    print('{}의 나이는 {}입니다.'.format(key, value))\n",
    "```"
   ]
  },
  {
   "cell_type": "markdown",
   "metadata": {},
   "source": [
    "---\n",
    "```python\n",
    "days_in_month = {'1월' : 31, '2월' :28, '3월' : 31, '4월' : 30, '5월' : 31}\n",
    "\n",
    "# 출력 형식은 아래 print함수를 참고하세요\n",
    "print('{}은 {}일이 있습니다.\".format(  ))\n",
    "```"
   ]
  },
  {
   "cell_type": "markdown",
   "metadata": {},
   "source": [
    "```python\n",
    "days_in_month = {'1월' : 31, '2월' : 28, '3월' : 31, '4월' : 30, '5월' : 31}\n",
    "\n",
    "# 출력 형식은 아래 print함수를 참고하세요\n",
    "print(\"{}은 {}일이 있습니다.\".format(xxx))\n",
    "```"
   ]
  },
  {
   "cell_type": "code",
   "execution_count": 90,
   "metadata": {},
   "outputs": [
    {
     "name": "stdout",
     "output_type": "stream",
     "text": [
      "1월은 31일이 있습니다.\n",
      "2월은 28일이 있습니다.\n",
      "3월은 31일이 있습니다.\n",
      "4월은 30일이 있습니다.\n",
      "5월은 31일이 있습니다.\n"
     ]
    }
   ],
   "source": [
    "days_in_month = {'1월' : 31, '2월' : 28, '3월' : 31, '4월' : 30, '5월' : 31}\n",
    "\n",
    "for key, value in days_in_month.items():\n",
    "    print('{}은 {}일이 있습니다.'.format(key, value))"
   ]
  },
  {
   "cell_type": "markdown",
   "metadata": {},
   "source": [
    "---\n",
    "# 리스트와 비교\n",
    "**공통점**\n",
    "\n",
    "|     |List|Dictionary|\n",
    "|:---:|:---:|:---:|\n",
    "|생성|list=[1, 2, 3]|dict = {'one':1, 'two':2}|\n",
    "|호출|list[0]|dict['one']|\n",
    "|삭제|del(list[0])|del(dict['one']|\n",
    "|개수 확인|len(list)|len(dict)|\n",
    "|값 확인|2 in list|'two' in dict.keys()|\n",
    "|전부 삭제|list.clear()|dict.clear()|"
   ]
  },
  {
   "cell_type": "markdown",
   "metadata": {},
   "source": [
    "**차이점**\n",
    "\n",
    "|     |List|Dictionary|\n",
    "|:---:|:---:|:---:|\n",
    "|순서|삭제 시 순서가 바뀌기 때문에 인덱스에 대한 값이 바뀐다|Key로 값을 가져오기 때문에 삭제 여부와 상관없다|\n",
    "|결합|list1 + list2|dict1.update(dict2)|"
   ]
  },
  {
   "cell_type": "code",
   "execution_count": 92,
   "metadata": {},
   "outputs": [
    {
     "data": {
      "text/plain": [
       "1"
      ]
     },
     "execution_count": 92,
     "metadata": {},
     "output_type": "execute_result"
    }
   ],
   "source": [
    "list = [1, 2, 3, 4, 5]\n",
    "dict = {'one' : 1, 'two' : 2}"
   ]
  },
  {
   "cell_type": "code",
   "execution_count": 95,
   "metadata": {},
   "outputs": [
    {
     "name": "stdout",
     "output_type": "stream",
     "text": [
      "1\n",
      "1\n"
     ]
    }
   ],
   "source": [
    "# List & Dictionary 호출\n",
    "print(list[0])\n",
    "print(dict['one'])"
   ]
  },
  {
   "cell_type": "code",
   "execution_count": 96,
   "metadata": {},
   "outputs": [
    {
     "name": "stdout",
     "output_type": "stream",
     "text": [
      "[2, 3, 4, 5]\n",
      "{'two': 2}\n"
     ]
    }
   ],
   "source": [
    "# List & Dictionary 삭제\n",
    "del(list[0])\n",
    "print(list)\n",
    "del(dict['one'])\n",
    "print(dict)"
   ]
  },
  {
   "cell_type": "code",
   "execution_count": 97,
   "metadata": {},
   "outputs": [
    {
     "name": "stdout",
     "output_type": "stream",
     "text": [
      "4\n",
      "1\n"
     ]
    }
   ],
   "source": [
    "# List & Dictionary 개수 확인\n",
    "print(len(list))\n",
    "print(len(dict))"
   ]
  },
  {
   "cell_type": "code",
   "execution_count": 101,
   "metadata": {},
   "outputs": [
    {
     "name": "stdout",
     "output_type": "stream",
     "text": [
      "True\n",
      "False\n",
      "True\n"
     ]
    }
   ],
   "source": [
    "# List & Dictionary 값 확인\n",
    "print(2 in list)\n",
    "print(8 in list)\n",
    "print('two' in dict.keys())"
   ]
  },
  {
   "cell_type": "code",
   "execution_count": 102,
   "metadata": {},
   "outputs": [
    {
     "name": "stdout",
     "output_type": "stream",
     "text": [
      "None\n",
      "None\n"
     ]
    }
   ],
   "source": [
    "# List & Dictionary 전부 삭제\n",
    "print(list.clear())\n",
    "print(dict.clear())"
   ]
  },
  {
   "cell_type": "code",
   "execution_count": 103,
   "metadata": {},
   "outputs": [
    {
     "name": "stdout",
     "output_type": "stream",
     "text": [
      "3\n"
     ]
    }
   ],
   "source": [
    "# List & Dictionary 차이점 \n",
    "list = [1, 2, 3, 4, 5]\n",
    "dict = {'one' : 1, 'two' : 2}\n",
    "print(list[2])"
   ]
  },
  {
   "cell_type": "code",
   "execution_count": 104,
   "metadata": {},
   "outputs": [
    {
     "name": "stdout",
     "output_type": "stream",
     "text": [
      "[2, 3, 4, 5]\n"
     ]
    }
   ],
   "source": [
    "list.pop(0)\n",
    "print(list)"
   ]
  },
  {
   "cell_type": "code",
   "execution_count": 105,
   "metadata": {},
   "outputs": [
    {
     "name": "stdout",
     "output_type": "stream",
     "text": [
      "4\n"
     ]
    }
   ],
   "source": [
    "print(list[2])"
   ]
  },
  {
   "cell_type": "code",
   "execution_count": 106,
   "metadata": {},
   "outputs": [
    {
     "name": "stdout",
     "output_type": "stream",
     "text": [
      "{'two': 2}\n"
     ]
    }
   ],
   "source": [
    "dict.pop('one')\n",
    "print(dict)"
   ]
  },
  {
   "cell_type": "code",
   "execution_count": 107,
   "metadata": {},
   "outputs": [
    {
     "name": "stdout",
     "output_type": "stream",
     "text": [
      "2\n"
     ]
    }
   ],
   "source": [
    "print(dict['two'])"
   ]
  },
  {
   "cell_type": "code",
   "execution_count": 108,
   "metadata": {},
   "outputs": [
    {
     "name": "stdout",
     "output_type": "stream",
     "text": [
      "[1, 2, 3, 4, 5, 6]\n"
     ]
    }
   ],
   "source": [
    "big_list = [1, 2, 3] + [4, 5, 6]\n",
    "print(big_list)"
   ]
  },
  {
   "cell_type": "code",
   "execution_count": 109,
   "metadata": {},
   "outputs": [
    {
     "name": "stdout",
     "output_type": "stream",
     "text": [
      "{1: 1000, 2: 200, 3: 300}\n"
     ]
    }
   ],
   "source": [
    "dict1 = {1 : 100, 2 : 200}\n",
    "dict2 = {1 : 1000, 3 : 300}\n",
    "dict1.update(dict2)\n",
    "print(dict1)"
   ]
  },
  {
   "cell_type": "code",
   "execution_count": 110,
   "metadata": {},
   "outputs": [
    {
     "name": "stdout",
     "output_type": "stream",
     "text": [
      "{1: 100, 3: 300, 2: 200}\n"
     ]
    }
   ],
   "source": [
    "dict3 = {1 : 100, 2 : 200}\n",
    "dict4 = {1 : 1000, 3 : 300}\n",
    "dict4.update(dict3)\n",
    "print(dict4)"
   ]
  },
  {
   "cell_type": "markdown",
   "metadata": {},
   "source": [
    "---\n",
    "`check_and_clear`는 딕셔너리 타입의 box를 매개변수로 받는다. 만약 box에 \"불량품\" 이라는 이름표가 있으면 box 전체를 빈 딕셔너리로 만들어 버리고, 불량품이 없으면 box를 그대로 두는 함수이다. 다음 코드를 수정해서 `check_and_clear` 함수를 완성하세요."
   ]
  },
  {
   "cell_type": "markdown",
   "metadata": {},
   "source": [
    "example\n",
    "딕셔너리 타입에 키가 있는지 확인하려면 `in`을 사용해 보세요.  \n",
    "예를 들어, 딕셔너리에 'two'라는 키가 있는지 확인하려면  \n",
    "```python\n",
    "'two' in dict.keys():\n",
    "```\n",
    "또한 딕셔너리의 내용을 전부 삭제하고 싶다면 `dict.clear()`를 호출하면 된다."
   ]
  },
  {
   "cell_type": "markdown",
   "metadata": {},
   "source": [
    "```python\n",
    "def check_and_clear(box):\n",
    "    print(\"불량품이 있으면 box를 clear합니다.\")\n",
    "box1 = {'불량품' : 10}\n",
    "check_and_clear(box1)\n",
    "# {}가 출력되어야 한다.\n",
    "print(box1)\n",
    "\n",
    "box2 = {'정상품' : 10}\n",
    "check_and_clear(box2)\n",
    "# {'정상품' : 10}가 출력되어야 한다.\n",
    "print(box2)\n",
    "```"
   ]
  },
  {
   "cell_type": "code",
   "execution_count": 111,
   "metadata": {},
   "outputs": [],
   "source": [
    "def check_and_clear(box):\n",
    "    print('불량품이 있으면 box를 clear합니다.')\n",
    "    if '불량품' in box.keys():\n",
    "        box.clear()"
   ]
  },
  {
   "cell_type": "markdown",
   "metadata": {},
   "source": [
    "---\n",
    "`products`는 문방구에 진열되어 있는 상품과 가격 정보를 담고 있는 딕셔너리입니다. 문방구에서는 새로운 상품에 대한 정보를 `catalog`로 받는데요. `catalog`에는 이번에 새로 입고되는 상품과 가격이 적혀있고 또 기존 제품의 가격이 변경된 경우 그 가격정보를 담고 있습니다.`products`가 `catalog`의 정보를 반영하여, 앞으로 문방구에서 판매할 상품 정보를 갖는 딕셔너리가 되도록 코드를 완성하세요."
   ]
  },
  {
   "cell_type": "markdown",
   "metadata": {},
   "source": [
    "example  \n",
    "딕셔너리에서 새로운 딕셔너리를 합치기 위해서는 `update()`를 사용한다.  \n",
    "예를 들어, \n",
    "```python\n",
    "dict1 = {1 : 100, 2 : 200}\n",
    "dict2 = {1 : 1000, 3 : 300}\n",
    "dict1.update(dict2)\n",
    "> {1 : 1000, 2 : 200, 3 : 300}\n",
    "```"
   ]
  },
  {
   "cell_type": "markdown",
   "metadata": {},
   "source": [
    "---\n",
    "```python\n",
    "products = {'풀' : 800, '딱풀' : 1200, '색종이' : 1000, '색연필' : 5000, '스케치북' : 3500}\n",
    "\n",
    "catalog = {'겨울용 실내화' : 12000, '잠자리채' : 8000, '딱풀' : 1400}\n",
    "```"
   ]
  },
  {
   "cell_type": "code",
   "execution_count": 113,
   "metadata": {},
   "outputs": [
    {
     "name": "stdout",
     "output_type": "stream",
     "text": [
      "{'풀': 800, '딱풀': 1400, '색종이': 1000, '색연필': 5000, '스케치북': 3500, '겨울용 실내화': 12000, '잠자리채': 8000}\n"
     ]
    }
   ],
   "source": [
    "products = {'풀' : 800, '딱풀' : 1200, '색종이' : 1000, '색연필' : 5000, '스케치북' : 3500}\n",
    "catalog = {'겨울용 실내화' : 12000, '잠자리채' : 8000, '딱풀' : 1400}\n",
    "products.update(catalog)\n",
    "print(products)"
   ]
  },
  {
   "cell_type": "markdown",
   "metadata": {},
   "source": [
    "# 튜플 만들기\n",
    "**튜플**\n",
    "* 한번 정해진 순서를 바꿀 수 없다.\n",
    "* 튜플 선언\n",
    "\n",
    "```python\n",
    "tuple1 = {1, 2, 3, 4}\n",
    "tuple2 = 1, 2, 3, 4\n",
    "\n",
    "mylist = [1, 2, 3, 4]\n",
    "tuple3 = tuple(mylist)\n",
    "```\n",
    "* 튜플은 값의 변경과 삭제가 불가능"
   ]
  },
  {
   "cell_type": "code",
   "execution_count": 1,
   "metadata": {},
   "outputs": [
    {
     "name": "stdout",
     "output_type": "stream",
     "text": [
      "[1, 2, 3, 4, 5]\n"
     ]
    }
   ],
   "source": [
    "list1 = [1, 2, 3, 4]\n",
    "list1.append(5)\n",
    "print(list1)"
   ]
  },
  {
   "cell_type": "code",
   "execution_count": 2,
   "metadata": {},
   "outputs": [
    {
     "name": "stdout",
     "output_type": "stream",
     "text": [
      "[2, 3, 4, 5]\n"
     ]
    }
   ],
   "source": [
    "list1.remove(1)\n",
    "print(list1)"
   ]
  },
  {
   "cell_type": "code",
   "execution_count": 3,
   "metadata": {},
   "outputs": [
    {
     "name": "stdout",
     "output_type": "stream",
     "text": [
      "(1, 2, 3)\n"
     ]
    }
   ],
   "source": [
    "tuple1 = (1, 2, 3)\n",
    "print(tuple1)"
   ]
  },
  {
   "cell_type": "code",
   "execution_count": 4,
   "metadata": {},
   "outputs": [
    {
     "data": {
      "text/plain": [
       "tuple"
      ]
     },
     "execution_count": 4,
     "metadata": {},
     "output_type": "execute_result"
    }
   ],
   "source": [
    "type(tuple1)"
   ]
  },
  {
   "cell_type": "code",
   "execution_count": 5,
   "metadata": {},
   "outputs": [
    {
     "name": "stdout",
     "output_type": "stream",
     "text": [
      "(1, 2, 3)\n"
     ]
    }
   ],
   "source": [
    "tuple2 = 1, 2, 3\n",
    "print(tuple2)"
   ]
  },
  {
   "cell_type": "code",
   "execution_count": 6,
   "metadata": {},
   "outputs": [
    {
     "name": "stdout",
     "output_type": "stream",
     "text": [
      "(1, 2, 3)\n"
     ]
    }
   ],
   "source": [
    "list1 = [1, 2, 3]\n",
    "tuple3 = tuple(list1) # list1을 가지고 있는 튜플을 만든다 \n",
    "print(tuple3)"
   ]
  },
  {
   "cell_type": "code",
   "execution_count": 8,
   "metadata": {},
   "outputs": [
    {
     "data": {
      "text/plain": [
       "2"
      ]
     },
     "execution_count": 8,
     "metadata": {},
     "output_type": "execute_result"
    }
   ],
   "source": [
    "tuple3[1]"
   ]
  },
  {
   "cell_type": "markdown",
   "metadata": {},
   "source": [
    "---\n",
    "튜플은 여러가지 방식으로 만들수가 있다. 다음 코드를 실행해서 튜플이 만들어질 수 있는 다양한 방법을 확인해 보자."
   ]
  },
  {
   "cell_type": "markdown",
   "metadata": {},
   "source": [
    "```python\n",
    "tuple1 = (1, 2, 3)\n",
    "tuple2 = 1, 2, 3\n",
    "list3 = [1, 2, 3]\n",
    "tuple3 = tuple(list3)\n",
    "\n",
    "if tuple1 == tuple2 == tuple3:\n",
    "    print('tuple1과 tuple2와 tuple3은 모두 같다.')\n",
    "```"
   ]
  },
  {
   "cell_type": "code",
   "execution_count": 9,
   "metadata": {},
   "outputs": [
    {
     "name": "stdout",
     "output_type": "stream",
     "text": [
      "tuple1과 tuple2와 tuple3은 모두 같다.\n"
     ]
    }
   ],
   "source": [
    "tuple1 = (1, 2, 3)\n",
    "tuple2 = 1, 2, 3\n",
    "list3 = [1, 2, 3]\n",
    "tuple3 = tuple(list3)\n",
    "\n",
    "if tuple1 == tuple2 == tuple3:\n",
    "    print('tuple1과 tuple2와 tuple3은 모두 같다.')"
   ]
  },
  {
   "cell_type": "markdown",
   "metadata": {},
   "source": [
    "----\n",
    "튜플도 리스트와 마찬가지로 index로 값을 읽어올 수 있다. 현재 코드를 실행하면 0, 1, 2가 차례로 한 줄 씩 출력된다. 코드의 3번째 줄 print문을 수정해서 `tuple1`의 값이 각각 한 줄 씩 출력되도록 만들어 보자."
   ]
  },
  {
   "cell_type": "markdown",
   "metadata": {},
   "source": [
    "example  \n",
    "튜플이 리스트와 마찬가지로 index로 값을 읽어올 수 있다는 점을 이용해 문제를 해결해 보자.  \n",
    "`tuple1[0] = 11`,`tuple1[1] = 22`,`tuple1[2] = 33`이므로 반복해서 출력할 수 있게 `for in`문을 이용해 문제를 해결해 보자."
   ]
  },
  {
   "cell_type": "markdown",
   "metadata": {},
   "source": [
    "```python\n",
    "tuple1 = (11, 22, 33)\n",
    "for i in range (len(tuple1)):\n",
    "    print(i)\n",
    "```"
   ]
  },
  {
   "cell_type": "code",
   "execution_count": 11,
   "metadata": {},
   "outputs": [
    {
     "name": "stdout",
     "output_type": "stream",
     "text": [
      "0\n",
      "1\n",
      "2\n"
     ]
    }
   ],
   "source": [
    "tuple1 = (11, 22, 33)\n",
    "for i in range (len(tuple1)):\n",
    "    print(i)"
   ]
  },
  {
   "cell_type": "code",
   "execution_count": 12,
   "metadata": {},
   "outputs": [
    {
     "name": "stdout",
     "output_type": "stream",
     "text": [
      "11\n",
      "22\n",
      "33\n"
     ]
    }
   ],
   "source": [
    "tuple1 = (11, 22, 33)\n",
    "for i in range(len(tuple1)):\n",
    "    print(tuple1[i])\n",
    "    \n",
    "# len(tuple1) = tuple1의 개수를 의미\n",
    "# 그래서 print(i)를 하면 0, 1, 2 가 출력\n",
    "# 여기서 tuple1에서 각 순서의 맞는 값들을 불러오기 위해선 print(tuple1[i])를 하면 된다.\n"
   ]
  },
  {
   "cell_type": "markdown",
   "metadata": {},
   "source": [
    "---\n",
    "# packing, unpacking\n",
    "**packing**\n",
    "* 하나의 변수에 여러개의 값을 넣는 것\n",
    "\n",
    "**unpacking**\n",
    "* 패킹된 변수에서 여러개의 값을 꺼내오는 것\n",
    "```python\n",
    "c = (3, 4)\n",
    "d, e = c # c의 값을 언패킹하여 d, e에 값을 넣었다\n",
    "f = d, e # 변수 d와 e를 f에 패킹\n",
    "```\n",
    "\n",
    "**튜플의 활용**\n",
    "* 두 변수의 값을 바꿀 때 임시변수가 필요 없다.\n",
    "* 함수의 리턴 값으로 여러 값을 전달할 수 있다."
   ]
  },
  {
   "cell_type": "code",
   "execution_count": 14,
   "metadata": {},
   "outputs": [
    {
     "name": "stdout",
     "output_type": "stream",
     "text": [
      "1\n",
      "2\n",
      "(3, 4)\n"
     ]
    }
   ],
   "source": [
    "a, b = 1, 2\n",
    "print(a)\n",
    "print(b)\n",
    "\n",
    "# unpacking\n",
    "c = (3, 4)\n",
    "print(c)"
   ]
  },
  {
   "cell_type": "code",
   "execution_count": 17,
   "metadata": {},
   "outputs": [
    {
     "name": "stdout",
     "output_type": "stream",
     "text": [
      "3\n",
      "4\n"
     ]
    }
   ],
   "source": [
    "d, e = c\n",
    "print(d)\n",
    "print(e)"
   ]
  },
  {
   "cell_type": "code",
   "execution_count": 18,
   "metadata": {},
   "outputs": [
    {
     "name": "stdout",
     "output_type": "stream",
     "text": [
      "(3, 4)\n"
     ]
    }
   ],
   "source": [
    "# packing\n",
    "f = d, e\n",
    "print(f)"
   ]
  },
  {
   "cell_type": "code",
   "execution_count": 19,
   "metadata": {},
   "outputs": [
    {
     "name": "stdout",
     "output_type": "stream",
     "text": [
      "10\n",
      "5\n"
     ]
    }
   ],
   "source": [
    "# x <-> y\n",
    "x = 5\n",
    "y = 10\n",
    "temp = x\n",
    "x = y\n",
    "y = temp\n",
    "\n",
    "print(x)\n",
    "print(y)"
   ]
  },
  {
   "cell_type": "code",
   "execution_count": 20,
   "metadata": {},
   "outputs": [
    {
     "name": "stdout",
     "output_type": "stream",
     "text": [
      "5\n",
      "10\n"
     ]
    }
   ],
   "source": [
    "# x <-> y \n",
    "x, y = y, x\n",
    "\n",
    "print(x)\n",
    "print(y)"
   ]
  },
  {
   "cell_type": "code",
   "execution_count": 21,
   "metadata": {},
   "outputs": [
    {
     "name": "stdout",
     "output_type": "stream",
     "text": [
      "1\n",
      "2\n"
     ]
    }
   ],
   "source": [
    "def tuple_func():\n",
    "    return 1, 2\n",
    "\n",
    "q, w = tuple_func()\n",
    "\n",
    "print(q)\n",
    "print(w)"
   ]
  },
  {
   "cell_type": "markdown",
   "metadata": {},
   "source": [
    "---\n",
    "```python\n",
    "x = 3, y = 5\n",
    "```\n",
    "의 값을 가지고 있다. `position`이 x와 y값으로 이루어진 튜플이 되도록 packing해 보세요."
   ]
  },
  {
   "cell_type": "markdown",
   "metadata": {},
   "source": [
    "packing이란 하나의 변수에 여러개의 값을 넣는 것이다.\n",
    "example)\n",
    "```python\n",
    "a, b = 1, 2\n",
    "c = a, b\n",
    "> # c = (1, 2)\n",
    "```"
   ]
  },
  {
   "cell_type": "markdown",
   "metadata": {},
   "source": [
    "---\n",
    "```python\n",
    "x = 3\n",
    "y = 5\n",
    "\n",
    "position = xxx\n",
    "print('x, y로 이루어진 튜플 position의 값은 {}입니다.')\n",
    "```"
   ]
  },
  {
   "cell_type": "code",
   "execution_count": 25,
   "metadata": {},
   "outputs": [
    {
     "name": "stdout",
     "output_type": "stream",
     "text": [
      "x, y로 이루어진 튜플 position의 값은 (3, 5)입니다.\n"
     ]
    }
   ],
   "source": [
    "x = 3\n",
    "y = 5\n",
    "\n",
    "position = x, y\n",
    "print('x, y로 이루어진 튜플 position의 값은 {}입니다.'.format(position))"
   ]
  },
  {
   "cell_type": "markdown",
   "metadata": {},
   "source": [
    "---\n",
    "a, b는 각각 1, 2의 값을 가지고 있다. 튜플을 이용해서 a와 b의 값을 서로 바꿔보세요"
   ]
  },
  {
   "cell_type": "markdown",
   "metadata": {},
   "source": [
    "unpacking은 패킹된 변수에서 여러개의 값을 꺼내온다.  \n",
    "```python\n",
    "c = (3, 4)\n",
    "d, e = c\n",
    "> # c의 값을 언팩킹하여 d, e에 값을 저장\n",
    "f = d, e\n",
    "> # 변수 d와 e를 f에 패킹\n",
    "```"
   ]
  },
  {
   "cell_type": "markdown",
   "metadata": {},
   "source": [
    "---\n",
    "```python\n",
    "a = 1\n",
    "b = 2\n",
    "\n",
    "# 코드를 작성해 보세요.\n",
    "a, b = xxx\n",
    "\n",
    "print('a : {}, b : {}'.format(a, b))\n",
    "```"
   ]
  },
  {
   "cell_type": "code",
   "execution_count": 26,
   "metadata": {},
   "outputs": [
    {
     "name": "stdout",
     "output_type": "stream",
     "text": [
      "a : 2, b : 1\n"
     ]
    }
   ],
   "source": [
    "a = 1\n",
    "b = 2\n",
    "\n",
    "a, b = b, a\n",
    "\n",
    "print('a : {}, b : {}'.format(a, b))"
   ]
  },
  {
   "cell_type": "markdown",
   "metadata": {},
   "source": [
    "---\n",
    "# 튜플을 이용한 함수의 리턴값\n",
    "**튜플 리스트 활용**\n",
    "```python\n",
    "for a in enumerate(list):\n",
    "    print('{}번째 값: {}'.format(a[0], a[1]))\n",
    "    \n",
    "for a in enumerate(list):\n",
    "    print('{}번째 값: {}'.format(*a))\n",
    "```"
   ]
  },
  {
   "cell_type": "code",
   "execution_count": 27,
   "metadata": {},
   "outputs": [
    {
     "name": "stdout",
     "output_type": "stream",
     "text": [
      "0번째 값: 1\n",
      "1번째 값: 2\n",
      "2번째 값: 3\n",
      "3번째 값: 4\n",
      "4번째 값: 5\n",
      "5번째 값: 6\n"
     ]
    }
   ],
   "source": [
    "# Ver 1.\n",
    "list = [1, 2, 3, 4, 5, 6]\n",
    "for i, v in enumerate(list):\n",
    "    print('{}번째 값: {}'.format(i, v))\n",
    "    \n",
    "# for a in enumerate(list) -> 한번에 index 값을 튜플로 for문을 돌면서 return\n",
    "# i, v 값이 하나씩 저장"
   ]
  },
  {
   "cell_type": "code",
   "execution_count": 37,
   "metadata": {},
   "outputs": [
    {
     "name": "stdout",
     "output_type": "stream",
     "text": [
      "0번째 값: 1\n",
      "1번째 값: 2\n",
      "2번째 값: 3\n",
      "3번째 값: 4\n",
      "4번째 값: 5\n",
      "5번째 값: 6\n"
     ]
    }
   ],
   "source": [
    "# Ver 2.\n",
    "# 튜플로 값을 리턴해주면 꼭 두개의 변수로 받을 필요는 없다\n",
    "for a in enumerate(list):\n",
    "    print('{}번째 값: {}'.format(a[0], a[1]))\n"
   ]
  },
  {
   "cell_type": "code",
   "execution_count": 30,
   "metadata": {},
   "outputs": [
    {
     "name": "stdout",
     "output_type": "stream",
     "text": [
      "0번째 값: 1\n",
      "1번째 값: 2\n",
      "2번째 값: 3\n",
      "3번째 값: 4\n",
      "4번째 값: 5\n",
      "5번째 값: 6\n"
     ]
    }
   ],
   "source": [
    "# Ver 3.\n",
    "for a in enumerate(list):\n",
    "    print('{}번째 값: {}'.format(*a))\n",
    "\n",
    "# *a <- 튜플을 쪼개라는 의미 "
   ]
  },
  {
   "cell_type": "code",
   "execution_count": 34,
   "metadata": {},
   "outputs": [
    {
     "name": "stdout",
     "output_type": "stream",
     "text": [
      "Tod의 나이는 : 35\n",
      "Jane의 나이는 : 23\n",
      "Paul의 나이는 : 62\n"
     ]
    }
   ],
   "source": [
    "# dict의 경우 Ver 1.\n",
    "ages = {'Tod' : 35, 'Jane' : 23, 'Paul' : 62}\n",
    "for key, val in ages.items():\n",
    "    print('{}의 나이는 : {}'.format(key, val))"
   ]
  },
  {
   "cell_type": "code",
   "execution_count": 39,
   "metadata": {},
   "outputs": [
    {
     "name": "stdout",
     "output_type": "stream",
     "text": [
      "Tod의 나이는: 35\n",
      "Jane의 나이는: 23\n",
      "Paul의 나이는: 62\n"
     ]
    }
   ],
   "source": [
    "# dict의 경우 Ver 2.\n",
    "ages = {'Tod' : 35, 'Jane' : 23, 'Paul' : 62}\n",
    "for a in ages.items():\n",
    "    print('{}의 나이는: {}'.format(a[0], a[1]))"
   ]
  },
  {
   "cell_type": "code",
   "execution_count": 40,
   "metadata": {},
   "outputs": [
    {
     "name": "stdout",
     "output_type": "stream",
     "text": [
      "Tod의 나이는: 35\n",
      "Jane의 나이는: 23\n",
      "Paul의 나이는: 62\n"
     ]
    }
   ],
   "source": [
    "# dict의 경우 Ver 3.\n",
    "ages = {'Tod' : 35, 'Jane' : 23, 'Paul' : 62}\n",
    "for a in ages.items():\n",
    "    print('{}의 나이는: {}'.format(*a))"
   ]
  },
  {
   "cell_type": "markdown",
   "metadata": {},
   "source": [
    "---\n",
    "products의 상품명과 값을 한 줄씩 출력하도록 코드의 4번째줄의 빈칸을 채워 보세요.\n"
   ]
  },
  {
   "cell_type": "markdown",
   "metadata": {},
   "source": [
    "튜플로 리턴하기 위해 리스트나 딕셔너리를 이용할 수 있다. 딕셔너리의 `items()`를 이용하여 튜플을 리턴할 때에는 `*`를 사용할 수 있다.\n",
    "```python\n",
    "ages = {'Tod' : 35, 'Jane' : 23, 'Paul' : 62}\n",
    "\n",
    "for a in ages.items():\n",
    "    print('{}의 나이는 : {}'.format(a[0], a[1]))\n",
    "    \n",
    "for a in ages, items():\n",
    "    print('{}의 나이는 : {}'.foramt(*a))\n",
    "    \n",
    "# 두 출력 결과가 같다.\n",
    "```"
   ]
  },
  {
   "cell_type": "markdown",
   "metadata": {},
   "source": [
    "---\n",
    "```python\n",
    "products = {'풀' : 800, '색종이' : 1000}\n",
    "\n",
    "for product_detail in products.items():\n",
    "    print('{}의 가격: {}원'.format(xxxx))\n",
    "    \n",
    "```"
   ]
  },
  {
   "cell_type": "code",
   "execution_count": 41,
   "metadata": {
    "scrolled": true
   },
   "outputs": [
    {
     "name": "stdout",
     "output_type": "stream",
     "text": [
      "풀의 가격: 800원\n",
      "색종이의 가격: 1000원\n"
     ]
    }
   ],
   "source": [
    "products = {'풀' : 800, '색종이' : 1000}\n",
    "\n",
    "for a in products.items():\n",
    "    print('{}의 가격: {}원'.format(a[0], a[1]))"
   ]
  },
  {
   "cell_type": "code",
   "execution_count": 44,
   "metadata": {},
   "outputs": [
    {
     "name": "stdout",
     "output_type": "stream",
     "text": [
      "풀의 가격: 800원\n",
      "색종이의 가격: 1000원\n"
     ]
    }
   ],
   "source": [
    "products = {'풀' : 800, '색종이' : 1000}\n",
    "\n",
    "for a in products.items():\n",
    "    print('{}의 가격: {}원'.format(*a))"
   ]
  },
  {
   "cell_type": "code",
   "execution_count": 45,
   "metadata": {},
   "outputs": [
    {
     "name": "stdout",
     "output_type": "stream",
     "text": [
      "풀의 가격: 800원\n",
      "색종이의 가격: 1000원\n"
     ]
    }
   ],
   "source": [
    "products = {'풀' : 800, '색종이' : 1000}\n",
    "\n",
    "for product_detail in products.items():\n",
    "    print('{}의 가격: {}원'.format(*product_detail))"
   ]
  },
  {
   "cell_type": "markdown",
   "metadata": {},
   "source": [
    "---\n",
    "# Part 11. While문과 반복 제어"
   ]
  },
  {
   "cell_type": "markdown",
   "metadata": {},
   "source": [
    "# While문 쓰기\n",
    "**While문**\n",
    "* 조건이 참인 경우 계속 실행하는 반복문\n",
    "```python\n",
    "while selected not in ['가위', '바위', '보']:\n",
    "    selected = input('가위, 바위, 보 중에 선택하세요>')\n",
    "```\n",
    "* for 반복문으로 작성한 코드는 while 반복문으로 작성 할 수 있다"
   ]
  },
  {
   "cell_type": "markdown",
   "metadata": {},
   "source": [
    "**while문**\n",
    "* if문은 조건이 맞으면 한번만 실행 하지만\n",
    "* while 반복문은 조건이 맞다면 계속 반복\n",
    "\n",
    "\n",
    "* for 반복문으로 작성한 코드는\n",
    "* while 반복문으로도 작성 할 수 있다 \n",
    "\n",
    "\n",
    "* 상황에 맞는 반복문을 사용할 것"
   ]
  },
  {
   "cell_type": "code",
   "execution_count": 46,
   "metadata": {},
   "outputs": [
    {
     "name": "stdout",
     "output_type": "stream",
     "text": [
      "가위, 바위, 보 중에 선택하세요>가위\n",
      "가위\n"
     ]
    }
   ],
   "source": [
    "selected = None # selected에 아직 아무것도 들어 있지 않다.\n",
    "while selected not in ['가위', '바위', '보']:\n",
    "    selected = input('가위, 바위, 보 중에 선택하세요>')\n",
    "    \n",
    "print(selected)\n",
    "\n",
    "# selected 값을 검사해서 그 값이 ['가위', '바위', '보'] 중에 한개인지 확인\n",
    "# not in = 그렇지 않으면 selected = input 입력을 받는다.\n",
    "# 입력을 받으면 입력받은 값에 대해 다시 한번 검사를 한다."
   ]
  },
  {
   "cell_type": "code",
   "execution_count": 48,
   "metadata": {},
   "outputs": [
    {
     "name": "stdout",
     "output_type": "stream",
     "text": [
      "가위\n",
      "보\n",
      "보\n"
     ]
    }
   ],
   "source": [
    "patterns = ['가위', '보', '보']\n",
    "for pattern in patterns:\n",
    "    print(pattern)"
   ]
  },
  {
   "cell_type": "code",
   "execution_count": 53,
   "metadata": {},
   "outputs": [
    {
     "name": "stdout",
     "output_type": "stream",
     "text": [
      "가위\n",
      "보\n",
      "보\n"
     ]
    }
   ],
   "source": [
    "patterns = ['가위', '보', '보']\n",
    "for i in range(len(patterns)):\n",
    "    print(patterns[i])"
   ]
  },
  {
   "cell_type": "code",
   "execution_count": 56,
   "metadata": {},
   "outputs": [
    {
     "name": "stdout",
     "output_type": "stream",
     "text": [
      "가위\n",
      "보\n",
      "보\n"
     ]
    }
   ],
   "source": [
    "patterns = ['가위', '보', '보']\n",
    "length = len(patterns)\n",
    "i = 0\n",
    "while i < length:\n",
    "    print(patterns[i])\n",
    "    i = i + 1\n",
    "    \n",
    "# length = 3\n",
    "# i가 3보다 작는 한 아래 블록을 실행\n",
    "# i번째 리스트 값을 출력하고 i 값을 1 증가 시킨다.\n",
    "# length 보다 i의 값이 같거나 커지는 순간이 오면 더이상 실행되지 않는다 "
   ]
  },
  {
   "cell_type": "markdown",
   "metadata": {},
   "source": [
    "---\n",
    "코드의 빈칸을 채워넣어 `while`문이 `numbers`의 값을 한 줄씩 출력하도록 만들자\n",
    "\n",
    "* 빈칸은 `length`변수를 이용해서 채워주자"
   ]
  },
  {
   "cell_type": "markdown",
   "metadata": {},
   "source": [
    "`while`문은 조건이 참인 경우 실행문을 반복하는 반복문이다.\n",
    "```python\n",
    "while 3 < 5: # 3 < 5 참이므로\n",
    "    print('true') # 이 코드가 반복적으로 실행된다.\n",
    "```\n",
    "    "
   ]
  },
  {
   "cell_type": "markdown",
   "metadata": {},
   "source": [
    "---\n",
    "```python\n",
    "numbers = [1, 2, 3]\n",
    "length = len(numbers)\n",
    "i = 0\n",
    "while xx:\n",
    "    print(numbers[i])\n",
    "    i = i + 1\n",
    "```"
   ]
  },
  {
   "cell_type": "code",
   "execution_count": 58,
   "metadata": {},
   "outputs": [
    {
     "name": "stdout",
     "output_type": "stream",
     "text": [
      "1\n",
      "2\n",
      "3\n"
     ]
    }
   ],
   "source": [
    "numbers = [1, 2, 3]\n",
    "length = len(numbers)\n",
    "i = 0\n",
    "while i < length:\n",
    "    print(numbers[i])\n",
    "    i = i + 1"
   ]
  },
  {
   "cell_type": "markdown",
   "metadata": {},
   "source": [
    "---\n",
    "# break, continue\n",
    "**break**\n",
    "* 반복문을 종료시키는 기능\n",
    "\n",
    "**continue**\n",
    "* 반복문의 나머지 부분을 보지 않고, 반복문의 처음으로 돌아가는 기능"
   ]
  },
  {
   "cell_type": "code",
   "execution_count": 60,
   "metadata": {},
   "outputs": [
    {
     "name": "stdout",
     "output_type": "stream",
     "text": [
      "3\n"
     ]
    }
   ],
   "source": [
    "list = [1, 2, 3, 5, 7, 2, 5, 237, 55]\n",
    "for val in list:\n",
    "    if val % 3 == 0:\n",
    "        print(val)\n",
    "        break\n",
    "        \n",
    "# 한개의 3의 배수를 찾고 싶으면 break를 넣으면 된다.\n",
    "# break의 상위 블록 중에 첫번째 반복문을 찾아서 종료\n",
    "# if & for 문 블럭 종료 "
   ]
  },
  {
   "cell_type": "code",
   "execution_count": 61,
   "metadata": {},
   "outputs": [
    {
     "name": "stdout",
     "output_type": "stream",
     "text": [
      "1\n",
      "1\n",
      "1\n",
      "1\n",
      "3\n",
      "3\n",
      "3\n",
      "3\n",
      "5\n",
      "5\n",
      "5\n",
      "5\n",
      "7\n",
      "7\n",
      "7\n",
      "7\n",
      "9\n",
      "9\n",
      "9\n",
      "9\n"
     ]
    }
   ],
   "source": [
    "# 1 ~ 10 숫자중에 홀수를 4줄씩 출력하는 문 Ver 1.\n",
    "list = [1, 2, 3, 5, 7, 2, 5, 237, 55]\n",
    "\n",
    "for i in range(10):\n",
    "    if i % 2 != 0:\n",
    "        print(i)\n",
    "        print(i)\n",
    "        print(i)\n",
    "        print(i)"
   ]
  },
  {
   "cell_type": "code",
   "execution_count": 66,
   "metadata": {},
   "outputs": [
    {
     "name": "stdout",
     "output_type": "stream",
     "text": [
      "1\n",
      "1\n",
      "1\n",
      "1\n",
      "3\n",
      "3\n",
      "3\n",
      "3\n",
      "5\n",
      "5\n",
      "5\n",
      "5\n",
      "7\n",
      "7\n",
      "7\n",
      "7\n",
      "9\n",
      "9\n",
      "9\n",
      "9\n"
     ]
    }
   ],
   "source": [
    "# 1 ~ 10 숫자중에 홀수를 4줄씩 출력하는 문 Ver 2.\n",
    "list = [1, 2, 3, 5, 7, 2, 5, 237, 55]\n",
    "\n",
    "for i in range(10):\n",
    "    if i % 2 == 0:\n",
    "        continue\n",
    "    print(i)\n",
    "    print(i)\n",
    "    print(i)\n",
    "    print(i)\n",
    "\n",
    "# continue의 장점 : 제외하는 경우를 첫번째에 처리함으로써 핵심이 되는 블록이\n",
    "# 너무 깊이 들어가지 않도록 방지해 줌 "
   ]
  },
  {
   "cell_type": "markdown",
   "metadata": {},
   "source": [
    "----\n",
    "sizes에는 진열된 바지 사이즈의 목록이 들어 있다. 다음 코드는 사이즈가 32인 바지의 위치를 모두 출력하고 있는데요. 코드를 수정해서 사이즈가 32인 바지의 위치를 한 번만 출력하고 프로그램이 종료되도록 만들어 보세요.\n"
   ]
  },
  {
   "cell_type": "markdown",
   "metadata": {},
   "source": [
    "---\n",
    "32인 바지의 위치를 한번만 출력하고 반복문을 빠져나와야 한다. `break`는 반복문을 종료시키는 기능을 갖고 있으므로 `break`를 이용하면 된다."
   ]
  },
  {
   "cell_type": "markdown",
   "metadata": {},
   "source": [
    "```python\n",
    "list = [1, 2, 3, 5, 7, 2, 5, 237, 55]\n",
    "for val in list:\n",
    "    if val % 3 == 0:\n",
    "        print(val)\n",
    "        break\n",
    "```"
   ]
  },
  {
   "cell_type": "markdown",
   "metadata": {},
   "source": [
    "---\n",
    "```python\n",
    "sizes = [33, 35, 34, 37, 32, 35, 39, 32, 35, 29]\n",
    "for i, size in enumerate(sizes):\n",
    "    if size == 32:\n",
    "        print('사이즈 32인 바지는 {}번째에 있다.'.format(i + 1))\n",
    "```"
   ]
  },
  {
   "cell_type": "markdown",
   "metadata": {},
   "source": [
    "----"
   ]
  },
  {
   "cell_type": "code",
   "execution_count": 68,
   "metadata": {},
   "outputs": [
    {
     "name": "stdout",
     "output_type": "stream",
     "text": [
      "사이즈 32인 바지는 5번째에 있다.\n"
     ]
    }
   ],
   "source": [
    "sizes = [33, 35, 34, 37, 32, 35, 39, 32, 35, 29]\n",
    "for i, size in enumerate(sizes):\n",
    "    if size == 32:\n",
    "        print('사이즈 32인 바지는 {}번째에 있다.'.format(i + 1))\n",
    "        break"
   ]
  },
  {
   "cell_type": "markdown",
   "metadata": {},
   "source": [
    "---"
   ]
  },
  {
   "cell_type": "markdown",
   "metadata": {},
   "source": [
    "다음 코드는 `numbers`에 있는 튜플을 받아 들여서 튜플의 첫번째 숫자를 두번째 숫자로 나누는 일을 한다. 이 때, b가 0이면 \"0으로 나눌 수는 없다.\" 라고 출력하는 데요. 이 `if else`문에서 `continue`문을 이용하여 `else`를 사용하지 않도록 변경해 보세요."
   ]
  },
  {
   "cell_type": "markdown",
   "metadata": {},
   "source": [
    "`continue`는 반복문의 나머지 부분을 보지 않고, 반복문의 처음으로 돌아가는 기능이다.  \n",
    "`continue`는 핵심이 되는 블럭이 너무 들여쓰기 되지 않게 한다.  \n",
    "아래 예제는 10이하의 홀수만 출력하는 코드이다.  \n",
    "```python\n",
    "for i in range(10):\n",
    "    if i % 2 == 0:\n",
    "        continue\n",
    "    print(i)\n",
    "```"
   ]
  },
  {
   "cell_type": "markdown",
   "metadata": {},
   "source": [
    "---\n",
    "```python\n",
    "numbers = [(1, 2), (10, 0)]\n",
    "\n",
    "for a, b in numbers:\n",
    "    if b == 0:\n",
    "        print('0으로 나눌 수는 없습니다.')\n",
    "    else:\n",
    "        # 이 부분이 else문에 들어있지 않도록 수정해야 한다.\n",
    "        print('{}를 {}로 나누면 {}.'.foramt(a, b, a/b))\n",
    "```"
   ]
  },
  {
   "cell_type": "markdown",
   "metadata": {},
   "source": [
    "----"
   ]
  },
  {
   "cell_type": "code",
   "execution_count": 76,
   "metadata": {},
   "outputs": [
    {
     "name": "stdout",
     "output_type": "stream",
     "text": [
      "1를 2로 나누면 0.5.\n",
      "0으로 나눌 수는 없습니다.\n"
     ]
    }
   ],
   "source": [
    "numbers = [(1, 2), (10, 0)]\n",
    "\n",
    "for a, b in numbers:\n",
    "    if b == 0:\n",
    "        print('0으로 나눌 수는 없습니다.')\n",
    "    else:\n",
    "        print('{}를 {}로 나누면 {}.'.format(a, b, a/b))\n",
    "        continue"
   ]
  },
  {
   "cell_type": "code",
   "execution_count": 82,
   "metadata": {},
   "outputs": [
    {
     "name": "stdout",
     "output_type": "stream",
     "text": [
      "1를 2로 나누면 0.5\n",
      "0으로 나눌 수는 없습니다.\n"
     ]
    }
   ],
   "source": [
    "numbers = [ (1,2),(10,0) ]\n",
    "\n",
    "for a,b in numbers:\n",
    "    if b == 0:\n",
    "        print('0으로 나눌 수는 없습니다.')\n",
    "        continue\n",
    "    print('{}를 {}로 나누면 {}'.format(a,b,a/b))"
   ]
  },
  {
   "cell_type": "markdown",
   "metadata": {},
   "source": [
    "---\n",
    "# Part 12. 예외처리"
   ]
  },
  {
   "cell_type": "markdown",
   "metadata": {},
   "source": [
    "# try except\n",
    "**예외 처리**\n",
    "```python\n",
    "try:\n",
    "    # 에러가 발생할 가능성이 있는 코드\n",
    "except Exception: # 에러 종류\n",
    "    # 에러가 발생 했을 경우 처리할 코드\n",
    "```\n",
    "* 경우에 따라 예외 처리 대신 if elsef를 사용 할 수 있다."
   ]
  },
  {
   "cell_type": "code",
   "execution_count": 83,
   "metadata": {},
   "outputs": [
    {
     "name": "stdout",
     "output_type": "stream",
     "text": [
      "100%는 숫자가 아니네요.\n"
     ]
    }
   ],
   "source": [
    "text = '100%'\n",
    "try:\n",
    "    number = int(text)\n",
    "except ValueError:\n",
    "    print('{}는 숫자가 아니네요.'.format(text))\n",
    "    \n",
    "# 에러가 발생할 것 같은 코드를 try 아래 블록에 넣고\n",
    "# except 뒤에서 발생할 수 있는 에러의 이름을 적어두면 에러가 발생할 경우\n",
    "# 별도로 처리할 수 있다. "
   ]
  },
  {
   "cell_type": "code",
   "execution_count": 84,
   "metadata": {},
   "outputs": [
    {
     "name": "stdout",
     "output_type": "stream",
     "text": [
      "5 index의 값을 가져올 수 없습니다.\n"
     ]
    }
   ],
   "source": [
    "def safe_pop_print(list, index):\n",
    "    try:\n",
    "        print(list.pop(index))\n",
    "    except IndexError:\n",
    "        print('{} index의 값을 가져올 수 없습니다.'.format(index))\n",
    "\n",
    "safe_pop_print([1, 2, 3], 5) # 함수 호출\n",
    "# 5번째 값을 출력하고 지워보세요 \n",
    "    \n",
    "# list 와 index를 받아 들여서 index에 해당하는 값을 출력하고 그 값을 또 리스트에서\n",
    "# 지워주는 함수 "
   ]
  },
  {
   "cell_type": "code",
   "execution_count": 88,
   "metadata": {},
   "outputs": [
    {
     "name": "stdout",
     "output_type": "stream",
     "text": [
      "5 index의 값을 가져올 수 없습니다.\n"
     ]
    }
   ],
   "source": [
    "def safe_pop_print(list, index):\n",
    "    if index < len(list): # index가 리스트의 길이보다 작으면 출력 \n",
    "        print(list.pop(index))\n",
    "    else: # 그렇지 않은 경우 에러 메세지 출력 \n",
    "        print('{} index의 값을 가져올 수 없습니다.'.format(index))\n",
    "        \n",
    "safe_pop_print([1, 2, 3], 5)"
   ]
  },
  {
   "cell_type": "code",
   "execution_count": 89,
   "metadata": {},
   "outputs": [
    {
     "name": "stdout",
     "output_type": "stream",
     "text": [
      "모듈이 없습니다.\n"
     ]
    }
   ],
   "source": [
    "try:\n",
    "    import my_module\n",
    "except ImportError:\n",
    "    print('모듈이 없습니다.')"
   ]
  },
  {
   "cell_type": "markdown",
   "metadata": {},
   "source": [
    "---\n",
    "다음 코드는 3을 0으로 나누고 있다. 나눗셈 연산은 0으로 나눌 수 없기 때문에 문제의 코드를 실행하면 에러가 발생한다. 에러의 이름을 확인하고 `try except`문으로 코드의 2번째 줄을 감싸서 에러가 발생할 경우 4번째 줄이 출력되도록 만들어라."
   ]
  },
  {
   "cell_type": "markdown",
   "metadata": {},
   "source": [
    "---\n",
    "```python\n",
    "a = 3/0\n",
    "\n",
    "print('0으로 나눌 수 없습니다.')\n",
    "```"
   ]
  },
  {
   "cell_type": "markdown",
   "metadata": {},
   "source": [
    "---"
   ]
  },
  {
   "cell_type": "code",
   "execution_count": 92,
   "metadata": {},
   "outputs": [
    {
     "name": "stdout",
     "output_type": "stream",
     "text": [
      "o으로 나눌 수 없습니다.\n"
     ]
    }
   ],
   "source": [
    "try:\n",
    "    a = 3/0\n",
    "except ZeroDivisionError:\n",
    "    print('o으로 나눌 수 없습니다.')"
   ]
  },
  {
   "cell_type": "markdown",
   "metadata": {},
   "source": [
    "---\n",
    "# 예외의 이름을 모를 때\n",
    "**예외 이름을 모르는 경우 처리 방법**\n",
    "```python\n",
    "try:\n",
    "    # 에러가 발생할 가능성이 있는 코드\n",
    "except Exception as ex: # 예외 종류\n",
    "    print('에러가 발생 했습니다.', ex) # ex는 발생한 에러의 이름을 받아오는 함수\n",
    "```"
   ]
  },
  {
   "cell_type": "code",
   "execution_count": 93,
   "metadata": {},
   "outputs": [
    {
     "name": "stdout",
     "output_type": "stream",
     "text": [
      "에러가 발생했습니다.\n"
     ]
    }
   ],
   "source": [
    "try:\n",
    "    list = []\n",
    "    print(list[0])\n",
    "    \n",
    "    text = 'abc'\n",
    "    number = int(text)\n",
    "except: # 에러 이름을 모를 때는 이름을 쓰지 않는다 \n",
    "    print('에러가 발생했습니다.')"
   ]
  },
  {
   "cell_type": "code",
   "execution_count": 95,
   "metadata": {},
   "outputs": [
    {
     "name": "stdout",
     "output_type": "stream",
     "text": [
      "에러가 발생했습니다. invalid literal for int() with base 10: 'abc'\n"
     ]
    }
   ],
   "source": [
    "try:\n",
    "#     list = []\n",
    "#     print(list[0])\n",
    "    \n",
    "    text = 'abc'\n",
    "    number = int(text)\n",
    "except Exception as ex: # 에러의 내용을 알 수 있다. \n",
    "    print('에러가 발생했습니다.', ex)"
   ]
  },
  {
   "cell_type": "markdown",
   "metadata": {},
   "source": [
    "---\n",
    "다음 코드는 발생하는 예외를 `try/except`문으로 처리하고 있다. 5번째 줄에서는 어떤 에러가 발생하는지 출력할 수 있도록 빈칸을 채우고, 6번째 줄은 예외를 출력할 수 있도록 format의 빈칸을 작성하라.\n"
   ]
  },
  {
   "cell_type": "markdown",
   "metadata": {},
   "source": [
    "---\n",
    "```python\n",
    "try:\n",
    "    a = 5\n",
    "    b = 0\n",
    "    c = a / b\n",
    "    \n",
    "except xxx:\n",
    "    print('다음과같은 에러가 발생했습니다: {}'.foramt(xxx))\n",
    "```\n",
    "---"
   ]
  },
  {
   "cell_type": "code",
   "execution_count": 96,
   "metadata": {},
   "outputs": [
    {
     "name": "stdout",
     "output_type": "stream",
     "text": [
      "다음과 같은 에러가 발생했습니다: division by zero\n"
     ]
    }
   ],
   "source": [
    "try:\n",
    "    a = 5\n",
    "    b = 0\n",
    "    c = a / b\n",
    "    \n",
    "except Exception as e:\n",
    "    print('다음과 같은 에러가 발생했습니다: {}'.format(e))\n",
    "    "
   ]
  },
  {
   "cell_type": "markdown",
   "metadata": {},
   "source": [
    "---\n",
    "# raise\n",
    "**예외 발생**\n",
    "* 사용자가 직접 에러를 발생시키는 기능\n",
    "* `raise Exception # 에러 종류`\n",
    "* 많이 사용하면 코드를 읽기 어려워진다."
   ]
  },
  {
   "cell_type": "code",
   "execution_count": 99,
   "metadata": {},
   "outputs": [
    {
     "name": "stdout",
     "output_type": "stream",
     "text": [
      "잘못된 값을 넣은 것 같습니다.\n"
     ]
    }
   ],
   "source": [
    "def rsp(mine, yours):\n",
    "    allowed = ['가위', '바위', '보']\n",
    "    if mine not in allowed: # allowed 안에 있지 않다면\n",
    "        raise ValueError\n",
    "    if yours not in allowed:\n",
    "        raise ValueError      \n",
    "    # 가위바위보 승패를 판단하는 코드\n",
    "    \n",
    "try:\n",
    "    rsp('가위', '바')\n",
    "except ValueError:\n",
    "    print('잘못된 값을 넣은 것 같습니다.')"
   ]
  },
  {
   "cell_type": "code",
   "execution_count": 101,
   "metadata": {},
   "outputs": [
    {
     "name": "stdout",
     "output_type": "stream",
     "text": [
      "1반 반에 190을 넘는 학생이 있습니다.\n",
      "2반 반에 190을 넘는 학생이 있습니다.\n"
     ]
    }
   ],
   "source": [
    "# 에러를 발생시켜서 반복문이 중첩되어 있을 떄도 이를 종료시키는 방법\n",
    "# 학생들 중에 190이 넘는 학생이 있을 경우 반 이름을 출력하고 즉시 종료\n",
    "school = {'1반': [172, 185, 198, 177, 165, 199], '2반' : [165, 177, 167, 180, 191]}\n",
    "for class_number, students in school.items():\n",
    "    for student in students:\n",
    "        if student > 190:\n",
    "            print(class_number, '반에 190을 넘는 학생이 있습니다.')\n",
    "            break\n",
    "            \n",
    "            \n",
    "# break을 사용한다면\n",
    "# 아래 for문은 종료되지만 위에 for문은 종료되지 않기 때문에\n",
    "# 2반으로 넘어가서 한번 더 실행이 된다.\n",
    "# 딕셔너리는 순서를 정해주지 않기 때문에 2반이 먼저 출력이 될 수 있다.\n"
   ]
  },
  {
   "cell_type": "code",
   "execution_count": 103,
   "metadata": {},
   "outputs": [
    {
     "name": "stdout",
     "output_type": "stream",
     "text": [
      "1반 반에 190을 넘는 학생이 있습니다.\n",
      "정상종료\n"
     ]
    }
   ],
   "source": [
    "school = {'1반': [172, 185, 198, 177, 165, 199], '2반' : [165, 177, 167, 180, 191]}\n",
    "try:\n",
    "    for class_number, students in school.items():\n",
    "        for student in students:\n",
    "            if student > 190:\n",
    "                print(class_number, '반에 190을 넘는 학생이 있습니다.')\n",
    "                raise StopIteration\n",
    "except StopIteration:\n",
    "    print('정상종료')"
   ]
  },
  {
   "cell_type": "markdown",
   "metadata": {},
   "source": [
    "---\n",
    "다음 코드는 문구점 3곳을 검사하면서 풀이있으면 문구점의 이름과 가격을 출력한다.  \n",
    "실행 버튼을 눌러서 출력 결과를 확인해 보자."
   ]
  },
  {
   "cell_type": "markdown",
   "metadata": {},
   "source": [
    "---\n",
    "```python\n",
    "shops = {\n",
    "    \"송일문방구\": {\"가위\": 500, \"크레파스\": 3000},\n",
    "    \"알파문구\": {\"풀\": 800, \"도화지\": 300, \"A4용지\": 8000},\n",
    "    \"다이소\": {\"풀\": 500, \"목공본드\": 2000, \"화분\": 3000}\n",
    "}\n",
    "\n",
    "for shop, products in shops.items():\n",
    "    for product, price in products.items():\n",
    "        if product =='풀':\n",
    "            print(\"{}: {}원\".format(shop, price))\n",
    "```\n",
    "---"
   ]
  },
  {
   "cell_type": "code",
   "execution_count": 106,
   "metadata": {},
   "outputs": [
    {
     "name": "stdout",
     "output_type": "stream",
     "text": [
      "알파문구: 800원\n",
      "다이소: 500원\n"
     ]
    }
   ],
   "source": [
    "shops = {\n",
    "    \"송일문방구\" : {\"가위\" : 500, \"크레파스\" : 3000},\n",
    "    \"알파문구\" : {\"풀\" : 800, \"도화지\" : 300, \"A4용지\" : 8000},\n",
    "    \"다이소\" : {\"풀\" : 500, \"목공본드\" : 2000, \"화분\" : 3000}\n",
    "}\n",
    "\n",
    "for shop, products in shops.items():\n",
    "    for product, price in products.items():\n",
    "        if product == '풀':\n",
    "            print(\"{}: {}원\".format(shop, price))"
   ]
  },
  {
   "cell_type": "markdown",
   "metadata": {},
   "source": [
    "---\n",
    "풀을 파는 가게를 발견하면 for문 전체를 즉시 종료하고 싶다. for문을 `try/except`로 감싸고 print문 다음에 `raise StopIteration`을 추가해서 풀을 파는 가게를 하나만 출력하도록 만들어 보자. `except`문에서는 `StopIteration`을 지정해 주어야 한다."
   ]
  },
  {
   "cell_type": "markdown",
   "metadata": {},
   "source": [
    "---\n",
    "```python\n",
    "shops = {\n",
    "    \"송일문방구\": {\"가위\": 500, \"크레파스\": 3000},\n",
    "    \"알파문구\": {\"풀\": 800, \"도화지\": 300, \"A4용지\": 8000},\n",
    "    \"다이소\": {\"풀\": 500, \"목공본드\": 2000, \"화분\": 3000}\n",
    "}\n",
    "\n",
    "for shop, products in shops.items():\n",
    "    for product, price in products.items():\n",
    "        if product =='풀':\n",
    "            print(\"{}: {}원\".format(shop, price))\n",
    "```\n",
    "---"
   ]
  },
  {
   "cell_type": "code",
   "execution_count": 109,
   "metadata": {},
   "outputs": [
    {
     "name": "stdout",
     "output_type": "stream",
     "text": [
      "알파문구: 800원\n"
     ]
    }
   ],
   "source": [
    "shops = {\n",
    "    \"송일문방구\": {\"가위\": 500, \"크레파스\": 3000},\n",
    "    \"알파문구\": {\"풀\": 800, \"도화지\": 300, \"A4용지\": 8000},\n",
    "    \"다이소\": {\"풀\": 500, \"목공본드\": 2000, \"화분\": 3000}\n",
    "}\n",
    "\n",
    "try:\n",
    "    for shop, products in shops.items():\n",
    "        for product, price in products.items():\n",
    "            if product == '풀':\n",
    "                print('{}: {}원'.format(shop, price))\n",
    "                raise StopIteration\n",
    "\n",
    "except StopIteration:\n",
    "    pass"
   ]
  },
  {
   "cell_type": "markdown",
   "metadata": {},
   "source": [
    "---\n",
    "# Part 13. 논리연산과 if문 더 알아보기"
   ]
  },
  {
   "cell_type": "markdown",
   "metadata": {},
   "source": [
    "# 논리연산 더 알아보기\n",
    "**단락평가**\n",
    "* 논리연산에서 코드의 앞만 보고 값을 정할 수 있는 경우 뒤는 보지 않고 값을 결정\n",
    "* 복잡한 코드를 단순하게 하는 방식"
   ]
  },
  {
   "cell_type": "code",
   "execution_count": null,
   "metadata": {},
   "outputs": [],
   "source": [
    "a = 10\n",
    "if a < 0 and 2 ** a > 1000 and a % 5 == 2 and round(a) == a:\n",
    "    print('복잡한 식')"
   ]
  },
  {
   "cell_type": "code",
   "execution_count": 111,
   "metadata": {},
   "outputs": [
    {
     "name": "stdout",
     "output_type": "stream",
     "text": [
      "테스트1\n",
      "함수return_false\n",
      "함수return_true\n",
      "False\n",
      "테스트2\n",
      "함수return_false\n",
      "False\n"
     ]
    }
   ],
   "source": [
    "# 항상 False를 리턴하는 함수\n",
    "def return_false():\n",
    "    print('함수return_false')\n",
    "    return False\n",
    "\n",
    "def return_true():\n",
    "    print('함수return_true')\n",
    "    return True\n",
    "\n",
    "print('테스트1')\n",
    "a = return_false()\n",
    "b = return_true()\n",
    "\n",
    "if a and b:\n",
    "    print(True)\n",
    "else:\n",
    "    print(False)\n",
    "    \n",
    "print('테스트2')\n",
    "if return_false() and return_true():\n",
    "    print('True')\n",
    "else:\n",
    "    print('False')\n",
    "    \n",
    "# 파이썬에서는 and 나 or 연산에서 첫번째 값을 보고 더이상 실행할 필요가 없으면\n",
    "# 두번째 값은 실행하지 않는다 = 단락평가\n"
   ]
  },
  {
   "cell_type": "code",
   "execution_count": 113,
   "metadata": {},
   "outputs": [
    {
     "name": "stdout",
     "output_type": "stream",
     "text": [
      "아니네\n"
     ]
    }
   ],
   "source": [
    "dic = {'Key2' : 'Value1'}\n",
    "\n",
    "if 'Key1' in dic and dic['Key1'] == 'Value1':\n",
    "    print('Key1도 있고, 그 값은 Value이네')\n",
    "else:\n",
    "    print('아니네')\n",
    "    \n",
    "# 'Key1'이 dic안에 없다면 and 연산에서 앞부분만 보고 뒷부분은 실행하지 않기 때문에\n",
    "# 바로 else문으로 넘어갈 수 있다."
   ]
  },
  {
   "cell_type": "markdown",
   "metadata": {},
   "source": [
    "---"
   ]
  },
  {
   "cell_type": "markdown",
   "metadata": {},
   "source": [
    "# bool 값과 논리연산\n",
    "**true, false**\n",
    "* 숫자 0을 제외한 모든 수 - true\n",
    "* 빈 딕셔너리, 빈 리스트를 제외한 모든 딕셔너리, 리스트 - true\n",
    "* 아무 값도 없다는 의미인 None - false\n",
    "* 빈문자열을 제외한 모든 문자열 - true"
   ]
  },
  {
   "cell_type": "code",
   "execution_count": 117,
   "metadata": {},
   "outputs": [
    {
     "data": {
      "text/plain": [
       "False"
      ]
     },
     "execution_count": 117,
     "metadata": {},
     "output_type": "execute_result"
    }
   ],
   "source": [
    "bool(0)"
   ]
  },
  {
   "cell_type": "code",
   "execution_count": 118,
   "metadata": {},
   "outputs": [
    {
     "data": {
      "text/plain": [
       "False"
      ]
     },
     "execution_count": 118,
     "metadata": {},
     "output_type": "execute_result"
    }
   ],
   "source": [
    "bool([])"
   ]
  },
  {
   "cell_type": "code",
   "execution_count": 119,
   "metadata": {},
   "outputs": [
    {
     "data": {
      "text/plain": [
       "False"
      ]
     },
     "execution_count": 119,
     "metadata": {},
     "output_type": "execute_result"
    }
   ],
   "source": [
    "bool(None)"
   ]
  },
  {
   "cell_type": "code",
   "execution_count": 120,
   "metadata": {},
   "outputs": [
    {
     "data": {
      "text/plain": [
       "False"
      ]
     },
     "execution_count": 120,
     "metadata": {},
     "output_type": "execute_result"
    }
   ],
   "source": [
    "bool('')"
   ]
  },
  {
   "cell_type": "code",
   "execution_count": 121,
   "metadata": {},
   "outputs": [
    {
     "data": {
      "text/plain": [
       "True"
      ]
     },
     "execution_count": 121,
     "metadata": {},
     "output_type": "execute_result"
    }
   ],
   "source": [
    "bool('hi')"
   ]
  },
  {
   "cell_type": "code",
   "execution_count": 122,
   "metadata": {},
   "outputs": [
    {
     "name": "stdout",
     "output_type": "stream",
     "text": [
      "Hello\n"
     ]
    }
   ],
   "source": [
    "if 'Hi':\n",
    "    print('Hello')"
   ]
  },
  {
   "cell_type": "code",
   "execution_count": 123,
   "metadata": {},
   "outputs": [],
   "source": [
    "# A and B -> A가 False이면 False\n",
    "#         -> A가 True이면 B의 값을 따른다.\n",
    "# A or B -> A가 True이면 단락평가에 의해서 B를 검사하지 않는다. -> True\n",
    "#        -> A가 False라면 B의 값을 따른다."
   ]
  },
  {
   "cell_type": "code",
   "execution_count": 126,
   "metadata": {},
   "outputs": [
    {
     "name": "stdout",
     "output_type": "stream",
     "text": [
      "입력해 주세요>py\n",
      "입력받은 값> py\n"
     ]
    }
   ],
   "source": [
    "value = input('입력해 주세요>') or '아무것도 못받았어'\n",
    "print('입력받은 값>', value)\n",
    "\n",
    "# input('입력해 주세요>') 빈 경우 False 그러므로 뒷 부분을 따른다"
   ]
  },
  {
   "cell_type": "markdown",
   "metadata": {},
   "source": [
    "---\n",
    "다음 코드를 실행해서 어느 경우 if문 안의 카드가 실행되는지 확인해 보세요."
   ]
  },
  {
   "cell_type": "markdown",
   "metadata": {},
   "source": [
    "|구분|False|True\n",
    "|:--:|:--:|:--:|\n",
    "|숫자|숫자0|숫자 0을 제외한 모든 수|\n",
    "|문자열|빈 문자열(\")|빈 문자열을 제외한 모든 문자열|\n",
    "|리스트|빈 리스트([])|빈 리스트를 제외한 모든 리스트|\n",
    "|딕셔너리|빈 딕셔너리({})|빈 딕셔너리를 제외한 모든 딕셔너리|\n",
    "|기타|None 오브젝트| |"
   ]
  },
  {
   "cell_type": "markdown",
   "metadata": {},
   "source": [
    "---\n",
    "```python\n",
    "if []:\n",
    "    print(\"[]은 True입니다.\")\n",
    "\n",
    "if [1, 2, 3]:\n",
    "    print(\"[1,2,3]은/는 True입니다.\")\n",
    "\n",
    "if {}:\n",
    "    print(\"{}은 True입니다.\")\n",
    "\n",
    "if {'abc': 1}:\n",
    "    print(\"{'abc':1}은 True입니다.\")\n",
    "\n",
    "if 0:\n",
    "    print(\"0은/는 True입니다.\")\n",
    "\n",
    "if 1:\n",
    "    print(\"1은 True입니다.\")\n",
    "```"
   ]
  },
  {
   "cell_type": "code",
   "execution_count": 127,
   "metadata": {},
   "outputs": [
    {
     "name": "stdout",
     "output_type": "stream",
     "text": [
      "[1,2,3]은/는 True입니다.\n",
      "{'abc':1}은 True입니다.\n",
      "1은 True입니다.\n"
     ]
    }
   ],
   "source": [
    "if []:\n",
    "    print(\"[]은 True입니다.\")\n",
    "\n",
    "if [1, 2, 3]:\n",
    "    print(\"[1,2,3]은/는 True입니다.\")\n",
    "\n",
    "if {}:\n",
    "    print(\"{}은 True입니다.\")\n",
    "\n",
    "if {'abc': 1}:\n",
    "    print(\"{'abc':1}은 True입니다.\")\n",
    "\n",
    "if 0:\n",
    "    print(\"0은/는 True입니다.\")\n",
    "\n",
    "if 1:\n",
    "    print(\"1은 True입니다.\")"
   ]
  },
  {
   "cell_type": "markdown",
   "metadata": {},
   "source": [
    "---\n",
    "`or`연산의 결과는 앞의 값이 True이면 앞의 값을, 앞의 값이 False이면 뒤의 값을 따른다.  \n",
    "다음 코드를 실행해서 각각 a와 b에 어떤 값이 들어가는지 확인해 보자"
   ]
  },
  {
   "cell_type": "markdown",
   "metadata": {},
   "source": [
    "```python\n",
    "a = True or 1      #True   앞의 값이 True입니다.\n",
    "b = False or 0     #0      앞의 값이 False이므로 뒤의 값을 따릅니다.\n",
    "c = 0 or False     #False  앞의 값이 0이므로 False입니다. 따라서 뒤의 값인 False를 따릅니다.\n",
    "d = 1 or False     #1      앞의 값이 1이므로 True입니다.\n",
    "```"
   ]
  },
  {
   "cell_type": "markdown",
   "metadata": {},
   "source": [
    "---\n",
    "```python\n",
    "a = 1 or 10    # 1의 bool 값은 True입니다.\n",
    "b = 0 or 10    # 0의 bool 값은 False입니다.\n",
    "\n",
    "\n",
    "print(\"a:{}, b:{}\".format(a, b))\n",
    "```"
   ]
  },
  {
   "cell_type": "code",
   "execution_count": 128,
   "metadata": {},
   "outputs": [
    {
     "name": "stdout",
     "output_type": "stream",
     "text": [
      "a:1, b:10\n"
     ]
    }
   ],
   "source": [
    "a = 1 or 10    # 1의 bool 값은 True입니다.\n",
    "b = 0 or 10    # 0의 bool 값은 False입니다.\n",
    "\n",
    "\n",
    "print(\"a:{}, b:{}\".format(a, b))"
   ]
  },
  {
   "cell_type": "markdown",
   "metadata": {},
   "source": [
    "---\n",
    "# Part 14. 리스트 더 알아보기"
   ]
  },
  {
   "cell_type": "markdown",
   "metadata": {},
   "source": [
    "# List의 다양한 기능\n",
    "**List의 기능**\n",
    "* `list.index(value)`: 값을 이용하여 위치를 찾는 기능\n",
    "* `list.extend([value1, value2])`: 리스트 뒤에 값을 추가\n",
    "* `list.insert(index, value)`: 원하는 위치에 값을 추가\n",
    "* `list.sort()`: 값을 순서대로 정렬\n",
    "* `list.reverse()`: 값을 역순으로 정렬"
   ]
  },
  {
   "cell_type": "code",
   "execution_count": 138,
   "metadata": {},
   "outputs": [
    {
     "data": {
      "text/plain": [
       "2"
      ]
     },
     "execution_count": 138,
     "metadata": {},
     "output_type": "execute_result"
    }
   ],
   "source": [
    "list1 = [135, 462, 27, 2753, 234]\n",
    "list1.index(27)"
   ]
  },
  {
   "cell_type": "code",
   "execution_count": 139,
   "metadata": {},
   "outputs": [],
   "source": [
    "if 50 in list1:\n",
    "    list1.index(50)"
   ]
  },
  {
   "cell_type": "code",
   "execution_count": 140,
   "metadata": {},
   "outputs": [
    {
     "data": {
      "text/plain": [
       "[1, 2, 3, 4, 5, 6]"
      ]
     },
     "execution_count": 140,
     "metadata": {},
     "output_type": "execute_result"
    }
   ],
   "source": [
    "list2 = [1, 2, 3] + [4, 5, 6]\n",
    "list2"
   ]
  },
  {
   "cell_type": "code",
   "execution_count": 141,
   "metadata": {},
   "outputs": [
    {
     "name": "stdout",
     "output_type": "stream",
     "text": [
      "[135, 462, 27, 2753, 234]\n",
      "[135, 462, 27, 2753, 234, 9, 10, 11]\n"
     ]
    }
   ],
   "source": [
    "print(list1)\n",
    "list1.extend([9, 10, 11])\n",
    "print(list1)"
   ]
  },
  {
   "cell_type": "code",
   "execution_count": 142,
   "metadata": {},
   "outputs": [
    {
     "name": "stdout",
     "output_type": "stream",
     "text": [
      "[135, 462, 999, 27, 2753, 234, 9, 10, 11]\n"
     ]
    }
   ],
   "source": [
    "list1.insert(2, 999)\n",
    "print(list1)"
   ]
  },
  {
   "cell_type": "code",
   "execution_count": 143,
   "metadata": {},
   "outputs": [
    {
     "name": "stdout",
     "output_type": "stream",
     "text": [
      "[135, 462, 999, 27, 2753, 234, 9, 10, 888, 11]\n"
     ]
    }
   ],
   "source": [
    "list1.insert(-1, 888) # index에서 -1은 뒤에서 첫번째\n",
    "print(list1)"
   ]
  },
  {
   "cell_type": "code",
   "execution_count": 144,
   "metadata": {},
   "outputs": [
    {
     "data": {
      "text/plain": [
       "[9, 10, 11, 27, 135, 234, 462, 888, 999, 2753]"
      ]
     },
     "execution_count": 144,
     "metadata": {},
     "output_type": "execute_result"
    }
   ],
   "source": [
    "list1.sort()\n",
    "list1"
   ]
  },
  {
   "cell_type": "code",
   "execution_count": 145,
   "metadata": {},
   "outputs": [
    {
     "data": {
      "text/plain": [
       "[2753, 999, 888, 462, 234, 135, 27, 11, 10, 9]"
      ]
     },
     "execution_count": 145,
     "metadata": {},
     "output_type": "execute_result"
    }
   ],
   "source": [
    "list1.reverse()\n",
    "list1"
   ]
  },
  {
   "cell_type": "markdown",
   "metadata": {},
   "source": [
    "---\n",
    "`safe_index`함수는 mylist와 value를 매개변수로 받아, mylist에서 value의 인덱스를 return하는 함수입니다. `safe_index`함수를 완성해 보세요. 단, value가 my_list안에 없으면 None을 리턴해야 된다.\n"
   ]
  },
  {
   "cell_type": "markdown",
   "metadata": {},
   "source": [
    "list에서 값을 이용하여 위치를 찾으려면 index()를 이용  \n",
    "```python\n",
    "list1 = [135, 462, 27, 2753, 234]\n",
    "print(list1.index(27)) # 2가 출력된다.\n",
    "```"
   ]
  },
  {
   "cell_type": "markdown",
   "metadata": {},
   "source": [
    "---\n",
    "```python\n",
    "def safe_index(my_list, value):\n",
    "    # 함수를 완성하세요\n",
    "    if xxx:\n",
    "        return xxx\n",
    "    else:\n",
    "        return xxx\n",
    "```"
   ]
  },
  {
   "cell_type": "code",
   "execution_count": 149,
   "metadata": {},
   "outputs": [
    {
     "name": "stdout",
     "output_type": "stream",
     "text": [
      "4\n",
      "None\n"
     ]
    }
   ],
   "source": [
    "def safe_index(my_list, value):\n",
    "    if value in my_list:\n",
    "        return my_list.index(value)\n",
    "    else:\n",
    "        return None\n",
    "    \n",
    "print(safe_index([1, 2, 3, 4, 5], 5))\n",
    "print(safe_index([1, 2, 3], 5))"
   ]
  },
  {
   "cell_type": "markdown",
   "metadata": {},
   "source": [
    "---\n",
    "`insert()`, `sort()`, `reverser()`를 사용해서 다음 코드에 주석으로 적힌 내용을 만들어 보세요."
   ]
  },
  {
   "cell_type": "markdown",
   "metadata": {},
   "source": [
    "* `list.insert(index, value)`: 원하는 위치에 값을 추가\n",
    "```python\n",
    "list = [1, 2, 3]\n",
    "list.insert(3, 4)\n",
    "# > list = [1, 2, 3, 4]로 4가 추가\n",
    "```\n",
    "* `list.sort()`: 값을 순서대로 정렬\n",
    "```pytyhon\n",
    "list = [3, 5, 6, 4, 2, 1]\n",
    "list.sort()\n",
    "# > list = [1, 2, 3, 4, 5, 6] 으로 정렬이 된다.\n",
    "```\n",
    "* `list.reverse()`: 값을 역순으로 정렬\n",
    "```python\n",
    "list = [3, 5, 6, 4, 2, 1]\n",
    "list.reverse()\n",
    "# > list = [1, 2, 4, 6, 5, 3]\n",
    "```\n"
   ]
  },
  {
   "cell_type": "markdown",
   "metadata": {},
   "source": [
    "---\n",
    "```python\n",
    "list1 = [1, 2, 3, 4]\n",
    "\n",
    "# 아래줄에서 list1의 1번째 자리에 8을 넣고 원래 있던 값은 오른쪽으로 밀어 보세요.\n",
    "\n",
    "\n",
    "print(\"첫 번째 자리에 8을 넣은 결과 : {}\".format(list1))\n",
    "# 아래줄에서 list1을 작은 수부터 큰 수로 정렬해 보세요\n",
    "\n",
    "\n",
    "print(\"list1을 작은 수부터 큰 수로 정렬한 결과 : {}\".format(list1))\n",
    "# 아래줄에서 list1을 거꾸로 만들어 보세요\n",
    "\n",
    "\n",
    "print(\"list1을 거꾸로 정렬한 결과 : {}\".format(list1))\n",
    "```"
   ]
  },
  {
   "cell_type": "code",
   "execution_count": 153,
   "metadata": {},
   "outputs": [
    {
     "name": "stdout",
     "output_type": "stream",
     "text": [
      "첫 번째 자리에 8을 넣은 결과 : [1, 8, 2, 3, 4]\n",
      "list1을 작은 수부터 큰 수로 정렬한 결과 : [1, 2, 3, 4, 8]\n",
      "list1을 거꾸로 정렬한 결과 : [8, 4, 3, 2, 1]\n"
     ]
    }
   ],
   "source": [
    "list1 = [1, 2, 3, 4]\n",
    "\n",
    "# 아래줄에서 list1의 1번째 자리에 8을 넣고 원래 있던 값은 오른쪽으로 밀어 보세요.\n",
    "list1.insert(1, 8)\n",
    "\n",
    "print(\"첫 번째 자리에 8을 넣은 결과 : {}\".format(list1))\n",
    "# 아래줄에서 list1을 작은 수부터 큰 수로 정렬해 보세요\n",
    "list1.sort()\n",
    "\n",
    "print(\"list1을 작은 수부터 큰 수로 정렬한 결과 : {}\".format(list1))\n",
    "# 아래줄에서 list1을 거꾸로 만들어 보세요\n",
    "list1.reverse()\n",
    "\n",
    "print(\"list1을 거꾸로 정렬한 결과 : {}\".format(list1))"
   ]
  },
  {
   "cell_type": "markdown",
   "metadata": {},
   "source": [
    "---\n",
    "# List와 문자열\n",
    "**List와 String**\n",
    "* 리스트와 문자열은 서로 유사하다\n",
    "* 서로 변환이 가능하다\n",
    "* `list = str.split()`: 문자열에서 리스트로\n",
    "* `\" \".join(list)`: 리스트에서 문자열로"
   ]
  },
  {
   "cell_type": "code",
   "execution_count": 155,
   "metadata": {},
   "outputs": [
    {
     "data": {
      "text/plain": [
       "1"
      ]
     },
     "execution_count": 155,
     "metadata": {},
     "output_type": "execute_result"
    }
   ],
   "source": [
    "my_list = [1, 2, 3, 4, 5, 6]\n",
    "my_list[0]"
   ]
  },
  {
   "cell_type": "code",
   "execution_count": 156,
   "metadata": {},
   "outputs": [
    {
     "data": {
      "text/plain": [
       "2"
      ]
     },
     "execution_count": 156,
     "metadata": {},
     "output_type": "execute_result"
    }
   ],
   "source": [
    "my_list[1]"
   ]
  },
  {
   "cell_type": "code",
   "execution_count": 157,
   "metadata": {},
   "outputs": [
    {
     "data": {
      "text/plain": [
       "'H'"
      ]
     },
     "execution_count": 157,
     "metadata": {},
     "output_type": "execute_result"
    }
   ],
   "source": [
    "str = 'Hello World'\n",
    "str[0]"
   ]
  },
  {
   "cell_type": "code",
   "execution_count": 158,
   "metadata": {},
   "outputs": [
    {
     "data": {
      "text/plain": [
       "'e'"
      ]
     },
     "execution_count": 158,
     "metadata": {},
     "output_type": "execute_result"
    }
   ],
   "source": [
    "str[1]"
   ]
  },
  {
   "cell_type": "code",
   "execution_count": 159,
   "metadata": {},
   "outputs": [
    {
     "data": {
      "text/plain": [
       "True"
      ]
     },
     "execution_count": 159,
     "metadata": {},
     "output_type": "execute_result"
    }
   ],
   "source": [
    "3 in my_list"
   ]
  },
  {
   "cell_type": "code",
   "execution_count": 160,
   "metadata": {},
   "outputs": [
    {
     "data": {
      "text/plain": [
       "False"
      ]
     },
     "execution_count": 160,
     "metadata": {},
     "output_type": "execute_result"
    }
   ],
   "source": [
    "9 in my_list"
   ]
  },
  {
   "cell_type": "code",
   "execution_count": 161,
   "metadata": {},
   "outputs": [
    {
     "data": {
      "text/plain": [
       "True"
      ]
     },
     "execution_count": 161,
     "metadata": {},
     "output_type": "execute_result"
    }
   ],
   "source": [
    "'H' in str"
   ]
  },
  {
   "cell_type": "code",
   "execution_count": 162,
   "metadata": {},
   "outputs": [
    {
     "data": {
      "text/plain": [
       "False"
      ]
     },
     "execution_count": 162,
     "metadata": {},
     "output_type": "execute_result"
    }
   ],
   "source": [
    "'h' in str"
   ]
  },
  {
   "cell_type": "code",
   "execution_count": 163,
   "metadata": {},
   "outputs": [
    {
     "data": {
      "text/plain": [
       "4"
      ]
     },
     "execution_count": 163,
     "metadata": {},
     "output_type": "execute_result"
    }
   ],
   "source": [
    "my_list.index(5) # 4번째 자리에 5가 있다."
   ]
  },
  {
   "cell_type": "code",
   "execution_count": 164,
   "metadata": {},
   "outputs": [
    {
     "data": {
      "text/plain": [
       "8"
      ]
     },
     "execution_count": 164,
     "metadata": {},
     "output_type": "execute_result"
    }
   ],
   "source": [
    "str.index('r')"
   ]
  },
  {
   "cell_type": "code",
   "execution_count": 195,
   "metadata": {},
   "outputs": [
    {
     "data": {
      "text/plain": [
       "['Hello', 'World는', '프로그래밍을', '배우기에', '아주', '좋은', '사이트', '입니다.']"
      ]
     },
     "execution_count": 195,
     "metadata": {},
     "output_type": "execute_result"
    }
   ],
   "source": [
    "words = 'Hello World는 프로그래밍을 배우기에 아주 좋은 사이트 입니다.'\n",
    "words_list = words.split()\n",
    "words_list\n",
    "\n",
    "# words.split() = 문자열에서 리스트로 "
   ]
  },
  {
   "cell_type": "code",
   "execution_count": 185,
   "metadata": {},
   "outputs": [
    {
     "data": {
      "text/plain": [
       "['10', '35', '27']"
      ]
     },
     "execution_count": 185,
     "metadata": {},
     "output_type": "execute_result"
    }
   ],
   "source": [
    "time_str = \"10:35:27\"\n",
    "time_list = time_str.split(\":\")\n",
    "time_list"
   ]
  },
  {
   "cell_type": "code",
   "execution_count": 186,
   "metadata": {},
   "outputs": [
    {
     "data": {
      "text/plain": [
       "'10:35:27'"
      ]
     },
     "execution_count": 186,
     "metadata": {},
     "output_type": "execute_result"
    }
   ],
   "source": [
    "# String으로 된 list를 다시 String으로 바꾸기\n",
    "\":\".join(time_list)"
   ]
  },
  {
   "cell_type": "code",
   "execution_count": 196,
   "metadata": {},
   "outputs": [
    {
     "data": {
      "text/plain": [
       "'Hello World는 프로그래밍을 배우기에 아주 좋은 사이트 입니다.'"
      ]
     },
     "execution_count": 196,
     "metadata": {},
     "output_type": "execute_result"
    }
   ],
   "source": [
    "' '.join(words_list)"
   ]
  },
  {
   "cell_type": "markdown",
   "metadata": {},
   "source": [
    "---\n",
    "다음 코드는 `\"오늘은 날씨가 흐림\"`이라는 문자열을 `\"오늘은 날씨가 맑음\"`이라는 문자열로 바꾸는 과정을 보여주고 있다. 코드의 안내를 따라 빈 부분을 작성해 보시오."
   ]
  },
  {
   "cell_type": "markdown",
   "metadata": {},
   "source": [
    "---\n",
    "```python\n",
    "str = '오늘은 날씨가 흐림'\n",
    "\n",
    "# split()을 이용해서 str을 공백으로 나눈 문자열을 words에 저장\n",
    "words = xxxx\n",
    "\n",
    "# index()를 이용해서 \"흐림\"이 words의 몇번째에 있는지 찾고,\n",
    "# position에 저장하세요.\n",
    "position = xxx\n",
    "\n",
    "# join()을 이용해서 words를 다시 문자열로 바꿔 new_str에 저장하세요.\n",
    "# words를 문자열로 바꿀때는 공백 한 칸을 기준으로 붙이면 된다.\n",
    "new_str = xxxx\n",
    "\n",
    "print(new_str)\n",
    "```"
   ]
  },
  {
   "cell_type": "code",
   "execution_count": 201,
   "metadata": {},
   "outputs": [
    {
     "name": "stdout",
     "output_type": "stream",
     "text": [
      "오늘은 날씨가 맑음\n"
     ]
    }
   ],
   "source": [
    "str = '오늘은 날씨가 흐림'\n",
    "\n",
    "words = str.split(' ')\n",
    "\n",
    "position = words.index('흐림')\n",
    "\n",
    "words[position] = '맑음'\n",
    "\n",
    "new_str = ' '.join(words)\n",
    "\n",
    "print(new_str)"
   ]
  },
  {
   "cell_type": "markdown",
   "metadata": {},
   "source": [
    "---"
   ]
  },
  {
   "cell_type": "code",
   "execution_count": 202,
   "metadata": {},
   "outputs": [
    {
     "name": "stdout",
     "output_type": "stream",
     "text": [
      "Apple Maps is coming !\n"
     ]
    }
   ],
   "source": [
    "str = \"Google Maps is coming !\"\n",
    "\n",
    "words = str.split(' ') # split()을 이용해서 str을 공백으로 나눈 문자열을 words에 저장\n",
    "position = words.index('Google')\n",
    "# index()를 이용해서 'Google'이 words의 몇 번째에 있는지 찾고,\n",
    "# position에 저장\n",
    "words[position] = 'Apple' # Words 교체\n",
    "new_str = ' '.join(words) # join()을 이용해서 words를 다시 문자열로 바꿔 new_str에 저장\n",
    "# words를 문자열로 바꿀때는 공백 한 칸을 기준으로 붙이면 된다.\n",
    "print(new_str)\n"
   ]
  },
  {
   "cell_type": "markdown",
   "metadata": {},
   "source": [
    "---\n",
    "# Slice\n",
    "**Slicing**\n",
    "* 리스트나 문자열에서 값을 여러개 가져오는 기능\n",
    "```python\n",
    "text = 'hello world'\n",
    "text = text[1:5]\n",
    "\n",
    "list = [0, 1, 2, 3, 4, 5]\n",
    "list = list[1:3]\n",
    "```\n",
    "* slice를 하면 해당하느 부분의 리스트나 문자열을 새로 만들어 준다\n",
    "* 시작과 끝부분을 얻어 오는 방법\n",
    "    * `list[2: ]`: 2번째부터 끝까지 반환\n",
    "    * `list[ :2]`: 처음부터 2번째 까지 반환\n",
    "    * `list[ : ]`: 처음부터 끝까지 전부 반환"
   ]
  },
  {
   "cell_type": "code",
   "execution_count": 203,
   "metadata": {},
   "outputs": [
    {
     "data": {
      "text/plain": [
       "' '"
      ]
     },
     "execution_count": 203,
     "metadata": {},
     "output_type": "execute_result"
    }
   ],
   "source": [
    "text = 'Hello World'\n",
    "text[5]"
   ]
  },
  {
   "cell_type": "code",
   "execution_count": 204,
   "metadata": {},
   "outputs": [
    {
     "data": {
      "text/plain": [
       "'ello'"
      ]
     },
     "execution_count": 204,
     "metadata": {},
     "output_type": "execute_result"
    }
   ],
   "source": [
    "text[1:5]"
   ]
  },
  {
   "cell_type": "code",
   "execution_count": 234,
   "metadata": {},
   "outputs": [
    {
     "name": "stdout",
     "output_type": "stream",
     "text": [
      "['일', '이']\n"
     ]
    }
   ],
   "source": [
    "list =['영', '일', '이', '삼', '사', '오']\n",
    "print(list[1:3])"
   ]
  },
  {
   "cell_type": "code",
   "execution_count": 235,
   "metadata": {},
   "outputs": [
    {
     "name": "stdout",
     "output_type": "stream",
     "text": [
      "삼\n"
     ]
    }
   ],
   "source": [
    "print(list[3])"
   ]
  },
  {
   "cell_type": "code",
   "execution_count": 236,
   "metadata": {},
   "outputs": [
    {
     "name": "stdout",
     "output_type": "stream",
     "text": [
      "['일', '이']\n"
     ]
    }
   ],
   "source": [
    "print(list[1:3])"
   ]
  },
  {
   "cell_type": "code",
   "execution_count": 237,
   "metadata": {},
   "outputs": [
    {
     "name": "stdout",
     "output_type": "stream",
     "text": [
      "['영', '일']\n"
     ]
    }
   ],
   "source": [
    "print(list[0:2])"
   ]
  },
  {
   "cell_type": "code",
   "execution_count": 238,
   "metadata": {},
   "outputs": [
    {
     "name": "stdout",
     "output_type": "stream",
     "text": [
      "['이', '삼', '사', '오']\n"
     ]
    }
   ],
   "source": [
    "print(list[2:len(list)]) # 이 부터 끝까지"
   ]
  },
  {
   "cell_type": "code",
   "execution_count": 239,
   "metadata": {},
   "outputs": [
    {
     "name": "stdout",
     "output_type": "stream",
     "text": [
      "['이', '삼', '사', '오']\n"
     ]
    }
   ],
   "source": [
    "print(list[2:])"
   ]
  },
  {
   "cell_type": "code",
   "execution_count": 240,
   "metadata": {},
   "outputs": [
    {
     "name": "stdout",
     "output_type": "stream",
     "text": [
      "['영', '일', '이', '삼', '사', '오']\n"
     ]
    }
   ],
   "source": [
    "print(list[:])"
   ]
  },
  {
   "cell_type": "code",
   "execution_count": 241,
   "metadata": {},
   "outputs": [
    {
     "name": "stdout",
     "output_type": "stream",
     "text": [
      "[31, 4632, 7235, 23, 61]\n"
     ]
    }
   ],
   "source": [
    "list1 = [31, 4632, 7235, 23, 61]\n",
    "list2 = list1[:]\n",
    "print(list1)"
   ]
  },
  {
   "cell_type": "code",
   "execution_count": 242,
   "metadata": {},
   "outputs": [
    {
     "name": "stdout",
     "output_type": "stream",
     "text": [
      "[31, 4632, 7235, 23, 61]\n"
     ]
    }
   ],
   "source": [
    "print(list2)"
   ]
  },
  {
   "cell_type": "code",
   "execution_count": 243,
   "metadata": {},
   "outputs": [
    {
     "name": "stdout",
     "output_type": "stream",
     "text": [
      "[23, 31, 61, 4632, 7235]\n"
     ]
    }
   ],
   "source": [
    "list1.sort()\n",
    "print(list1)"
   ]
  },
  {
   "cell_type": "code",
   "execution_count": 244,
   "metadata": {},
   "outputs": [
    {
     "name": "stdout",
     "output_type": "stream",
     "text": [
      "[31, 4632, 7235, 23, 61]\n"
     ]
    }
   ],
   "source": [
    "print(list2)"
   ]
  },
  {
   "cell_type": "markdown",
   "metadata": {},
   "source": [
    "---\n",
    "다음 지시를 따르도록 코드의 빈칸을 채워 보세요.\n"
   ]
  },
  {
   "cell_type": "markdown",
   "metadata": {},
   "source": [
    "---\n",
    "```python\n",
    "rainbow = ['빨', '주', '노', '초', '파', '남', '보']\n",
    "\n",
    "# red_colors가 ['빨', '주', '노']의 값을 가지도록 rainbow를 slice하세요.\n",
    "red_colors = rainbow[xxxx]\n",
    "\n",
    "# blue_colors가 ['파', '남', '보']의 값을 가지도록 rainbow를 slice하세요.\n",
    "blue_colors = rainbow[xxx]\n",
    "```"
   ]
  },
  {
   "cell_type": "code",
   "execution_count": 220,
   "metadata": {},
   "outputs": [
    {
     "name": "stdout",
     "output_type": "stream",
     "text": [
      "red_colors의 값: ['빨', '주', '노']\n",
      "blue_colors의 값: ['파', '남', '보']\n"
     ]
    }
   ],
   "source": [
    "rainbow = ['빨', '주', '노', '초', '파', '남', '보']\n",
    "\n",
    "red_colors = rainbow[0:3]\n",
    "blue_colors = rainbow[4:]\n",
    "\n",
    "print('red_colors의 값: {}'.format(red_colors))\n",
    "print('blue_colors의 값: {}'.format(blue_colors))"
   ]
  },
  {
   "cell_type": "markdown",
   "metadata": {},
   "source": [
    "---\n",
    "함수 `substring`은 문자열 str을 받아서 start부터 end이전까지에 해당하는 문자열을 return 하는 함수이다. 코드의 2번째 줄의 빈칸을 채워 `substring`함수를 완성해보세요.  \n",
    "단, slice 이용"
   ]
  },
  {
   "cell_type": "markdown",
   "metadata": {},
   "source": [
    "```python\n",
    "def substring(text, start, end):\n",
    "    return text xxxx\n",
    "\n",
    "my_text = \"Hello World\"\n",
    "between_2_5 = substring(my_text, 2, 5)\n",
    "print(between_2_5)\n",
    "```"
   ]
  },
  {
   "cell_type": "code",
   "execution_count": 221,
   "metadata": {},
   "outputs": [
    {
     "name": "stdout",
     "output_type": "stream",
     "text": [
      "llo\n"
     ]
    }
   ],
   "source": [
    "def substring(text, start, end):\n",
    "    return text[start:end]\n",
    "\n",
    "my_text = \"Hello World\"\n",
    "between_2_5 = substring(my_text, 2, 5)\n",
    "print(between_2_5)"
   ]
  },
  {
   "cell_type": "markdown",
   "metadata": {},
   "source": [
    "---\n",
    "# Slice의 step\n",
    "**step**\n",
    "* slice한 값의 범위에서 step 값을 주어 그 값만큼 건너뛰어 가져오는 기능\n",
    "* list[시작값:끝값:step]\n"
   ]
  },
  {
   "cell_type": "markdown",
   "metadata": {},
   "source": [
    "주석의 지시에 따라 코드를 완성해 보세요."
   ]
  },
  {
   "cell_type": "markdown",
   "metadata": {},
   "source": [
    "---\n",
    "```python\n",
    "list1 = list(range(20))\n",
    "\n",
    "# new_list가 5, 8, 11, 14의 값을 가지도록 list1을 slice하세요\n",
    "new_list = xxx\n",
    "print(new_list)\n",
    "\n",
    "\n",
    "# reverse_list가 17, 13, 9, 5의 값을 가지도록 list1을 slice하세요\n",
    "reverse_list = xxx\n",
    "print(reverse_list)\n",
    "```"
   ]
  },
  {
   "cell_type": "markdown",
   "metadata": {},
   "source": [
    "---"
   ]
  },
  {
   "cell_type": "code",
   "execution_count": 1,
   "metadata": {},
   "outputs": [
    {
     "name": "stdout",
     "output_type": "stream",
     "text": [
      "[5, 8, 11, 14]\n",
      "[17, 13, 9, 5]\n"
     ]
    }
   ],
   "source": [
    "myrange = list(range(20))\n",
    "\n",
    "# new_list가 5, 8, 11, 14의 값을 가지도록 list1을 slice하세요\n",
    "new_list = myrange[5:15:3]\n",
    "print(new_list)\n",
    "\n",
    "# reverse_list가 17, 13, 9, 5의 값을 가지도록 list1을 slice하세요\n",
    "reverse_list = myrange[17:4:-4]\n",
    "print(reverse_list)"
   ]
  },
  {
   "cell_type": "markdown",
   "metadata": {},
   "source": [
    "---\n",
    "# Slice로 리스트 수정하기\n",
    "**Slice 활용**\n",
    "* 삭제\n",
    "    * `del list[ :5]`: 처음부터 5번째까지 삭제\n",
    "* 수정\n",
    "    * `list[1:3] = [77, 88]`\n",
    "    * `list[1:3] = [77, 88, 99]`\n",
    "    * `list[1:4] = [8]`: 더 적은 개수로 변환"
   ]
  },
  {
   "cell_type": "code",
   "execution_count": 2,
   "metadata": {},
   "outputs": [
    {
     "name": "stdout",
     "output_type": "stream",
     "text": [
      "[0, 1, 2, 3, 4, 5, 6, 7, 8, 9]\n"
     ]
    }
   ],
   "source": [
    "numbers = [0, 1, 2, 3, 4, 5, 6, 7, 8, 9]\n",
    "numbers = list(range(10))\n",
    "print(numbers)"
   ]
  },
  {
   "cell_type": "code",
   "execution_count": 3,
   "metadata": {},
   "outputs": [
    {
     "name": "stdout",
     "output_type": "stream",
     "text": [
      "[1, 2, 3, 4, 5, 6, 7, 8, 9]\n"
     ]
    }
   ],
   "source": [
    "del numbers[0]\n",
    "print(numbers)"
   ]
  },
  {
   "cell_type": "code",
   "execution_count": 4,
   "metadata": {},
   "outputs": [
    {
     "name": "stdout",
     "output_type": "stream",
     "text": [
      "[1, 2, 3, 4, 5]\n"
     ]
    }
   ],
   "source": [
    "print(numbers[:5])"
   ]
  },
  {
   "cell_type": "code",
   "execution_count": 5,
   "metadata": {},
   "outputs": [
    {
     "name": "stdout",
     "output_type": "stream",
     "text": [
      "[6, 7, 8, 9]\n"
     ]
    }
   ],
   "source": [
    "del numbers[:5]\n",
    "print(numbers)"
   ]
  },
  {
   "cell_type": "code",
   "execution_count": 6,
   "metadata": {},
   "outputs": [
    {
     "name": "stdout",
     "output_type": "stream",
     "text": [
      "[7, 8]\n"
     ]
    }
   ],
   "source": [
    "print(numbers[1:3])"
   ]
  },
  {
   "cell_type": "code",
   "execution_count": 8,
   "metadata": {},
   "outputs": [
    {
     "name": "stdout",
     "output_type": "stream",
     "text": [
      "[6, 77, 88, 9]\n"
     ]
    }
   ],
   "source": [
    "numbers[1:3] = [77, 88]\n",
    "print(numbers)"
   ]
  },
  {
   "cell_type": "code",
   "execution_count": 9,
   "metadata": {},
   "outputs": [
    {
     "name": "stdout",
     "output_type": "stream",
     "text": [
      "[6, 77, 88, 99, 9]\n"
     ]
    }
   ],
   "source": [
    "numbers[1:3] = [77, 88, 99]\n",
    "print(numbers)"
   ]
  },
  {
   "cell_type": "code",
   "execution_count": 10,
   "metadata": {},
   "outputs": [
    {
     "name": "stdout",
     "output_type": "stream",
     "text": [
      "[77, 88, 99]\n"
     ]
    }
   ],
   "source": [
    "print(numbers[1:4])"
   ]
  },
  {
   "cell_type": "code",
   "execution_count": 11,
   "metadata": {},
   "outputs": [
    {
     "name": "stdout",
     "output_type": "stream",
     "text": [
      "[6, 8, 9]\n"
     ]
    }
   ],
   "source": [
    "numbers[1:4] = [8]\n",
    "print(numbers)"
   ]
  },
  {
   "cell_type": "markdown",
   "metadata": {},
   "source": [
    "---\n",
    "slice로 리스트를 수정하는 방법을 알아보자."
   ]
  },
  {
   "cell_type": "markdown",
   "metadata": {},
   "source": [
    "---"
   ]
  },
  {
   "cell_type": "markdown",
   "metadata": {},
   "source": [
    "```python\n",
    "list1 = [0, 1, 2, 3, 4, 5]\n",
    "# list1의 1부터 3까지를 slice를 이용해서 각각 11, 22, 33으로 바꿔보세요.\n",
    "# 바꾸고 나면 list1은 [0, 11, 22, 33, 4, 5]가 되어야 합니다.\n",
    "\n",
    "list2 = [0, 1, 2, 3, 4, 5]\n",
    "# list2의 1부터 3까지를 del과 slice를 이용해서 지워보세요.\n",
    "# 바꾸고 나면 list2는 [0, 4, 5]가 되어야 합니다.\n",
    "\n",
    "print(\"list1 : {}, list2 : {}\".format(list1, list2))\n",
    "```"
   ]
  },
  {
   "cell_type": "markdown",
   "metadata": {},
   "source": [
    "---\n"
   ]
  },
  {
   "cell_type": "code",
   "execution_count": 14,
   "metadata": {},
   "outputs": [
    {
     "name": "stdout",
     "output_type": "stream",
     "text": [
      "list1 : [0, 11, 22, 33, 4, 5], list2 : [0, 4, 5]\n"
     ]
    }
   ],
   "source": [
    "list1 = [0, 1, 2, 3, 4, 5]\n",
    "# list1의 1부터 3까지를 slice를 이용해서 각각 11, 22, 33으로 바꿔보세요.\n",
    "# 바꾸고 나면 list1은 [0, 11, 22, 33, 4, 5]가 되어야 합니다.\n",
    "list1[1:4] = [11, 22, 33]\n",
    "\n",
    "list2 = [0, 1, 2, 3, 4, 5]\n",
    "# list2의 1부터 3까지를 del과 slice를 이용해서 지워보세요.\n",
    "# 바꾸고 나면 list2는 [0, 4, 5]가 되어야 합니다.\n",
    "del list2[1:4]\n",
    "\n",
    "print(\"list1 : {}, list2 : {}\".format(list1, list2))"
   ]
  },
  {
   "cell_type": "markdown",
   "metadata": {},
   "source": [
    "---\n",
    "# Part 15. 클래스와 객체지향 프로그래밍\n"
   ]
  },
  {
   "cell_type": "markdown",
   "metadata": {},
   "source": [
    "# 자료형 다루기\n",
    "**자료형**\n",
    "* `type(a) # type(변수명)`:자료형\n",
    "* `isinstance(42, int) # isinstance(값, 자료형)`:자료형 검사"
   ]
  },
  {
   "cell_type": "code",
   "execution_count": 15,
   "metadata": {},
   "outputs": [
    {
     "data": {
      "text/plain": [
       "str"
      ]
     },
     "execution_count": 15,
     "metadata": {},
     "output_type": "execute_result"
    }
   ],
   "source": [
    "s = 'Hello World'\n",
    "type(s)\n",
    "\n",
    "# str -> string (문자열)"
   ]
  },
  {
   "cell_type": "code",
   "execution_count": 16,
   "metadata": {},
   "outputs": [
    {
     "data": {
      "text/plain": [
       "float"
      ]
     },
     "execution_count": 16,
     "metadata": {},
     "output_type": "execute_result"
    }
   ],
   "source": [
    "f = 3.141592\n",
    "type(f)\n",
    "\n",
    "# float -> floating point (부동소수점)"
   ]
  },
  {
   "cell_type": "code",
   "execution_count": 17,
   "metadata": {},
   "outputs": [
    {
     "data": {
      "text/plain": [
       "int"
      ]
     },
     "execution_count": 17,
     "metadata": {},
     "output_type": "execute_result"
    }
   ],
   "source": [
    "i = 42\n",
    "type(i)\n",
    "\n",
    "# int -> integer (정수)"
   ]
  },
  {
   "cell_type": "code",
   "execution_count": 18,
   "metadata": {},
   "outputs": [
    {
     "data": {
      "text/plain": [
       "float"
      ]
     },
     "execution_count": 18,
     "metadata": {},
     "output_type": "execute_result"
    }
   ],
   "source": [
    "type(42.0)\n",
    "\n",
    "# 정수와 소수는 다른 자료형을 가지고 있다."
   ]
  },
  {
   "cell_type": "code",
   "execution_count": 19,
   "metadata": {},
   "outputs": [
    {
     "data": {
      "text/plain": [
       "True"
      ]
     },
     "execution_count": 19,
     "metadata": {},
     "output_type": "execute_result"
    }
   ],
   "source": [
    "isinstance(42, int)\n",
    "\n",
    "# 42가 int인지 확인"
   ]
  },
  {
   "cell_type": "code",
   "execution_count": 20,
   "metadata": {},
   "outputs": [
    {
     "data": {
      "text/plain": [
       "False"
      ]
     },
     "execution_count": 20,
     "metadata": {},
     "output_type": "execute_result"
    }
   ],
   "source": [
    "isinstance(42, float)\n",
    "\n",
    "# 42는 float가 아니다 "
   ]
  },
  {
   "cell_type": "markdown",
   "metadata": {},
   "source": [
    "----"
   ]
  },
  {
   "cell_type": "markdown",
   "metadata": {},
   "source": [
    "자료형을 확인하는 방법에 대해 알아보자."
   ]
  },
  {
   "cell_type": "markdown",
   "metadata": {},
   "source": [
    "---"
   ]
  },
  {
   "cell_type": "markdown",
   "metadata": {},
   "source": [
    "```python\n",
    "my_list = [1, 2, 3]\n",
    "my_dict = {'풀' :800, '색연필' : 3000}\n",
    "my_tuple = (1, 2, 3)\n",
    "number = 10\n",
    "real_number = 3.141592\n",
    "\n",
    "print(type(my_list))\n",
    "print(type(my_dict))\n",
    "print(type(my_tuple))\n",
    "print(type(number))\n",
    "print(type(real_number))\n",
    "```"
   ]
  },
  {
   "cell_type": "code",
   "execution_count": 22,
   "metadata": {},
   "outputs": [
    {
     "name": "stdout",
     "output_type": "stream",
     "text": [
      "<class 'list'>\n",
      "<class 'dict'>\n",
      "<class 'tuple'>\n",
      "<class 'int'>\n",
      "<class 'float'>\n"
     ]
    }
   ],
   "source": [
    "my_list = [1, 2, 3]\n",
    "my_dict = {'풀' :800, '색연필' : 3000}\n",
    "my_tuple = (1, 2, 3)\n",
    "number = 10\n",
    "real_number = 3.141592\n",
    "\n",
    "print(type(my_list))\n",
    "print(type(my_dict))\n",
    "print(type(my_tuple))\n",
    "print(type(number))\n",
    "print(type(real_number))"
   ]
  },
  {
   "cell_type": "markdown",
   "metadata": {},
   "source": [
    "---\n",
    "# 인스턴스 이해\n",
    "**클래스**\n",
    "* 함수나 변수들을 모아 놓은 집합체\n",
    "\n",
    "**인스턴스**\n",
    "* 클래스에 의해 생성된 객체\n",
    "* 인스턴스 각자 자신의 값을 가지고 있다"
   ]
  },
  {
   "cell_type": "code",
   "execution_count": 7,
   "metadata": {},
   "outputs": [
    {
     "name": "stdout",
     "output_type": "stream",
     "text": [
      "<class 'list'>\n"
     ]
    }
   ],
   "source": [
    "number1 = []\n",
    "print(type(number1))"
   ]
  },
  {
   "cell_type": "code",
   "execution_count": 1,
   "metadata": {},
   "outputs": [
    {
     "name": "stdout",
     "output_type": "stream",
     "text": [
      "<class 'list'>\n"
     ]
    }
   ],
   "source": [
    "number2 = list(range(10))\n",
    "print(type(number2))"
   ]
  },
  {
   "cell_type": "code",
   "execution_count": 4,
   "metadata": {},
   "outputs": [
    {
     "name": "stdout",
     "output_type": "stream",
     "text": [
      "['h', 'e', 'l', 'l', 'o']\n",
      "<class 'list'>\n"
     ]
    }
   ],
   "source": [
    "chracters = list('hello')\n",
    "print(chracters)\n",
    "print(type(chracters))"
   ]
  },
  {
   "cell_type": "code",
   "execution_count": 8,
   "metadata": {},
   "outputs": [
    {
     "data": {
      "text/plain": [
       "True"
      ]
     },
     "execution_count": 8,
     "metadata": {},
     "output_type": "execute_result"
    }
   ],
   "source": [
    "isinstance(number1, list)"
   ]
  },
  {
   "cell_type": "markdown",
   "metadata": {},
   "source": [
    "------\n",
    "list1과 list2는 같은 값을 가지는 리스트이다. 코드의 4번째줄에 있는것과 같이 `is`연산을 하면 둘이 같은 인스턴스인지를 알아볼 수 있고, 7번째줄에 있는 `==`연산을 하면 둘이 같은 값을 가지는지 알아볼 수 있다. 다음을 실행해서 나오는 출력을 확인하고 `is`연산과 `==`연산의 차이를 확인해 보세요."
   ]
  },
  {
   "cell_type": "markdown",
   "metadata": {},
   "source": [
    "---\n",
    "```python\n",
    "list1 = [1, 2, 3]\n",
    "list2 = [1, 2, 3]\n",
    "\n",
    "if list1 is list1:\n",
    "    print(\"당연히 list1과 list1은 같은 인스턴스입니다.\")\n",
    "\n",
    "if list1 == list2:\n",
    "    print(\"list1과 list2의 값은 같습니다.\")\n",
    "    if list1 is list2:\n",
    "        print(\"그리고 list1과 list2는 같은 인스턴스입니다.\")\n",
    "    else:\n",
    "        print(\"하지만 list1과 list2는 다른 인스턴스입니다.\")\n",
    "```"
   ]
  },
  {
   "cell_type": "markdown",
   "metadata": {},
   "source": [
    "---"
   ]
  },
  {
   "cell_type": "markdown",
   "metadata": {},
   "source": [
    "```python\n",
    "list1 = list(\"hello\")\n",
    "list2 = list(\"hello\")\n",
    "\n",
    "isinstance(list1, list)      #True\n",
    "isinstance(list2, list)      #True\n",
    "\n",
    "print(list1 == list2)        #True     list1과 list2는 같은 값을 가집니다.\n",
    "print(list1 is list2)        #False    list1과 list2는 다른 인스턴스입니다.\n",
    "```"
   ]
  },
  {
   "cell_type": "markdown",
   "metadata": {},
   "source": [
    "----"
   ]
  },
  {
   "cell_type": "code",
   "execution_count": 9,
   "metadata": {},
   "outputs": [
    {
     "name": "stdout",
     "output_type": "stream",
     "text": [
      "당연히 list1과 list1은 같은 인스턴스입니다.\n",
      "list1과 list2의 값은 같습니다.\n",
      "하지만 list1과 list2는 다른 인스턴스입니다.\n"
     ]
    }
   ],
   "source": [
    "list1 = [1, 2, 3]\n",
    "list2 = [1, 2, 3]\n",
    "\n",
    "if list1 is list1:\n",
    "    print(\"당연히 list1과 list1은 같은 인스턴스입니다.\")\n",
    "\n",
    "if list1 == list2:\n",
    "    print(\"list1과 list2의 값은 같습니다.\")\n",
    "    if list1 is list2:\n",
    "        print(\"그리고 list1과 list2는 같은 인스턴스입니다.\")\n",
    "    else:\n",
    "        print(\"하지만 list1과 list2는 다른 인스턴스입니다.\")"
   ]
  },
  {
   "cell_type": "markdown",
   "metadata": {},
   "source": [
    "---\n",
    "다음 코드는 `list1`과 `list2`가 모두 list클래스의 인스턴스인지를 검사합니다. 코드의 빈칸을 채워넣어 정상 동작하도록 만들어 보세요."
   ]
  },
  {
   "cell_type": "markdown",
   "metadata": {},
   "source": [
    "---"
   ]
  },
  {
   "cell_type": "markdown",
   "metadata": {},
   "source": [
    "```python\n",
    "list1 = list(\"hello\")\n",
    "list2 = list(\"hello\")\n",
    "\n",
    "isinstance(list1, list)      #True\n",
    "isinstance(list2, list)      #True\n",
    "```"
   ]
  },
  {
   "cell_type": "markdown",
   "metadata": {},
   "source": [
    "----"
   ]
  },
  {
   "cell_type": "markdown",
   "metadata": {},
   "source": [
    "```python\n",
    "list1 = list(range(10))\n",
    "list2 = [1, 2, 3]\n",
    "\n",
    "if isinstance(  , list) and isinstance(  , list):\n",
    "    print(\"list1과 list2는 둘 다 list클래스 입니다.\")\n",
    "```"
   ]
  },
  {
   "cell_type": "code",
   "execution_count": 10,
   "metadata": {},
   "outputs": [
    {
     "name": "stdout",
     "output_type": "stream",
     "text": [
      "list1과 list2는 둘 다 list클래스 입니다.\n"
     ]
    }
   ],
   "source": [
    "list1 = list(range(10))\n",
    "list2 = [1, 2, 3]\n",
    "\n",
    "if isinstance(list1, list) and isinstance(list2, list):\n",
    "    print('list1과 list2는 둘 다 list클래스 입니다.')"
   ]
  },
  {
   "cell_type": "markdown",
   "metadata": {},
   "source": [
    "---\n",
    "# 클래스 만들기\n",
    "**클래스 선언**\n",
    "```python\n",
    "class Human():\n",
    "    '''사람'''\n",
    "```\n",
    "\n",
    "**인스턴스 선언**\n",
    "```python\n",
    "person1 = Human()\n",
    "person2 = Human()\n",
    "```\n",
    "* 클래스와 인스턴스를 이용하면 데이터와 코드를 사람이 이해하기 쉽게 포장할 수 있다."
   ]
  },
  {
   "cell_type": "code",
   "execution_count": 11,
   "metadata": {},
   "outputs": [],
   "source": [
    "class Human():\n",
    "    '''사람'''\n",
    "    \n",
    "person1 = Human()\n",
    "person2 = Human()"
   ]
  },
  {
   "cell_type": "code",
   "execution_count": 12,
   "metadata": {},
   "outputs": [
    {
     "name": "stdout",
     "output_type": "stream",
     "text": [
      "Korean\n",
      "Japanese\n"
     ]
    }
   ],
   "source": [
    "person1.language = 'Korean'\n",
    "person2.language = 'Japanese'\n",
    "\n",
    "print(person1.language)\n",
    "print(person2.language)\n"
   ]
  },
  {
   "cell_type": "code",
   "execution_count": 14,
   "metadata": {},
   "outputs": [],
   "source": [
    "person1.name = '서울시민'\n",
    "person2.name = '인도인'\n",
    "\n",
    "# 클래스와 인스턴스는 코드를 만드는데 꼭 필요하지 않은 인위적인 도구이다.\n",
    "# 클래스와 인스턴스를 이용하면 사람이 이해하기 쉽게 포장이 가능"
   ]
  },
  {
   "cell_type": "code",
   "execution_count": 15,
   "metadata": {},
   "outputs": [
    {
     "name": "stdout",
     "output_type": "stream",
     "text": [
      "서울시민\n",
      "인도인\n"
     ]
    }
   ],
   "source": [
    "print(person1.name)\n",
    "print(person2.name)"
   ]
  },
  {
   "cell_type": "code",
   "execution_count": 20,
   "metadata": {},
   "outputs": [
    {
     "name": "stdout",
     "output_type": "stream",
     "text": [
      "서울시민이 Korean로 말을 합니다.\n",
      "인도인이 Japanese로 말을 합니다.\n"
     ]
    }
   ],
   "source": [
    "def speak(person):\n",
    "    print('{}이 {}로 말을 합니다.'.format(person.name, person.language))\n",
    "    \n",
    "    \n",
    "Human.speak = speak\n",
    "# speak(person1)\n",
    "# speak(person2)\n",
    "\n",
    "person1.speak()\n",
    "person2.speak()"
   ]
  },
  {
   "cell_type": "markdown",
   "metadata": {},
   "source": [
    "---\n",
    "다음 코드는 클래스 `car`의 인스턴스로 `taxi`를 만들고 있습니다.`taxi.name`을 \"택시\"라고 저장해 보세요."
   ]
  },
  {
   "cell_type": "markdown",
   "metadata": {},
   "source": [
    "---\n",
    "```python\n",
    "class Human():\n",
    "    '''사람'''\n",
    "\n",
    "person1 = Human()\n",
    "person2 = Human()\n",
    "\n",
    "person1.language = '한국어'\n",
    "person2.language = 'English'\n",
    "```"
   ]
  },
  {
   "cell_type": "markdown",
   "metadata": {},
   "source": [
    "----"
   ]
  },
  {
   "cell_type": "markdown",
   "metadata": {},
   "source": [
    "```python\n",
    "class Car():\n",
    "    '''자동차'''\n",
    "\n",
    "taxi = Car()\n",
    "\n",
    "# taxi.name에 \"택시\"라는 값을 저장하세요.\n",
    "```\n",
    "\n"
   ]
  },
  {
   "cell_type": "code",
   "execution_count": 27,
   "metadata": {},
   "outputs": [],
   "source": [
    "class Car():\n",
    "    '''자동차'''\n",
    "    \n",
    "taxi = Car()\n",
    "\n",
    "# taxi.name에 \"택시\"라는 값을 저장하세요\n",
    "taxi.name = '택시'"
   ]
  },
  {
   "cell_type": "markdown",
   "metadata": {},
   "source": [
    "---\n",
    "# 모델링\n",
    "**모델링(modeling)**\n",
    "* 클래스로 현실의 개념을 표현하는 것"
   ]
  },
  {
   "cell_type": "code",
   "execution_count": 74,
   "metadata": {},
   "outputs": [
    {
     "name": "stdout",
     "output_type": "stream",
     "text": [
      "철수가 걸어서 60.4kg이 되었습니다.\n",
      "철수가 먹어서 60.5kg이 되었습니다.\n",
      "철수가 걸어서 60.4kg이 되었습니다.\n"
     ]
    }
   ],
   "source": [
    "# 사람은 먹으면 살이 찌고 걸으면 살이 빠지는 존재 = 클래스로\n",
    "class Human():\n",
    "    '''인간'''\n",
    "\n",
    "# person = Human()\n",
    "# person.name = '철수'\n",
    "# person.weight = 60.5\n",
    "\n",
    "def create_human(name, weight):\n",
    "    person = Human() # 인스턴스 생성\n",
    "    person.name = name # 매개변수로\n",
    "    person.weight = weight # 매개변수로\n",
    "    return person\n",
    "\n",
    "\n",
    "Human.create = create_human # create_human = 만들어내는 함수가 Human class에 들어있다 \n",
    "person = Human.create('철수', 60.5)\n",
    "\n",
    "def eat(person):\n",
    "    person.weight += 0.1\n",
    "    print(\"{}가 먹어서 {}kg이 되었습니다.\".format(person.name, person.weight))\n",
    "    \n",
    "def walk(person):\n",
    "    person.weight -= 0.1\n",
    "    print(\"{}가 걸어서 {}kg이 되었습니다.\".format(person.name, person.weight))\n",
    "    \n",
    "Human.eat = eat\n",
    "Human.walk = walk\n",
    "\n",
    "person.walk()\n",
    "person.eat()\n",
    "person.walk()"
   ]
  },
  {
   "cell_type": "markdown",
   "metadata": {},
   "source": [
    "---\n",
    "# 메소드 이해하기\n",
    "**메소드(Methodz)**\n",
    "* 메소드는 함수와 비슷하다\n",
    "* 클래스에 묶여서 클래스의 인스턴스와 관계되는 일을 하는 함수\n",
    "\n",
    "**클래스 내부에 함수를 포함시킨 예**\n",
    "```python\n",
    "class Human( ):\n",
    "    '''인간'''\n",
    "    def create( name, weight ): # 다음 강의에서 자세히 설명\n",
    "        person = Human()\n",
    "        person.name = name\n",
    "        person.weight = weight\n",
    "        return person\n",
    "\n",
    "    def eat( self ):\n",
    "        self.weight += 0.1\n",
    "        print(\"{}가 먹어서 {}kg이 되었습니다\".format(self.name, self.weight))\n",
    "\n",
    "    def walk( self ):\n",
    "        self.weight -= 0.1\n",
    "        print(\"{}가 걸어서 {}kg이 되었습니다\".format(self.name, self.weight))\n",
    "\n",
    "person = Human.create(\"철수\", 60.5)\n",
    "person.eat()\n",
    "```\n",
    "**self**\n",
    "* 메소드의 첫번째 인자\n",
    "* 인스턴스의 매개변수를 전달 할 때는 self 매개변수는 생략하고 전달"
   ]
  },
  {
   "cell_type": "code",
   "execution_count": 30,
   "metadata": {},
   "outputs": [
    {
     "name": "stdout",
     "output_type": "stream",
     "text": [
      "철수가 걸어서 60.4kg이 되었습니다.\n",
      "철수가 먹어서 60.5kg이 되었습니다.\n",
      "철수가 걸어서 60.4kg이 되었습니다.\n"
     ]
    }
   ],
   "source": [
    "class Human():\n",
    "    '''인간'''\n",
    "\n",
    "# person = Human()\n",
    "# person.name = '철수'\n",
    "# person.weight = 60.5\n",
    "\n",
    "def create_human(name, weight):\n",
    "    person = Human() # 인스턴스 생성\n",
    "    person.name = name # 매개변수로\n",
    "    person.weight = weight # 매개변수로\n",
    "    return person\n",
    "\n",
    "\n",
    "Human.create = create_human # create_human = 만들어내는 함수가 Human class에 들어있다 \n",
    "person = Human.create('철수', 60.5)\n",
    "\n",
    "def eat(person):\n",
    "    person.weight += 0.1\n",
    "    print(\"{}가 먹어서 {}kg이 되었습니다.\".format(person.name, person.weight))\n",
    "    \n",
    "def walk(person):\n",
    "    person.weight -= 0.1\n",
    "    print(\"{}가 걸어서 {}kg이 되었습니다.\".format(person.name, person.weight))\n",
    "    \n",
    "Human.eat = eat\n",
    "Human.walk = walk\n",
    "\n",
    "person.walk() # 메소드(Method)\n",
    "person.eat()  # 메소드(Method)\n",
    "person.walk() # 메소드(Method)"
   ]
  },
  {
   "cell_type": "markdown",
   "metadata": {},
   "source": [
    "----\n",
    "taxi는 `car`클래스의 인스턴스로 \"택시\"라는 이름을 가지고 있습니다. `taxi.run()`을 호출 할 수 있도록 `car`클래스 밖에 정의 되어 있는 run함수를 클래스 안으로 가져오세요. 가져온 다음에는 run의 매개변수인 car를 self로 변경하세요."
   ]
  },
  {
   "cell_type": "markdown",
   "metadata": {},
   "source": [
    "---\n",
    "메소드는 클래스에 포함되어 있는 함수를 가리킵니다.\n",
    "함수를 클래스 안으로 가져오려면 그 함수를 클래스 안에 넣어 들여쓰고, 메소드의 첫 번째 인자를 self로 변경해야 합니다."
   ]
  },
  {
   "cell_type": "markdown",
   "metadata": {},
   "source": [
    "```python\n",
    "class Human( ):\n",
    "    '''인간'''\n",
    "    def create( name, weight ): # 다음 강의에서 자세히 설명\n",
    "        person = Human()\n",
    "        person.name = name\n",
    "        person.weight = weight\n",
    "        return person\n",
    "\n",
    "    def eat( self ):\n",
    "        self.weight += 0.1\n",
    "        print(\"{}가 먹어서 {}kg이 되었습니다\".format(self.name, self.weight))\n",
    "```"
   ]
  },
  {
   "cell_type": "markdown",
   "metadata": {},
   "source": [
    "---\n"
   ]
  },
  {
   "cell_type": "code",
   "execution_count": 72,
   "metadata": {},
   "outputs": [
    {
     "name": "stdout",
     "output_type": "stream",
     "text": [
      "택시가 달립니다.\n"
     ]
    }
   ],
   "source": [
    "class Car():\n",
    "    '''자동차'''\n",
    "    def run(self):\n",
    "        print(\"{}가 달립니다.\".format(self.name))\n",
    "\n",
    "taxi = Car()\n",
    "taxi.name = \"택시\"\n",
    "taxi.run()"
   ]
  },
  {
   "cell_type": "markdown",
   "metadata": {},
   "source": [
    "---"
   ]
  },
  {
   "cell_type": "markdown",
   "metadata": {},
   "source": [
    "# 특수한 메소드\n",
    "**초기화 함수**\n",
    "* `__init__`: 인스턴스를 만들 때 실행되는 함수\n",
    "\n",
    "**문자열화 함수**\n",
    "* `__str__`: 인스턴스 자체를 출력할 때의 형식을 지정해주는 함수\n",
    "\n",
    "```python\n",
    "class Human():\n",
    "    '''인간'''\n",
    "    def __init__(self, name, weight):\n",
    "        '''초기화 함수'''\n",
    "        self.name = name\n",
    "        self.wieght = weight\n",
    "        \n",
    "    def __str__(self):\n",
    "        '''문자열화 함수'''\n",
    "        return \"{} (몸무게 {}kg}\".format(self.name, self.weight)\n",
    "    \n",
    "person = Human(\"사람\", 60.5) # 초기화 함수 사용\n",
    "print(person) # 문자열화 함수 사용\n",
    "```"
   ]
  },
  {
   "cell_type": "code",
   "execution_count": 76,
   "metadata": {},
   "outputs": [
    {
     "name": "stdout",
     "output_type": "stream",
     "text": [
      "사람 (몸무게 60.5kg)\n"
     ]
    }
   ],
   "source": [
    "class Human():\n",
    "    '''인간'''\n",
    "    def __init__(self, name, weight):\n",
    "        '''초기화 함수'''\n",
    "        self.name = name\n",
    "        self.weight = weight\n",
    "        \n",
    "    def __str__(self):\n",
    "        '''문자열화 함수'''\n",
    "        return \"{} (몸무게 {}kg)\".format(self.name, self.weight)\n",
    "    \n",
    "person = Human(\"사람\", 60.5) # 초기화 함수 사용\n",
    "print(person) # 문자열화 함수 사용\n",
    "\n",
    "# __init__ 함수 : 인스턴스를 만드는 순간부터 자동으로 호출이 되는 함수\n",
    "# __ __ : 파이썬에서 특별한 메소드라는 표시 "
   ]
  },
  {
   "cell_type": "markdown",
   "metadata": {},
   "source": [
    "----\n",
    "다음 코드는 완성된 `Human` 클래스 입니다.  \n",
    "19번째 줄에서 person을 `Human`클래스의 인스턴스로 만들고, person이 2번 걷고  \n",
    "1번 먹도록 만들어 보세요."
   ]
  },
  {
   "cell_type": "markdown",
   "metadata": {},
   "source": [
    "```python\n",
    "class Human():\n",
    "    '''인간'''\n",
    "    def __init__(self, name, weight):\n",
    "        '''초기화 함수'''\n",
    "        self.name = name\n",
    "        self.weight = weight\n",
    "        \n",
    "    def __str__(self):\n",
    "        '''문자열화 함수'''\n",
    "        return \"{} (몸무게 {}kg)\".format(self.name, self.weight)\n",
    "    \n",
    "person = Human(\"사람\", 60.5) # 초기화 함수 사용\n",
    "pritn(person) # 문자열화 함수 사용\n",
    "```"
   ]
  },
  {
   "cell_type": "markdown",
   "metadata": {},
   "source": [
    "위 예에서의 초기화 함수 `__init__`은 매개변수를 받을 수 있게 정의되어 있습니다.  \n",
    "이 `__init__`함수에 매개변수를 넘겨주는 방법은 `Human`의 인스턴스를 만들 때 괄호 안에  \n",
    "매개변수의 값을 넣어주는 것입니다."
   ]
  },
  {
   "cell_type": "markdown",
   "metadata": {},
   "source": [
    "---"
   ]
  },
  {
   "cell_type": "markdown",
   "metadata": {},
   "source": [
    "```python\n",
    "class Human():\n",
    "    def __init__(self, name, weight):\n",
    "        self.name = name\n",
    "        self.weight = weight\n",
    "        \n",
    "    def __str__(self):\n",
    "        return \"{} (몸무게 {}kg)\".format(self.name, self.weight)\n",
    "    \n",
    "    def eat(self):\n",
    "        self.weight += 0.1\n",
    "        print('{}가 먹어서 {}kg이 되었습니다.'.format(self.name, self.weight))\n",
    "        \n",
    "        \n",
    "    def walk(self):\n",
    "        self.weight -= 0.1\n",
    "        print('{}가 걸어서 {}kg이 되었습니다.'.format(self.name, self.weight))\n",
    "        \n",
    "# 아래에서 person을 이름과 몸무게를 가지는 Human클래스의 인스턴스로 만들어보세요.\n",
    "person =\n",
    "\n",
    "print(person)\n",
    "```"
   ]
  },
  {
   "cell_type": "code",
   "execution_count": 81,
   "metadata": {},
   "outputs": [
    {
     "name": "stdout",
     "output_type": "stream",
     "text": [
      "쳘수가 걸어서 59.9kg이 되었습니다.\n",
      "쳘수가 먹어서 60.0kg이 되었습니다.\n",
      "쳘수가 걸어서 59.9kg이 되었습니다.\n"
     ]
    }
   ],
   "source": [
    "class Human():\n",
    "    def __init__(self, name, weight):\n",
    "        self.name = name\n",
    "        self.weight = weight\n",
    "\n",
    "    def __str__(self):\n",
    "        return \"{} (몸무게 {}kg)\".format(self.name, self.weight)\n",
    "\n",
    "    def eat(self):\n",
    "        self.weight += 0.1\n",
    "        print('{}가 먹어서 {}kg이 되었습니다.'.format(self.name, self.weight))\n",
    "\n",
    "\n",
    "    def walk(self):\n",
    "        self.weight -= 0.1\n",
    "        print('{}가 걸어서 {}kg이 되었습니다.'.format(self.name, self.weight))\n",
    "        \n",
    "# 아래에서 person을 이름과 몸무게를 가지는 Human클래스의 인스턴스로 만들어보세요.\n",
    "person = Human(\"쳘수\", 60)\n",
    "\n",
    "person.walk()\n",
    "person.eat()\n",
    "person.walk()"
   ]
  },
  {
   "cell_type": "markdown",
   "metadata": {},
   "source": [
    "---\n",
    "# Part 16. 상속과 다형성"
   ]
  },
  {
   "cell_type": "markdown",
   "metadata": {},
   "source": [
    "# 상속\n",
    "**상속(Inheritance)**\n",
    "* 상속하는 클래스를 부모 클래스\n",
    "* 상속받는 클래스를 자식 클래스\n",
    "* 자식 클래스가 부모 클래스의 내용을 가져다 쓸 수 있는 것"
   ]
  },
  {
   "cell_type": "markdown",
   "metadata": {},
   "source": [
    "```python\n",
    "class Animal():\n",
    "    def walk(self):\n",
    "        print('걷는다')\n",
    "        \n",
    "    def eat(self):\n",
    "        print('먹는다')\n",
    "        \n",
    "class Human(Animal):\n",
    "    def wave(self):\n",
    "        print('손을 흔든다')\n",
    "        \n",
    "class Dog(Animal):\n",
    "    def wag(self):\n",
    "        print('꼬리를 흔든다')\n",
    "```"
   ]
  },
  {
   "cell_type": "code",
   "execution_count": 84,
   "metadata": {},
   "outputs": [
    {
     "name": "stdout",
     "output_type": "stream",
     "text": [
      "걷는다\n",
      "먹는다\n",
      "손을 흔든다\n",
      "걷는다\n",
      "먹는다\n",
      "꼬리를 흔든다\n"
     ]
    }
   ],
   "source": [
    "class Animal():\n",
    "   \n",
    "    def walk(self):\n",
    "        print('걷는다')\n",
    "        \n",
    "    def eat(self):\n",
    "        print('먹는다')\n",
    "\n",
    "class Human(Animal):\n",
    "    \n",
    "        \n",
    "    def wave(self):\n",
    "        print('손을 흔든다')\n",
    "        \n",
    "class Dog(Animal):\n",
    "    \n",
    "        \n",
    "    def wag(self):\n",
    "        print('꼬리를 흔든다')\n",
    "        \n",
    "person = Human()\n",
    "person.walk()\n",
    "person.eat()\n",
    "person.wave()\n",
    "\n",
    "dog = Dog()\n",
    "dog.walk()\n",
    "dog.eat()\n",
    "dog.wag()\n",
    "\n",
    "# 겹치는 개념을 따로 프레스로 만드는건 비효율적이다\n",
    "# 상속 : 클래스에 가로안에 다른 클래스를 넣는 것\n",
    "# Animal 클래스가 Human 클래스의 부모 클래스가 됨\n",
    "# Human는 자식 클래스가 됨 (자식 클래스는 부모가 갖고 있던 method를 그대로 사용 가능)\n",
    "# Human 클래스에서 wave라는 method와 Dog 클래스에서 wag라는 메소드를 따로 만들어 줬다 "
   ]
  },
  {
   "cell_type": "markdown",
   "metadata": {},
   "source": [
    "---\n",
    "`Car` 클래스를 상속받는 `Truck`이라는 클래스를 만들고, load라는 메소드를 만들어보세요.  \n",
    "load메소드에서는 \"짐을 실었습니다.\"라고 출력하면 됩니다."
   ]
  },
  {
   "cell_type": "markdown",
   "metadata": {},
   "source": [
    "---"
   ]
  },
  {
   "cell_type": "markdown",
   "metadata": {},
   "source": [
    "`Car`클래스를 부모 클래스, `Truck`클래스를 자식 클래스로 만들어야 한다. 예를 들어,\n",
    "```python\n",
    "class Animal():\n",
    "    def walk(self):\n",
    "        print('걷는다')\n",
    "        \n",
    "class Human():\n",
    "    def wave(self):\n",
    "        print('손을 흔든다')\n",
    "```\n",
    "자식 클래스의 괄호에 부모 클래스의 이름을 채워 넣으면 부모 클래스를 상속 받게 된다."
   ]
  },
  {
   "cell_type": "markdown",
   "metadata": {},
   "source": [
    "---"
   ]
  },
  {
   "cell_type": "markdown",
   "metadata": {},
   "source": [
    "```python\n",
    "class Car():\n",
    "    \n",
    "    def run(self):\n",
    "        print('차가 달립니다.')\n",
    "              \n",
    "# 아래에서 Car를 상속받는 Truck이라는 클래스를 만들고, load라는 메소드를 만들어 보세요.\n",
    "# load메소드에서는 '짐을 실었습니다.'라고 출력하면 됩니다.\n",
    "```              "
   ]
  },
  {
   "cell_type": "code",
   "execution_count": 87,
   "metadata": {},
   "outputs": [],
   "source": [
    "class Car():\n",
    "    \n",
    "    def run(self):\n",
    "        print('차가 달립니다.')\n",
    "        \n",
    "# 아래에서 Car를 상속받는 Truck이라는 클래스를 만들고, load라는 메소드를 만들어 보세요.\n",
    "# load메소드에서는 '짐을 실었습니다.'라고 출력하면 됩니다.\n",
    "\n",
    "class Truck(Car):\n",
    "    def load(self):\n",
    "        print('짐을 실었습니다.')"
   ]
  },
  {
   "cell_type": "markdown",
   "metadata": {},
   "source": [
    "---\n",
    "# 단순 오버라이드\n",
    "**오버라이드(Override)**\n",
    "* 같은 이름을 가진 메소드를 덮어 쓴다는 의미\n",
    "\n",
    "```python\n",
    "class Animal():\n",
    "    def greet(self):\n",
    "        print('인사한다)\n",
    "              \n",
    "class Human(Animal):\n",
    "    def greet(self):\n",
    "        print('손을 흔든다')\n",
    "              \n",
    "class Dog(Animal):\n",
    "    def greet(self):\n",
    "        print('꼬리를 흔든다')\n",
    "```"
   ]
  },
  {
   "cell_type": "code",
   "execution_count": 94,
   "metadata": {},
   "outputs": [
    {
     "name": "stdout",
     "output_type": "stream",
     "text": [
      "인사한다\n"
     ]
    }
   ],
   "source": [
    "class Animal():\n",
    "   \n",
    "    def walk(self):\n",
    "        print('걷는다')\n",
    "        \n",
    "    def eat(self):\n",
    "        print('먹는다')\n",
    "        \n",
    "    def greet(self):\n",
    "        print('인사한다')\n",
    "        \n",
    "class Cow(Animal):\n",
    "    '''소'''\n",
    "\n",
    "class Human(Animal):\n",
    "    \n",
    "        \n",
    "    def wave(self):\n",
    "        print('손을 흔든다')\n",
    "        \n",
    "    def greet(self):\n",
    "        self.wave() # wave method 실행 \n",
    "        \n",
    "class Dog(Animal):\n",
    "    \n",
    "        \n",
    "    def wag(self):\n",
    "        print('꼬리를 흔든다')\n",
    "        \n",
    "    def greet(self):\n",
    "        self.wag() # wag method 실행 \n",
    "        \n",
    "# person = Human()\n",
    "# person.greet()\n",
    "\n",
    "# dog = Dog()\n",
    "# dog.greet()\n",
    "\n",
    "cow = Cow()\n",
    "cow.greet() # animal에 있는 '인사한다' 가 실행된다 \n",
    "\n",
    "# 모든 동물이 같은 인사를 하지는 않는다.\n",
    "# 사람은 손을 흔들고, 강아지는 꼬리를 흔든다. \n",
    "\n",
    "# def greet 인사한다 -> 가 출력되지 않았다\n",
    "# Human과 Dog는 Animal에 상속받는 자식 클래스인데 부모의 동작을 같은 method를\n",
    "# 사용함으로써 덮어쓸 수 있다. \n",
    "# 새로운 animal 인스턴스를 만들거나 animal를 상속한 다른 클래스의 인스턴스를 만들면\n",
    "# animal의 동작이 나타난다.\n",
    "# "
   ]
  },
  {
   "cell_type": "markdown",
   "metadata": {},
   "source": [
    "---\n",
    "`Truck`클래스는 `Car`클래스의 자식클래스입니다. `Car`클래스에 정의된 run을 `Truck`클래스에서 오버라이드해서 run을 실행하면 \"트럭이 달립니다.\"라고 출력되도록 만들어 보세요.\n"
   ]
  },
  {
   "cell_type": "markdown",
   "metadata": {},
   "source": [
    "오버라이드란 같은 이름을 가진 메소드를 엎어 쓴다는 의미입니다. 예를 들어,\n",
    "```python\n",
    "class Animal():\n",
    "    def greet(self):\n",
    "        print('인사한다')\n",
    "        \n",
    "class Human(Animal):\n",
    "    def greet(self):\n",
    "        print('손을 흔든다')\n",
    "        \n",
    "class Dog(Animal):\n",
    "    def greet(self):\n",
    "        print('꼬리를 흔든다')\n",
    "```\n",
    "이 때, Human과 Dog의 greet메소드는 부모의 greet메소드를 오버라이드 했다고 할 수 있습니다."
   ]
  },
  {
   "cell_type": "markdown",
   "metadata": {},
   "source": [
    "---\n",
    "```python\n",
    "class Car():\n",
    "    def run(self):\n",
    "        print('차가 달립니다.')\n",
    "        \n",
    "class Truck(Car):\n",
    "    def load(self):\n",
    "        print('짐을 실었습니다.')\n",
    "    # 이 아래에서 run 메소드를 오버라이드 하세요.\n",
    "    \n",
    "truck = Truck()\n",
    "truck.run()\n",
    "```"
   ]
  },
  {
   "cell_type": "markdown",
   "metadata": {},
   "source": [
    "----"
   ]
  },
  {
   "cell_type": "code",
   "execution_count": 105,
   "metadata": {},
   "outputs": [
    {
     "name": "stdout",
     "output_type": "stream",
     "text": [
      "트럭이 달립니다.\n"
     ]
    }
   ],
   "source": [
    "class Car():\n",
    "    def run(self):\n",
    "        print('차가 달립니다.')\n",
    "        \n",
    "class Truck(Car):\n",
    "    def load(Self):\n",
    "        print('짐을 실었습니다.')\n",
    "    # 이 아래에서 run 메소르를 오버라이드 하세요.\n",
    "    def abc(self):\n",
    "        print('트럭이 달립니다.')\n",
    "        \n",
    "    def run(self):\n",
    "        self.abc()\n",
    "     \n",
    "truck = Truck()\n",
    "truck.run()"
   ]
  },
  {
   "cell_type": "markdown",
   "metadata": {},
   "source": [
    "---"
   ]
  },
  {
   "cell_type": "markdown",
   "metadata": {},
   "source": [
    "# Super()\n",
    "**super()**\n",
    "* 자식클래스에서 부모클래스의 내용을 사용하고 싶은 경우\n",
    "* super(). 부모클래스 내용\n",
    "\n",
    "```python\n",
    "class Animal():\n",
    "    def __init__(self, name):\n",
    "        self.name = name\n",
    "        \n",
    "class Human(Animal):\n",
    "    def __init__(self, name, hand):\n",
    "        super().__init__(name) # 부모클래스의 __init__ 메소드 호출\n",
    "        self.hand = hand\n",
    "        \n",
    "person = Human('사람', '오른손')\n",
    "```"
   ]
  },
  {
   "cell_type": "code",
   "execution_count": 128,
   "metadata": {},
   "outputs": [
    {
     "name": "stdout",
     "output_type": "stream",
     "text": [
      "오른손을 흔들면서\n",
      "사람이/가 인사한다\n"
     ]
    }
   ],
   "source": [
    "class Animal():\n",
    "    def __init__(self, name):\n",
    "        self.name = name\n",
    "        \n",
    "    def walk(self):\n",
    "        print('걷는다')\n",
    "        \n",
    "    def eat(self):\n",
    "        print('먹는다')\n",
    "        \n",
    "    def greet(self):\n",
    "        print('{}이/가 인사한다'.format(self.name))\n",
    "        \n",
    "class Human(Animal):\n",
    "    def __init__(self, name, hand):\n",
    "        super().__init__(name) # 이름과 관련된 부분은 부모가 처리하게 한다. \n",
    "        self.hand = hand # 나는 hand 관련된 것만 처리한다 # Human클래스에서 처리\n",
    "    \n",
    "    def wave(self):\n",
    "        print('{}을 흔들면서'.format(self.hand))\n",
    "        \n",
    "    def greet(self):\n",
    "        self.wave()\n",
    "        super().greet()\n",
    "        \n",
    "person = Human('사람', '오른손')\n",
    "person.greet()\n",
    "        "
   ]
  },
  {
   "cell_type": "markdown",
   "metadata": {},
   "source": [
    "---\n",
    "`Truck`클래스는 `Car`클래스의 상속을 받는 자식클래스입니다. `Truck`클래스의  \n",
    "__init__ 에서 name, capacity(몇톤트럭인지)를 입력받아 인스턴스의 값으로 저장하세요.(단, `Truck`클래스의 __init__ 에서 name을 설정하는 부분은 `super()`를 이용해서 처리하도록 만드세요.)"
   ]
  },
  {
   "cell_type": "markdown",
   "metadata": {},
   "source": [
    "---"
   ]
  },
  {
   "cell_type": "markdown",
   "metadata": {},
   "source": [
    "```python\n",
    "class Car():\n",
    "    \n",
    "    def __init__(self, name):\n",
    "        self.name = name\n",
    "    \n",
    "    def run(self):\n",
    "        print(\"차가 달립니다.\")\n",
    "\n",
    "\n",
    "class Truck(Car):\n",
    "    # 이 아래에서 __init__ 메소드를 오버라이드 하세요.\n",
    "    \n",
    "    def load(self):\n",
    "        print(\"짐을 실었습니다.\")\n",
    "```"
   ]
  },
  {
   "cell_type": "code",
   "execution_count": 121,
   "metadata": {},
   "outputs": [
    {
     "name": "stdout",
     "output_type": "stream",
     "text": [
      "트럭이 3톤의\n",
      "짐을 실었습니다.\n"
     ]
    }
   ],
   "source": [
    "class Car():\n",
    "    def __init__(self, name):\n",
    "        self.name = name\n",
    "        \n",
    "    def run(self):\n",
    "        print('차가 달립니다.')\n",
    "        \n",
    "class Truck(Car):\n",
    "    # 이 아래에서 __init__ 메소드를 오버라이드 하세요.\n",
    "    def __init__(self, name, capacity):\n",
    "        super().__init__(name)\n",
    "        self.capacity = capacity\n",
    "    \n",
    "    def abc(self):\n",
    "        print(\"{}이 {}톤의\".format(self.name, self.capacity))\n",
    "        \n",
    "    def load(self):\n",
    "        print(\"짐을 실었습니다.\")\n",
    "\n",
    "car = Truck(\"트럭\", 3)\n",
    "car.abc()\n",
    "car.load()"
   ]
  },
  {
   "cell_type": "code",
   "execution_count": 123,
   "metadata": {},
   "outputs": [
    {
     "name": "stdout",
     "output_type": "stream",
     "text": [
      "트럭이 3톤의\n",
      "짐을 실었습니다.\n"
     ]
    }
   ],
   "source": [
    "class Car():\n",
    "    def __init__(self, name):\n",
    "        self.name = name\n",
    "        \n",
    "    def run(self):\n",
    "        print('차가 달립니다.')\n",
    "        \n",
    "    def load(self):\n",
    "        print('짐을 실었습니다.')\n",
    "        \n",
    "class Truck(Car):\n",
    "    # 이 아래에서 __init__ 메소드를 오버라이드 하세요.\n",
    "    def __init__(self, name, capacity):\n",
    "        super().__init__(name)\n",
    "        self.capacity = capacity\n",
    "    \n",
    "    def abc(self):\n",
    "        print(\"{}이 {}톤의\".format(self.name, self.capacity))\n",
    "        \n",
    "    def load(self):\n",
    "        super().load()\n",
    "        \n",
    "        \n",
    "car = Truck(\"트럭\", 3)\n",
    "car.abc()\n",
    "car.load()"
   ]
  },
  {
   "cell_type": "markdown",
   "metadata": {},
   "source": [
    "---\n",
    "# 내 예외 만들기\n",
    "**예외 정의**\n",
    "* 사용자가 직접 예외처리를 하면 코드의 직관성을 높일 수 있다.\n",
    "* 파일을 하나 만들어 예외를 정의\n",
    "* Exception 클래스를 상속받아 만든다.\n",
    "\n",
    "```python\n",
    "try:\n",
    "    sign_up()\n",
    "except BadUserName:\n",
    "    print('이름으로 사용할 수 없는 입력')\n",
    "except PasswordNotmatched:\n",
    "    print('입력한 패스워드 불일치)\n",
    "```"
   ]
  },
  {
   "cell_type": "code",
   "execution_count": 136,
   "metadata": {},
   "outputs": [
    {
     "name": "stdout",
     "output_type": "stream",
     "text": [
      "에러가 발생했습니다.\n"
     ]
    }
   ],
   "source": [
    "value = '가'\n",
    "try:\n",
    "    if value not in ['가위', '바위', '보']:\n",
    "        raise ValueError('가위바위보 중에 하나의 값이어야 합니다.')\n",
    "        \n",
    "except ValueError:\n",
    "    print('에러가 발생했습니다.')"
   ]
  },
  {
   "cell_type": "code",
   "execution_count": 137,
   "metadata": {},
   "outputs": [],
   "source": [
    "def sign_up():\n",
    "    '''회원가입 함수'''\n",
    "    \n",
    "try:\n",
    "    sign_up()\n",
    "    \n",
    "except BadUserName:\n",
    "    print('이름으로 사용할 수 없는 입력입니다.')\n",
    "except PasswordNotMatched:\n",
    "    print('입력한 패스워드가 서로 일치하지 않습니다.')"
   ]
  },
  {
   "cell_type": "markdown",
   "metadata": {},
   "source": [
    "---\n",
    "다음 코드는 문구점 3곳을 검사하면서 풀이 있으면 문구점의 이름과 가격을 출력하고 `MyException`을 raise해서 즉시 for in문 전체를 종료합니다. 코드의 2번째 줄에 `Exception`클래스를 상속받는 `MyException`이라는 예외 클래스를 만들어 보세요."
   ]
  },
  {
   "cell_type": "markdown",
   "metadata": {},
   "source": [
    "---\n",
    "```python\n",
    "class BadUserName(Exception):             # 이름에 대한 예외처리\n",
    "class PasswordNotMatched(Exception):      # 패스워드에 대한 예외처리\n",
    "\n",
    "try:\n",
    "    sign_up( )\n",
    "except BadUserName:\n",
    "    print( \"이름으로 사용할 수 없는 입력\" )\n",
    "except PasswordNotMatched:\n",
    "    print( \"입력한 패스워드 불일치\")\n",
    "```\n",
    "---"
   ]
  },
  {
   "cell_type": "markdown",
   "metadata": {},
   "source": [
    "```python\n",
    "# 이 아래에 Exception을 상속 받는 MyException클래스를 정의하세요.\n",
    "\n",
    "shops = {\n",
    "    \"송일문방구\": {\"가위\": 500, \"크레파스\": 3000},\n",
    "    \"알파문구\": {\"풀\": 800, \"도화지\": 300, \"A4용지\": 8000},\n",
    "    \"다이소\": {\"풀\": 500, \"목공본드\": 2000, \"화분\": 3000}\n",
    "}\n",
    "\n",
    "try:\n",
    "    for shop, products in shops.items():\n",
    "        for product, price in products.items():\n",
    "            if product == '풀':\n",
    "                print(\"{}: {}원\".format(shop, price))\n",
    "                raise MyException\n",
    "except MyException:\n",
    "    print(\"풀을 찾았습니다.\")\n",
    "```"
   ]
  },
  {
   "cell_type": "code",
   "execution_count": 140,
   "metadata": {},
   "outputs": [
    {
     "name": "stdout",
     "output_type": "stream",
     "text": [
      "알파문구: 800원\n",
      "풀을 찾았습니다.\n"
     ]
    }
   ],
   "source": [
    "# 이 아래에 Exception을 상속 받는 MyException클래스를 정의하세요.\n",
    "class MyException(Exception):\n",
    "    pass\n",
    "shops = {\n",
    "    \"송일문방구\": {\"가위\": 500, \"크레파스\": 3000},\n",
    "    \"알파문구\": {\"풀\": 800, \"도화지\": 300, \"A4용지\": 8000},\n",
    "    \"다이소\": {\"풀\": 500, \"목공본드\": 2000, \"화분\": 3000}\n",
    "}\n",
    "\n",
    "try:\n",
    "    for shop, products in shops.items():\n",
    "        for product, price in products.items():\n",
    "            if product == '풀':\n",
    "                print(\"{}: {}원\".format(shop, price))\n",
    "                raise MyException\n",
    "except MyException:\n",
    "    print(\"풀을 찾았습니다.\")"
   ]
  },
  {
   "cell_type": "markdown",
   "metadata": {},
   "source": [
    "---\n",
    "# Part 17. Comprehension"
   ]
  },
  {
   "cell_type": "markdown",
   "metadata": {},
   "source": [
    "# List\n",
    "**List Comprehension**\n",
    "* 파이썬의 유용한 도구\n",
    "    * 예1 `[i*i for i in range(1, 11)] # [계산식 for문]`\n",
    "    * 예2 `[i*i for i in range(1, 11)] if i % 2 == 0] [계산식 for문 조건문]`\n",
    "    * 예3 `[(x, y) for x in range(15) for y in range(15)] # [계산식 for문 for문]`"
   ]
  },
  {
   "cell_type": "code",
   "execution_count": 145,
   "metadata": {},
   "outputs": [
    {
     "name": "stdout",
     "output_type": "stream",
     "text": [
      "areas: [4, 16, 36, 64, 100]\n"
     ]
    }
   ],
   "source": [
    "# 길이가 1 ~ 10인 정사각형의 넓이를 요소로 가지는 리스트 Ver 1.\n",
    "areas = []\n",
    "for i in range(1, 11):\n",
    "    if i % 2 == 0:\n",
    "        areas = areas + [i * i]\n",
    "    \n",
    "print('areas:', areas)"
   ]
  },
  {
   "cell_type": "code",
   "execution_count": 146,
   "metadata": {},
   "outputs": [
    {
     "name": "stdout",
     "output_type": "stream",
     "text": [
      "areas2: [4, 16, 36, 64, 100]\n"
     ]
    }
   ],
   "source": [
    "# 길이가 1 ~ 10인 정사각형의 넓이를 요소로 가지는 리스트 Ver 1.\n",
    "areas2 = [i * i for i in range(1, 11) if i % 2 == 0]\n",
    "print('areas2:', areas2)\n",
    "\n",
    "# for문을 돌면서 i를 하나씩 가져오고 가져온 i를 원하는대로 계산을 해서 리스트에 넣는 방식"
   ]
  },
  {
   "cell_type": "code",
   "execution_count": 147,
   "metadata": {},
   "outputs": [
    {
     "data": {
      "text/plain": [
       "[(0, 0),\n",
       " (0, 1),\n",
       " (0, 2),\n",
       " (0, 3),\n",
       " (0, 4),\n",
       " (0, 5),\n",
       " (0, 6),\n",
       " (0, 7),\n",
       " (0, 8),\n",
       " (0, 9),\n",
       " (0, 10),\n",
       " (0, 11),\n",
       " (0, 12),\n",
       " (0, 13),\n",
       " (0, 14),\n",
       " (1, 0),\n",
       " (1, 1),\n",
       " (1, 2),\n",
       " (1, 3),\n",
       " (1, 4),\n",
       " (1, 5),\n",
       " (1, 6),\n",
       " (1, 7),\n",
       " (1, 8),\n",
       " (1, 9),\n",
       " (1, 10),\n",
       " (1, 11),\n",
       " (1, 12),\n",
       " (1, 13),\n",
       " (1, 14),\n",
       " (2, 0),\n",
       " (2, 1),\n",
       " (2, 2),\n",
       " (2, 3),\n",
       " (2, 4),\n",
       " (2, 5),\n",
       " (2, 6),\n",
       " (2, 7),\n",
       " (2, 8),\n",
       " (2, 9),\n",
       " (2, 10),\n",
       " (2, 11),\n",
       " (2, 12),\n",
       " (2, 13),\n",
       " (2, 14),\n",
       " (3, 0),\n",
       " (3, 1),\n",
       " (3, 2),\n",
       " (3, 3),\n",
       " (3, 4),\n",
       " (3, 5),\n",
       " (3, 6),\n",
       " (3, 7),\n",
       " (3, 8),\n",
       " (3, 9),\n",
       " (3, 10),\n",
       " (3, 11),\n",
       " (3, 12),\n",
       " (3, 13),\n",
       " (3, 14),\n",
       " (4, 0),\n",
       " (4, 1),\n",
       " (4, 2),\n",
       " (4, 3),\n",
       " (4, 4),\n",
       " (4, 5),\n",
       " (4, 6),\n",
       " (4, 7),\n",
       " (4, 8),\n",
       " (4, 9),\n",
       " (4, 10),\n",
       " (4, 11),\n",
       " (4, 12),\n",
       " (4, 13),\n",
       " (4, 14),\n",
       " (5, 0),\n",
       " (5, 1),\n",
       " (5, 2),\n",
       " (5, 3),\n",
       " (5, 4),\n",
       " (5, 5),\n",
       " (5, 6),\n",
       " (5, 7),\n",
       " (5, 8),\n",
       " (5, 9),\n",
       " (5, 10),\n",
       " (5, 11),\n",
       " (5, 12),\n",
       " (5, 13),\n",
       " (5, 14),\n",
       " (6, 0),\n",
       " (6, 1),\n",
       " (6, 2),\n",
       " (6, 3),\n",
       " (6, 4),\n",
       " (6, 5),\n",
       " (6, 6),\n",
       " (6, 7),\n",
       " (6, 8),\n",
       " (6, 9),\n",
       " (6, 10),\n",
       " (6, 11),\n",
       " (6, 12),\n",
       " (6, 13),\n",
       " (6, 14),\n",
       " (7, 0),\n",
       " (7, 1),\n",
       " (7, 2),\n",
       " (7, 3),\n",
       " (7, 4),\n",
       " (7, 5),\n",
       " (7, 6),\n",
       " (7, 7),\n",
       " (7, 8),\n",
       " (7, 9),\n",
       " (7, 10),\n",
       " (7, 11),\n",
       " (7, 12),\n",
       " (7, 13),\n",
       " (7, 14),\n",
       " (8, 0),\n",
       " (8, 1),\n",
       " (8, 2),\n",
       " (8, 3),\n",
       " (8, 4),\n",
       " (8, 5),\n",
       " (8, 6),\n",
       " (8, 7),\n",
       " (8, 8),\n",
       " (8, 9),\n",
       " (8, 10),\n",
       " (8, 11),\n",
       " (8, 12),\n",
       " (8, 13),\n",
       " (8, 14),\n",
       " (9, 0),\n",
       " (9, 1),\n",
       " (9, 2),\n",
       " (9, 3),\n",
       " (9, 4),\n",
       " (9, 5),\n",
       " (9, 6),\n",
       " (9, 7),\n",
       " (9, 8),\n",
       " (9, 9),\n",
       " (9, 10),\n",
       " (9, 11),\n",
       " (9, 12),\n",
       " (9, 13),\n",
       " (9, 14),\n",
       " (10, 0),\n",
       " (10, 1),\n",
       " (10, 2),\n",
       " (10, 3),\n",
       " (10, 4),\n",
       " (10, 5),\n",
       " (10, 6),\n",
       " (10, 7),\n",
       " (10, 8),\n",
       " (10, 9),\n",
       " (10, 10),\n",
       " (10, 11),\n",
       " (10, 12),\n",
       " (10, 13),\n",
       " (10, 14),\n",
       " (11, 0),\n",
       " (11, 1),\n",
       " (11, 2),\n",
       " (11, 3),\n",
       " (11, 4),\n",
       " (11, 5),\n",
       " (11, 6),\n",
       " (11, 7),\n",
       " (11, 8),\n",
       " (11, 9),\n",
       " (11, 10),\n",
       " (11, 11),\n",
       " (11, 12),\n",
       " (11, 13),\n",
       " (11, 14),\n",
       " (12, 0),\n",
       " (12, 1),\n",
       " (12, 2),\n",
       " (12, 3),\n",
       " (12, 4),\n",
       " (12, 5),\n",
       " (12, 6),\n",
       " (12, 7),\n",
       " (12, 8),\n",
       " (12, 9),\n",
       " (12, 10),\n",
       " (12, 11),\n",
       " (12, 12),\n",
       " (12, 13),\n",
       " (12, 14),\n",
       " (13, 0),\n",
       " (13, 1),\n",
       " (13, 2),\n",
       " (13, 3),\n",
       " (13, 4),\n",
       " (13, 5),\n",
       " (13, 6),\n",
       " (13, 7),\n",
       " (13, 8),\n",
       " (13, 9),\n",
       " (13, 10),\n",
       " (13, 11),\n",
       " (13, 12),\n",
       " (13, 13),\n",
       " (13, 14),\n",
       " (14, 0),\n",
       " (14, 1),\n",
       " (14, 2),\n",
       " (14, 3),\n",
       " (14, 4),\n",
       " (14, 5),\n",
       " (14, 6),\n",
       " (14, 7),\n",
       " (14, 8),\n",
       " (14, 9),\n",
       " (14, 10),\n",
       " (14, 11),\n",
       " (14, 12),\n",
       " (14, 13),\n",
       " (14, 14)]"
      ]
     },
     "execution_count": 147,
     "metadata": {},
     "output_type": "execute_result"
    }
   ],
   "source": [
    "# for문 중첩\n",
    "# 길이가 15 * 15\n",
    "[(x, y) for x in range(15) for y in range(15)]"
   ]
  },
  {
   "cell_type": "markdown",
   "metadata": {},
   "source": [
    "---\n",
    "`list comprehension`을 이용해서 list1이 1부터 100사이의 8의 배수를 가지도록 만들어보세요."
   ]
  },
  {
   "cell_type": "markdown",
   "metadata": {},
   "source": [
    "---"
   ]
  },
  {
   "cell_type": "markdown",
   "metadata": {},
   "source": [
    "```python\n",
    "areas1 = [ i*i for i in range(1,11) ]                          # [ 계산식 for문 ]\n",
    "areas2 = [ i*i for i in range(1,11) if i % 2 == 0]             # [ 계산식 for문 조건문 ]\n",
    "areas3 = [ ( x, y ) for x in range(15) for y in range(15) ]    # [ 계산식 for문 for문 ]\n",
    "```"
   ]
  },
  {
   "cell_type": "markdown",
   "metadata": {},
   "source": [
    "---\n",
    "```python\n",
    "list1 = \n",
    "\n",
    "\n",
    "print('list1 : ', list1)\n",
    "```"
   ]
  },
  {
   "cell_type": "code",
   "execution_count": 153,
   "metadata": {},
   "outputs": [
    {
     "name": "stdout",
     "output_type": "stream",
     "text": [
      "list1 :  [8, 16, 24, 32, 40, 48, 56, 64, 72, 80, 88, 96]\n"
     ]
    }
   ],
   "source": [
    "list1 = [i for i in range(1, 101) if i % 8 == 0]\n",
    "print('list1 : ', list1)"
   ]
  },
  {
   "cell_type": "code",
   "execution_count": 154,
   "metadata": {},
   "outputs": [
    {
     "name": "stdout",
     "output_type": "stream",
     "text": [
      "list1 :  [8, 16, 24, 32, 40, 48, 56, 64, 72, 80, 88, 96]\n"
     ]
    }
   ],
   "source": [
    "list1 = [i * 8 for i in range(1, 100 // 8 + 1)]\n",
    "print('list1 : ', list1)"
   ]
  },
  {
   "cell_type": "markdown",
   "metadata": {},
   "source": [
    "---\n",
    "# Dictionary\n",
    "**Dictionary Comprehension**\n",
    "* 파이썬의 유용한 도구\n",
    "* 예시\n",
    "    * `{\"{}번\".format(number):name for number, name in enumerate(students)} # [형식 for문]`\n",
    "    * `{student:score for student, score in zip(students, scores)}`"
   ]
  },
  {
   "cell_type": "code",
   "execution_count": 157,
   "metadata": {},
   "outputs": [
    {
     "name": "stdout",
     "output_type": "stream",
     "text": [
      "0번의 이름은 태연입니다.\n",
      "1번의 이름은 윤아입니다.\n",
      "2번의 이름은 정연입니다.\n",
      "3번의 이름은 나라입니다.\n",
      "4번의 이름은 사나입니다.\n"
     ]
    }
   ],
   "source": [
    "# 리스트에 한 반에 학생들이 번호 순서대로 있다\n",
    "students = ['태연', '윤아', '정연', '나라', '사나']\n",
    "for number, name in enumerate(students):\n",
    "    print(\"{}번의 이름은 {}입니다.\".format(number, name))"
   ]
  },
  {
   "cell_type": "code",
   "execution_count": 183,
   "metadata": {},
   "outputs": [
    {
     "name": "stdout",
     "output_type": "stream",
     "text": [
      "{'1번': '태연', '2번': '진우', '3번': '정현', '4번': '하늘', '5번': '성진'}\n"
     ]
    }
   ],
   "source": [
    "students_dict = {\"{}번\".format(number + 1): name for number, name in enumerate(students)}\n",
    "print(students_dict)\n",
    "\n",
    "# number, name을 enumerate에서 가져와서 key는 {{}번\".format(number + 1)}\n",
    "# 이러한 형식으로 만들어 놓고 number에 1을 더해서 몇번인지를 key로 만들고 이름을 값으로 넣어준다 "
   ]
  },
  {
   "cell_type": "code",
   "execution_count": 177,
   "metadata": {},
   "outputs": [
    {
     "name": "stdout",
     "output_type": "stream",
     "text": [
      "태연 85\n",
      "윤아 92\n",
      "정연 78\n",
      "나라 90\n",
      "사나 100\n"
     ]
    }
   ],
   "source": [
    "scores = [85, 92, 78, 90, 100]\n",
    "for x, y in zip(students, scores):\n",
    "    print(x, y)"
   ]
  },
  {
   "cell_type": "code",
   "execution_count": 178,
   "metadata": {},
   "outputs": [
    {
     "name": "stdout",
     "output_type": "stream",
     "text": [
      "{'태연': 85, '윤아': 92, '정연': 78, '나라': 90, '사나': 100}\n"
     ]
    }
   ],
   "source": [
    "score_dict = {student : score for student, score in zip(students, scores)}\n",
    "print(score_dict)\n",
    "\n",
    "# 처음의 데이터는 scores, students 순이었다\n",
    "# 이것을 zip으로 묶어주고 for xx in xx 문으로 던져준다. -> for student, score in zip\n",
    "# 그것을 받아와서 dictionary에서 Key 와 값으로 넣어준 것이다. -> student, score"
   ]
  },
  {
   "cell_type": "markdown",
   "metadata": {},
   "source": [
    "----\n",
    "`product_list`에는 상품의 목록이 들어있고, `price_list`에는 각 상품의 가격이 순서대로 들어있습니다. 딕셔너리 컴프리헨션을 이용해서 `product_dict`를 상품의 이름을 키로 가지고, 가격을 값으로 가지는 딕셔너리로 만들어보세요."
   ]
  },
  {
   "cell_type": "markdown",
   "metadata": {},
   "source": [
    "---\n",
    "Dictionary Comprehension을 이용한 문제이다.\n",
    "```python\n",
    "students = [\"태연\", \"진우\", \"정현\", \"하늘\", \"성진\"]\n",
    "{\"{}번\".format(number):name for number, name in enumerate(students)}\n",
    "    # {'2번': '정현', '0번': '태연', '1번': '진우', '4번': '성진', '3번': '하늘'}\n",
    "```"
   ]
  },
  {
   "cell_type": "markdown",
   "metadata": {},
   "source": [
    "---\n",
    "```python\n",
    "students = [\"태연\", \"진우\", \"정현\", \"하늘\", \"성진\"]\n",
    "scores = [85, 92, 78, 90, 100]\n",
    "result = {x : y for x, y in zip(students, scores)}\n",
    "    # {'성진': 100, '진우': 92, '하늘': 90, '태연': 85, '정현': 78}\n",
    "```"
   ]
  },
  {
   "cell_type": "markdown",
   "metadata": {},
   "source": [
    "`zip`은 두 개 이상의 리스트나 스트링을 받아서 인덱스에 맞게 자료를 묶어주는 역할을 한다."
   ]
  },
  {
   "cell_type": "markdown",
   "metadata": {},
   "source": [
    "----\n",
    "```python\n",
    "product_list = ['풀', '가위', '크래파스']\n",
    "price_list = [800, 2500, 5000]\n",
    "product_dict = \n",
    "\n",
    "print(product_dict)\n",
    "```"
   ]
  },
  {
   "cell_type": "code",
   "execution_count": 179,
   "metadata": {},
   "outputs": [
    {
     "name": "stdout",
     "output_type": "stream",
     "text": [
      "{'풀': 800, '가위': 2500, '크래파스': 5000}\n"
     ]
    }
   ],
   "source": [
    "product_list = ['풀', '가위', '크래파스']\n",
    "price_list = [800, 2500, 5000]\n",
    "product_dict = {product : price for product, price in zip(product_list, price_list)}\n",
    "\n",
    "print(product_dict)"
   ]
  },
  {
   "cell_type": "markdown",
   "metadata": {},
   "source": [
    "---\n",
    "# Part 18. 날짜와 시간"
   ]
  },
  {
   "cell_type": "markdown",
   "metadata": {},
   "source": [
    "# datetime\n",
    "**datetime 모듈**\n",
    "* 날짜와 시간을 사용하게 해주는 라이브러리"
   ]
  },
  {
   "cell_type": "code",
   "execution_count": 194,
   "metadata": {},
   "outputs": [],
   "source": [
    "import datetime"
   ]
  },
  {
   "cell_type": "code",
   "execution_count": 195,
   "metadata": {},
   "outputs": [
    {
     "data": {
      "text/plain": [
       "datetime.datetime(2020, 2, 28, 0, 20, 31, 409325)"
      ]
     },
     "execution_count": 195,
     "metadata": {},
     "output_type": "execute_result"
    }
   ],
   "source": [
    "datetime.datetime.now()\n",
    "# datetime 이라는 클래스가 있다. \n",
    "# (x, x, x, x, x, x, x) = (년, 월, 일, 시, 분, 초, 마이크로)"
   ]
  },
  {
   "cell_type": "code",
   "execution_count": 196,
   "metadata": {},
   "outputs": [],
   "source": [
    "start_time = datetime.datetime.now()"
   ]
  },
  {
   "cell_type": "code",
   "execution_count": 199,
   "metadata": {},
   "outputs": [
    {
     "data": {
      "text/plain": [
       "datetime.datetime"
      ]
     },
     "execution_count": 199,
     "metadata": {},
     "output_type": "execute_result"
    }
   ],
   "source": [
    "type(start_time)"
   ]
  },
  {
   "cell_type": "code",
   "execution_count": 202,
   "metadata": {},
   "outputs": [
    {
     "data": {
      "text/plain": [
       "datetime.datetime(2017, 2, 1, 0, 31, 29, 109297)"
      ]
     },
     "execution_count": 202,
     "metadata": {},
     "output_type": "execute_result"
    }
   ],
   "source": [
    "# replace 라는 메소드가 있다. \n",
    "# 가지고 있는 날짜와 시간에 대한 값을 바꿀 수 있는 메소드이다. \n",
    "start_time = start_time.replace(year = 2017, month = 2, day = 1)\n",
    "start_time\n",
    "# 자기자신을 변경하려면 별도로 지정 "
   ]
  },
  {
   "cell_type": "code",
   "execution_count": 211,
   "metadata": {},
   "outputs": [
    {
     "data": {
      "text/plain": [
       "datetime.datetime(2016, 2, 1, 0, 0)"
      ]
     },
     "execution_count": 211,
     "metadata": {},
     "output_type": "execute_result"
    }
   ],
   "source": [
    "import datetime\n",
    "start_time = datetime.datetime(2016, 2, 1)\n",
    "start_time"
   ]
  },
  {
   "cell_type": "code",
   "execution_count": 212,
   "metadata": {},
   "outputs": [
    {
     "data": {
      "text/plain": [
       "datetime.timedelta"
      ]
     },
     "execution_count": 212,
     "metadata": {},
     "output_type": "execute_result"
    }
   ],
   "source": [
    "how_long = start_time - datetime.datetime.now()\n",
    "type(how_long)\n",
    "# timedelta = days 와 seconds 로 남은 시간 계산 가능"
   ]
  },
  {
   "cell_type": "code",
   "execution_count": 213,
   "metadata": {},
   "outputs": [
    {
     "data": {
      "text/plain": [
       "-1489"
      ]
     },
     "execution_count": 213,
     "metadata": {},
     "output_type": "execute_result"
    }
   ],
   "source": [
    "how_long.days"
   ]
  },
  {
   "cell_type": "code",
   "execution_count": 214,
   "metadata": {},
   "outputs": [
    {
     "data": {
      "text/plain": [
       "83858"
      ]
     },
     "execution_count": 214,
     "metadata": {},
     "output_type": "execute_result"
    }
   ],
   "source": [
    "how_long.seconds"
   ]
  },
  {
   "cell_type": "code",
   "execution_count": 215,
   "metadata": {},
   "outputs": [
    {
     "data": {
      "text/plain": [
       "'2월 1일 까지는 -1489일 23시간이 남았습니다.'"
      ]
     },
     "execution_count": 215,
     "metadata": {},
     "output_type": "execute_result"
    }
   ],
   "source": [
    "\"2월 1일 까지는 {}일 {}시간이 남았습니다.\".format(how_long.days, how_long.seconds//3600)"
   ]
  },
  {
   "cell_type": "markdown",
   "metadata": {},
   "source": [
    "---\n",
    "`christmas_2016`이 2016년 12월 25일을 값으로 가지는 `datetime`클래스의 인스턴스가 되도록 만들어 보세요."
   ]
  },
  {
   "cell_type": "markdown",
   "metadata": {},
   "source": [
    "---\n",
    "`datetime`은 날짜와 시간을 사용 할 수 있게 해주는 라이브러리입니다.  \n",
    "원하는 날짜와 시간을 인스턴스를 만들기 위해서는 아래의 예와 같이 사용합니다.\n",
    "```python\n",
    "start_time = datetime.datetime(2016, 2, 1)\n",
    "```"
   ]
  },
  {
   "cell_type": "markdown",
   "metadata": {},
   "source": [
    "---\n",
    "```python\n",
    "import datetime\n",
    "\n",
    "christmas_2016 = \n",
    "\n",
    "print(christmas_2016)\n",
    "```"
   ]
  },
  {
   "cell_type": "code",
   "execution_count": 216,
   "metadata": {},
   "outputs": [
    {
     "name": "stdout",
     "output_type": "stream",
     "text": [
      "2016-12-25 00:00:00\n"
     ]
    }
   ],
   "source": [
    "import datetime\n",
    "\n",
    "christmas_2016 = datetime.datetime(2016, 12, 25)\n",
    "\n",
    "print(christmas_2016)"
   ]
  },
  {
   "cell_type": "markdown",
   "metadata": {},
   "source": [
    "---\n",
    "코드의 5번째 줄을 수정해서 `days_until_christmas`함수가 오늘부터 2030년 12월 25일 사이에 몇일이 있는지를 리턴하도록 만들어 보세요.  \n",
    "(단, 시간단위는 고려하지 마세요.)"
   ]
  },
  {
   "cell_type": "markdown",
   "metadata": {},
   "source": [
    "---\n",
    "datetime은 `-`연산을 지원 합니다.  \n",
    "예를 들면,\n",
    "```python\n",
    "start_time = datetime.datetime()\n",
    "how_long = start_time - datetime.datetime.now()\n",
    "```"
   ]
  },
  {
   "cell_type": "markdown",
   "metadata": {},
   "source": [
    "이처럼, `-`연산을 이용해 `start_time`으로부터 `how_long`까지 얼마나 남았는지 구할 수 있습니다."
   ]
  },
  {
   "cell_type": "markdown",
   "metadata": {},
   "source": [
    "---\n",
    "```python\n",
    "import datetime\n",
    "\n",
    "def days_until_christmas():\n",
    "        christmas_2030 = datetime.datetime(2030, 12, 25)\n",
    "        \n",
    "        days =\n",
    "        return days\n",
    "    \n",
    "print('{}일'.format(days_until_chritsmas()))\n",
    "```"
   ]
  },
  {
   "cell_type": "code",
   "execution_count": 227,
   "metadata": {},
   "outputs": [
    {
     "name": "stdout",
     "output_type": "stream",
     "text": [
      "3952일\n"
     ]
    }
   ],
   "source": [
    "import datetime\n",
    "\n",
    "def days_until_christmas():\n",
    "        christmas_2030 = datetime.datetime(2030, 12, 25)\n",
    "\n",
    "        days = (christmas_2030 - datetime.datetime.now()).days\n",
    "        return days\n",
    "\n",
    "print('{}일'.format(days_until_christmas()))\n",
    "\n",
    "# days의 type은 timedelta클래스이다.\n",
    "# christmas_2030 - datetime.datetime.now()는 timedelta이기 때문에 이걸\n",
    "# 날짜로 바꿔 주기 위해서는 괄호로 묶은 다음 dyas메소드를 호출해 줘야 한다."
   ]
  },
  {
   "cell_type": "markdown",
   "metadata": {},
   "source": [
    "---\n",
    "# timedelta\n",
    "**timedelta 클래스**\n",
    "* 시간의 연산을 가능하게 해주는 클래스"
   ]
  },
  {
   "cell_type": "code",
   "execution_count": 233,
   "metadata": {},
   "outputs": [
    {
     "data": {
      "text/plain": [
       "datetime.datetime(2020, 6, 7, 22, 12, 59, 354360)"
      ]
     },
     "execution_count": 233,
     "metadata": {},
     "output_type": "execute_result"
    }
   ],
   "source": [
    "import datetime\n",
    "hundred = datetime.timedelta(days = 100)\n",
    " datetime.datetime.now() + hundred"
   ]
  },
  {
   "cell_type": "code",
   "execution_count": 232,
   "metadata": {},
   "outputs": [
    {
     "data": {
      "text/plain": [
       "datetime.datetime(2019, 11, 20, 22, 12, 55, 509639)"
      ]
     },
     "execution_count": 232,
     "metadata": {},
     "output_type": "execute_result"
    }
   ],
   "source": [
    "hundred_before = datetime.timedelta(days = -100)\n",
    "datetime.datetime.now() + hundred_before\n",
    "# = datetime.datetime.now() + hundred "
   ]
  },
  {
   "cell_type": "code",
   "execution_count": 234,
   "metadata": {},
   "outputs": [],
   "source": [
    "tomorrow = datetime.datetime.now().replace(hour = 9, minute = 0, second = 0) + datetime.timedelta(days = 1)"
   ]
  },
  {
   "cell_type": "code",
   "execution_count": 235,
   "metadata": {},
   "outputs": [
    {
     "data": {
      "text/plain": [
       "datetime.datetime(2020, 2, 29, 9, 0, 0, 414912)"
      ]
     },
     "execution_count": 235,
     "metadata": {},
     "output_type": "execute_result"
    }
   ],
   "source": [
    "tomorrow\n",
    "\n",
    "# 내일 아홉시 "
   ]
  },
  {
   "cell_type": "markdown",
   "metadata": {},
   "source": [
    "---\n",
    "`hundred_after`가 지금으로부터 100일 후, 9시 정각을 값으로 가지는 `datetime`클래스의 인스턴스가 되도록 만들어 보세요. (단, 정각의 기준은 초 단위까지만 맞으면 됩니다.)\n"
   ]
  },
  {
   "cell_type": "markdown",
   "metadata": {},
   "source": [
    "---\n",
    "`timedelta`클래스를 이용하여 시간 연산을 해봅시다.\n",
    "```python\n",
    "addtime = datetime.timedelta(days = 10)\n",
    "datetime.datetime.now() + addtime    # 10일 후\n",
    "datetime.datetime.now() - addtime    # 10일 전\n",
    "\n",
    "thedate = datetime.datetime.now().replace(hour = 10, minute=0, second = 0)\n",
    "          + datetime.timedelta(days = 3)       # 3일 후 10시 정각\n",
    "```"
   ]
  },
  {
   "cell_type": "markdown",
   "metadata": {},
   "source": [
    "---\n",
    "```python\n",
    "import datetime\n",
    "\n",
    "hundred_after =\n",
    "\n",
    "print(\"{}/{}/{}  {}:{}:{}\".format(hundred_after.year,hundred_after.month, hundred_after.day, hundred_after.hour, hundred_after.minute, hundred_after.second))\n",
    "```"
   ]
  },
  {
   "cell_type": "markdown",
   "metadata": {},
   "source": [
    "---\n"
   ]
  },
  {
   "cell_type": "code",
   "execution_count": 236,
   "metadata": {},
   "outputs": [
    {
     "name": "stdout",
     "output_type": "stream",
     "text": [
      "2020/6/7  9:0:0\n"
     ]
    }
   ],
   "source": [
    "import datetime\n",
    "\n",
    "hundred_after = datetime.datetime.now().replace(hour = 9, minute = 0, second = 0) + datetime.timedelta(days = 100)\n",
    "\n",
    "print(\"{}/{}/{}  {}:{}:{}\".format(hundred_after.year,hundred_after.month, hundred_after.day, hundred_after.hour, hundred_after.minute, hundred_after.second))"
   ]
  },
  {
   "cell_type": "code",
   "execution_count": null,
   "metadata": {},
   "outputs": [],
   "source": []
  }
 ],
 "metadata": {
  "kernelspec": {
   "display_name": "Python 3",
   "language": "python",
   "name": "python3"
  },
  "language_info": {
   "codemirror_mode": {
    "name": "ipython",
    "version": 3
   },
   "file_extension": ".py",
   "mimetype": "text/x-python",
   "name": "python",
   "nbconvert_exporter": "python",
   "pygments_lexer": "ipython3",
   "version": "3.7.3"
  }
 },
 "nbformat": 4,
 "nbformat_minor": 2
}
